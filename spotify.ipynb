{
 "metadata": {
  "language_info": {
   "codemirror_mode": {
    "name": "ipython",
    "version": 3
   },
   "file_extension": ".py",
   "mimetype": "text/x-python",
   "name": "python",
   "nbconvert_exporter": "python",
   "pygments_lexer": "ipython3",
   "version": "3.8.2"
  },
  "orig_nbformat": 2,
  "kernelspec": {
   "name": "python382jvsc74a57bd08bd2b4fd213e88f0d27deee08f39a5a88374bbd03683af29047421dd5d3aea60",
   "display_name": "Python 3.8.2 64-bit ('base': conda)"
  }
 },
 "nbformat": 4,
 "nbformat_minor": 2,
 "cells": [
  {
   "cell_type": "code",
   "execution_count": null,
   "metadata": {},
   "outputs": [],
   "source": [
    "import pandas as pd\n",
    "import numpy as np\n",
    "import spotipy\n",
    "import wbpy\n",
    "from spotipy.oauth2 import SpotifyClientCredentials\n",
    "from pandas.io.json import json_normalize\n",
    "import seaborn as sns\n",
    "import matplotlib.pyplot as plt\n"
   ]
  },
  {
   "cell_type": "code",
   "execution_count": 2,
   "metadata": {},
   "outputs": [],
   "source": [
    "cid = '011724aec4a9410ab990db1b750ec743'\n",
    "secret = '0dfacc516a4f4e44952635f794a94964'\n",
    "\n",
    "client_credentials_manager = SpotifyClientCredentials(client_id=cid, client_secret=secret)\n",
    "sp = spotipy.Spotify(client_credentials_manager = client_credentials_manager)\n",
    "\n",
    "eu =['ES',\n",
    " 'FI',\n",
    " 'IE',\n",
    " 'GR',\n",
    " 'DE',\n",
    " 'DK',\n",
    " 'AT',\n",
    " 'SE',\n",
    " 'PL',\n",
    " 'LT',\n",
    " 'IT',\n",
    " 'LU',\n",
    " 'NL',\n",
    " 'EE',\n",
    " 'CZ',\n",
    " 'GB',\n",
    " 'HU',\n",
    " 'SK',\n",
    " 'BE',\n",
    " 'FR',\n",
    " 'PT',\n",
    " 'LV']"
   ]
  },
  {
   "cell_type": "code",
   "execution_count": 3,
   "metadata": {},
   "outputs": [],
   "source": [
    "df = pd.read_csv(\"/Users/cetiners/Desktop/data.csv\")"
   ]
  },
  {
   "cell_type": "code",
   "execution_count": 4,
   "metadata": {},
   "outputs": [],
   "source": [
    "df_filtered = df.loc[df.Position < 26]"
   ]
  },
  {
   "cell_type": "code",
   "execution_count": 5,
   "metadata": {},
   "outputs": [
    {
     "output_type": "stream",
     "name": "stderr",
     "text": [
      "<ipython-input-5-722c8cbd27c4>:1: SettingWithCopyWarning: \nA value is trying to be set on a copy of a slice from a DataFrame.\nTry using .loc[row_indexer,col_indexer] = value instead\n\nSee the caveats in the documentation: https://pandas.pydata.org/pandas-docs/stable/user_guide/indexing.html#returning-a-view-versus-a-copy\n  df_filtered[\"track_id\"] = df_filtered[\"URL\"].str.split(\"/\",expand=True)[4]\n"
     ]
    }
   ],
   "source": [
    "df_filtered[\"track_id\"] = df_filtered[\"URL\"].str.split(\"/\",expand=True)[4]"
   ]
  },
  {
   "cell_type": "code",
   "execution_count": 6,
   "metadata": {},
   "outputs": [],
   "source": [
    "track_ids = df_filtered[\"track_id\"].unique()"
   ]
  },
  {
   "cell_type": "code",
   "execution_count": 7,
   "metadata": {},
   "outputs": [
    {
     "output_type": "execute_result",
     "data": {
      "text/plain": [
       "array(['3AEZUABDXNtecAOSC1qTfo', '6mICuAdrwEjh6Y6lroV2Kg',\n",
       "       '3QwBODjSEzelZyVjxPOHdq', ..., '1eId3TVzGrwv73YAWAVQMX',\n",
       "       '57kbuHAxIrN3CCysKVMG93', '0e3nb2Nttd12LNBhweuNms'], dtype=object)"
      ]
     },
     "metadata": {},
     "execution_count": 7
    }
   ],
   "source": [
    "track_ids"
   ]
  },
  {
   "cell_type": "code",
   "execution_count": 8,
   "metadata": {},
   "outputs": [],
   "source": [
    "dic = {}\n",
    "for id in track_ids:\n",
    "    dic[str(id)] =  sp.audio_features(str(id))"
   ]
  },
  {
   "cell_type": "code",
   "execution_count": 9,
   "metadata": {},
   "outputs": [],
   "source": [
    "df2 = pd.DataFrame(dic).T.dropna()"
   ]
  },
  {
   "cell_type": "code",
   "execution_count": 10,
   "metadata": {},
   "outputs": [],
   "source": [
    "df2 = pd.json_normalize(df2[0])"
   ]
  },
  {
   "cell_type": "code",
   "execution_count": 11,
   "metadata": {},
   "outputs": [
    {
     "output_type": "execute_result",
     "data": {
      "text/plain": [
       "      danceability  energy  key  loudness  mode  speechiness  acousticness  \\\n",
       "0            0.761   0.838    4    -3.073     0       0.0502       0.40000   \n",
       "1            0.852   0.773    8    -2.921     0       0.0776       0.18700   \n",
       "2            0.832   0.772   10    -5.429     1       0.1000       0.05590   \n",
       "3            0.663   0.920   11    -4.070     0       0.2260       0.00431   \n",
       "4            0.508   0.687    0    -4.361     1       0.3260       0.55100   \n",
       "...            ...     ...  ...       ...   ...          ...           ...   \n",
       "2924         0.528   0.416   10    -8.492     1       0.0325       0.75600   \n",
       "2925         0.654   0.673    5    -8.035     1       0.0300       0.18900   \n",
       "2926         0.650   0.425    9    -7.816     1       0.0266       0.83400   \n",
       "2927         0.668   0.604    7    -9.755     0       0.0300       0.18700   \n",
       "2928         0.510   0.443    6   -10.095     1       0.0281       0.50400   \n",
       "\n",
       "      instrumentalness  liveness  valence    tempo            type  \\\n",
       "0             0.000000     0.176    0.710   93.974  audio_features   \n",
       "1             0.000030     0.159    0.907  102.034  audio_features   \n",
       "2             0.000486     0.440    0.704   96.016  audio_features   \n",
       "3             0.000017     0.101    0.533   99.935  audio_features   \n",
       "4             0.000003     0.126    0.555  180.044  audio_features   \n",
       "...                ...       ...      ...      ...             ...   \n",
       "2924          0.000000     0.114    0.347  139.821  audio_features   \n",
       "2925          0.000179     0.152    0.648   89.998  audio_features   \n",
       "2926          0.000000     0.120    0.403   75.988  audio_features   \n",
       "2927          0.000137     0.255    0.652   90.002  audio_features   \n",
       "2928          0.000000     0.112    0.261  139.958  audio_features   \n",
       "\n",
       "                          id                                   uri  \\\n",
       "0     3AEZUABDXNtecAOSC1qTfo  spotify:track:3AEZUABDXNtecAOSC1qTfo   \n",
       "1     6mICuAdrwEjh6Y6lroV2Kg  spotify:track:6mICuAdrwEjh6Y6lroV2Kg   \n",
       "2     3QwBODjSEzelZyVjxPOHdq  spotify:track:3QwBODjSEzelZyVjxPOHdq   \n",
       "3     7DM4BPaS7uofFul3ywMe46  spotify:track:7DM4BPaS7uofFul3ywMe46   \n",
       "4     6rQSrBHf7HlZjtcMZ4S4bO  spotify:track:6rQSrBHf7HlZjtcMZ4S4bO   \n",
       "...                      ...                                   ...   \n",
       "2924  53HxUdYRCRMdzYPG0qhGUP  spotify:track:53HxUdYRCRMdzYPG0qhGUP   \n",
       "2925  7tqVnkKyVnkqlvkm4cBBdb  spotify:track:7tqVnkKyVnkqlvkm4cBBdb   \n",
       "2926  1eId3TVzGrwv73YAWAVQMX  spotify:track:1eId3TVzGrwv73YAWAVQMX   \n",
       "2927  57kbuHAxIrN3CCysKVMG93  spotify:track:57kbuHAxIrN3CCysKVMG93   \n",
       "2928  0e3nb2Nttd12LNBhweuNms  spotify:track:0e3nb2Nttd12LNBhweuNms   \n",
       "\n",
       "                                             track_href  \\\n",
       "0     https://api.spotify.com/v1/tracks/3AEZUABDXNte...   \n",
       "1     https://api.spotify.com/v1/tracks/6mICuAdrwEjh...   \n",
       "2     https://api.spotify.com/v1/tracks/3QwBODjSEzel...   \n",
       "3     https://api.spotify.com/v1/tracks/7DM4BPaS7uof...   \n",
       "4     https://api.spotify.com/v1/tracks/6rQSrBHf7HlZ...   \n",
       "...                                                 ...   \n",
       "2924  https://api.spotify.com/v1/tracks/53HxUdYRCRMd...   \n",
       "2925  https://api.spotify.com/v1/tracks/7tqVnkKyVnkq...   \n",
       "2926  https://api.spotify.com/v1/tracks/1eId3TVzGrwv...   \n",
       "2927  https://api.spotify.com/v1/tracks/57kbuHAxIrN3...   \n",
       "2928  https://api.spotify.com/v1/tracks/0e3nb2Nttd12...   \n",
       "\n",
       "                                           analysis_url  duration_ms  \\\n",
       "0     https://api.spotify.com/v1/audio-analysis/3AEZ...       222560   \n",
       "1     https://api.spotify.com/v1/audio-analysis/6mIC...       195840   \n",
       "2     https://api.spotify.com/v1/audio-analysis/3QwB...       209453   \n",
       "3     https://api.spotify.com/v1/audio-analysis/7DM4...       259196   \n",
       "4     https://api.spotify.com/v1/audio-analysis/6rQS...       205600   \n",
       "...                                                 ...          ...   \n",
       "2924  https://api.spotify.com/v1/audio-analysis/53Hx...       267531   \n",
       "2925  https://api.spotify.com/v1/audio-analysis/7tqV...       206064   \n",
       "2926  https://api.spotify.com/v1/audio-analysis/1eId...       237733   \n",
       "2927  https://api.spotify.com/v1/audio-analysis/57kb...       209787   \n",
       "2928  https://api.spotify.com/v1/audio-analysis/0e3n...       227904   \n",
       "\n",
       "      time_signature  \n",
       "0                  4  \n",
       "1                  4  \n",
       "2                  4  \n",
       "3                  4  \n",
       "4                  4  \n",
       "...              ...  \n",
       "2924               4  \n",
       "2925               4  \n",
       "2926               4  \n",
       "2927               4  \n",
       "2928               4  \n",
       "\n",
       "[2929 rows x 18 columns]"
      ],
      "text/html": "<div>\n<style scoped>\n    .dataframe tbody tr th:only-of-type {\n        vertical-align: middle;\n    }\n\n    .dataframe tbody tr th {\n        vertical-align: top;\n    }\n\n    .dataframe thead th {\n        text-align: right;\n    }\n</style>\n<table border=\"1\" class=\"dataframe\">\n  <thead>\n    <tr style=\"text-align: right;\">\n      <th></th>\n      <th>danceability</th>\n      <th>energy</th>\n      <th>key</th>\n      <th>loudness</th>\n      <th>mode</th>\n      <th>speechiness</th>\n      <th>acousticness</th>\n      <th>instrumentalness</th>\n      <th>liveness</th>\n      <th>valence</th>\n      <th>tempo</th>\n      <th>type</th>\n      <th>id</th>\n      <th>uri</th>\n      <th>track_href</th>\n      <th>analysis_url</th>\n      <th>duration_ms</th>\n      <th>time_signature</th>\n    </tr>\n  </thead>\n  <tbody>\n    <tr>\n      <th>0</th>\n      <td>0.761</td>\n      <td>0.838</td>\n      <td>4</td>\n      <td>-3.073</td>\n      <td>0</td>\n      <td>0.0502</td>\n      <td>0.40000</td>\n      <td>0.000000</td>\n      <td>0.176</td>\n      <td>0.710</td>\n      <td>93.974</td>\n      <td>audio_features</td>\n      <td>3AEZUABDXNtecAOSC1qTfo</td>\n      <td>spotify:track:3AEZUABDXNtecAOSC1qTfo</td>\n      <td>https://api.spotify.com/v1/tracks/3AEZUABDXNte...</td>\n      <td>https://api.spotify.com/v1/audio-analysis/3AEZ...</td>\n      <td>222560</td>\n      <td>4</td>\n    </tr>\n    <tr>\n      <th>1</th>\n      <td>0.852</td>\n      <td>0.773</td>\n      <td>8</td>\n      <td>-2.921</td>\n      <td>0</td>\n      <td>0.0776</td>\n      <td>0.18700</td>\n      <td>0.000030</td>\n      <td>0.159</td>\n      <td>0.907</td>\n      <td>102.034</td>\n      <td>audio_features</td>\n      <td>6mICuAdrwEjh6Y6lroV2Kg</td>\n      <td>spotify:track:6mICuAdrwEjh6Y6lroV2Kg</td>\n      <td>https://api.spotify.com/v1/tracks/6mICuAdrwEjh...</td>\n      <td>https://api.spotify.com/v1/audio-analysis/6mIC...</td>\n      <td>195840</td>\n      <td>4</td>\n    </tr>\n    <tr>\n      <th>2</th>\n      <td>0.832</td>\n      <td>0.772</td>\n      <td>10</td>\n      <td>-5.429</td>\n      <td>1</td>\n      <td>0.1000</td>\n      <td>0.05590</td>\n      <td>0.000486</td>\n      <td>0.440</td>\n      <td>0.704</td>\n      <td>96.016</td>\n      <td>audio_features</td>\n      <td>3QwBODjSEzelZyVjxPOHdq</td>\n      <td>spotify:track:3QwBODjSEzelZyVjxPOHdq</td>\n      <td>https://api.spotify.com/v1/tracks/3QwBODjSEzel...</td>\n      <td>https://api.spotify.com/v1/audio-analysis/3QwB...</td>\n      <td>209453</td>\n      <td>4</td>\n    </tr>\n    <tr>\n      <th>3</th>\n      <td>0.663</td>\n      <td>0.920</td>\n      <td>11</td>\n      <td>-4.070</td>\n      <td>0</td>\n      <td>0.2260</td>\n      <td>0.00431</td>\n      <td>0.000017</td>\n      <td>0.101</td>\n      <td>0.533</td>\n      <td>99.935</td>\n      <td>audio_features</td>\n      <td>7DM4BPaS7uofFul3ywMe46</td>\n      <td>spotify:track:7DM4BPaS7uofFul3ywMe46</td>\n      <td>https://api.spotify.com/v1/tracks/7DM4BPaS7uof...</td>\n      <td>https://api.spotify.com/v1/audio-analysis/7DM4...</td>\n      <td>259196</td>\n      <td>4</td>\n    </tr>\n    <tr>\n      <th>4</th>\n      <td>0.508</td>\n      <td>0.687</td>\n      <td>0</td>\n      <td>-4.361</td>\n      <td>1</td>\n      <td>0.3260</td>\n      <td>0.55100</td>\n      <td>0.000003</td>\n      <td>0.126</td>\n      <td>0.555</td>\n      <td>180.044</td>\n      <td>audio_features</td>\n      <td>6rQSrBHf7HlZjtcMZ4S4bO</td>\n      <td>spotify:track:6rQSrBHf7HlZjtcMZ4S4bO</td>\n      <td>https://api.spotify.com/v1/tracks/6rQSrBHf7HlZ...</td>\n      <td>https://api.spotify.com/v1/audio-analysis/6rQS...</td>\n      <td>205600</td>\n      <td>4</td>\n    </tr>\n    <tr>\n      <th>...</th>\n      <td>...</td>\n      <td>...</td>\n      <td>...</td>\n      <td>...</td>\n      <td>...</td>\n      <td>...</td>\n      <td>...</td>\n      <td>...</td>\n      <td>...</td>\n      <td>...</td>\n      <td>...</td>\n      <td>...</td>\n      <td>...</td>\n      <td>...</td>\n      <td>...</td>\n      <td>...</td>\n      <td>...</td>\n      <td>...</td>\n    </tr>\n    <tr>\n      <th>2924</th>\n      <td>0.528</td>\n      <td>0.416</td>\n      <td>10</td>\n      <td>-8.492</td>\n      <td>1</td>\n      <td>0.0325</td>\n      <td>0.75600</td>\n      <td>0.000000</td>\n      <td>0.114</td>\n      <td>0.347</td>\n      <td>139.821</td>\n      <td>audio_features</td>\n      <td>53HxUdYRCRMdzYPG0qhGUP</td>\n      <td>spotify:track:53HxUdYRCRMdzYPG0qhGUP</td>\n      <td>https://api.spotify.com/v1/tracks/53HxUdYRCRMd...</td>\n      <td>https://api.spotify.com/v1/audio-analysis/53Hx...</td>\n      <td>267531</td>\n      <td>4</td>\n    </tr>\n    <tr>\n      <th>2925</th>\n      <td>0.654</td>\n      <td>0.673</td>\n      <td>5</td>\n      <td>-8.035</td>\n      <td>1</td>\n      <td>0.0300</td>\n      <td>0.18900</td>\n      <td>0.000179</td>\n      <td>0.152</td>\n      <td>0.648</td>\n      <td>89.998</td>\n      <td>audio_features</td>\n      <td>7tqVnkKyVnkqlvkm4cBBdb</td>\n      <td>spotify:track:7tqVnkKyVnkqlvkm4cBBdb</td>\n      <td>https://api.spotify.com/v1/tracks/7tqVnkKyVnkq...</td>\n      <td>https://api.spotify.com/v1/audio-analysis/7tqV...</td>\n      <td>206064</td>\n      <td>4</td>\n    </tr>\n    <tr>\n      <th>2926</th>\n      <td>0.650</td>\n      <td>0.425</td>\n      <td>9</td>\n      <td>-7.816</td>\n      <td>1</td>\n      <td>0.0266</td>\n      <td>0.83400</td>\n      <td>0.000000</td>\n      <td>0.120</td>\n      <td>0.403</td>\n      <td>75.988</td>\n      <td>audio_features</td>\n      <td>1eId3TVzGrwv73YAWAVQMX</td>\n      <td>spotify:track:1eId3TVzGrwv73YAWAVQMX</td>\n      <td>https://api.spotify.com/v1/tracks/1eId3TVzGrwv...</td>\n      <td>https://api.spotify.com/v1/audio-analysis/1eId...</td>\n      <td>237733</td>\n      <td>4</td>\n    </tr>\n    <tr>\n      <th>2927</th>\n      <td>0.668</td>\n      <td>0.604</td>\n      <td>7</td>\n      <td>-9.755</td>\n      <td>0</td>\n      <td>0.0300</td>\n      <td>0.18700</td>\n      <td>0.000137</td>\n      <td>0.255</td>\n      <td>0.652</td>\n      <td>90.002</td>\n      <td>audio_features</td>\n      <td>57kbuHAxIrN3CCysKVMG93</td>\n      <td>spotify:track:57kbuHAxIrN3CCysKVMG93</td>\n      <td>https://api.spotify.com/v1/tracks/57kbuHAxIrN3...</td>\n      <td>https://api.spotify.com/v1/audio-analysis/57kb...</td>\n      <td>209787</td>\n      <td>4</td>\n    </tr>\n    <tr>\n      <th>2928</th>\n      <td>0.510</td>\n      <td>0.443</td>\n      <td>6</td>\n      <td>-10.095</td>\n      <td>1</td>\n      <td>0.0281</td>\n      <td>0.50400</td>\n      <td>0.000000</td>\n      <td>0.112</td>\n      <td>0.261</td>\n      <td>139.958</td>\n      <td>audio_features</td>\n      <td>0e3nb2Nttd12LNBhweuNms</td>\n      <td>spotify:track:0e3nb2Nttd12LNBhweuNms</td>\n      <td>https://api.spotify.com/v1/tracks/0e3nb2Nttd12...</td>\n      <td>https://api.spotify.com/v1/audio-analysis/0e3n...</td>\n      <td>227904</td>\n      <td>4</td>\n    </tr>\n  </tbody>\n</table>\n<p>2929 rows × 18 columns</p>\n</div>"
     },
     "metadata": {},
     "execution_count": 11
    }
   ],
   "source": [
    "df2"
   ]
  },
  {
   "cell_type": "code",
   "execution_count": 12,
   "metadata": {},
   "outputs": [],
   "source": [
    "df_merged = pd.merge(df_filtered, \n",
    "                     df2, \n",
    "                     left_on ='track_id',\n",
    "                     right_on = \"id\",\n",
    "                     how ='left')"
   ]
  },
  {
   "cell_type": "code",
   "execution_count": 13,
   "metadata": {},
   "outputs": [
    {
     "output_type": "execute_result",
     "data": {
      "text/plain": [
       "        Position                         Track Name         Artist  Streams  \\\n",
       "0              1         Reggaetón Lento (Bailemos)           CNCO    19272   \n",
       "1              2                           Chantaje        Shakira    19270   \n",
       "2              3          Otra Vez (feat. J Balvin)  Zion & Lennox    15761   \n",
       "3              4                       Vente Pa' Ca   Ricky Martin    14954   \n",
       "4              5                             Safari       J Balvin    14269   \n",
       "...          ...                                ...            ...      ...   \n",
       "490415        21  I Miss You (feat. Julia Michaels)   Clean Bandit     7887   \n",
       "490416        22                           How Long   Charlie Puth     7707   \n",
       "490417        23                  The Greatest Show   Hugh Jackman     7670   \n",
       "490418        24                   A Million Dreams    Ziv Zaifman     7596   \n",
       "490419        25                       Let You Down             NF     7509   \n",
       "\n",
       "                                                      URL        Date Region  \\\n",
       "0       https://open.spotify.com/track/3AEZUABDXNtecAO...  2017-01-01     ec   \n",
       "1       https://open.spotify.com/track/6mICuAdrwEjh6Y6...  2017-01-01     ec   \n",
       "2       https://open.spotify.com/track/3QwBODjSEzelZyV...  2017-01-01     ec   \n",
       "3       https://open.spotify.com/track/7DM4BPaS7uofFul...  2017-01-01     ec   \n",
       "4       https://open.spotify.com/track/6rQSrBHf7HlZjtc...  2017-01-01     ec   \n",
       "...                                                   ...         ...    ...   \n",
       "490415  https://open.spotify.com/track/2xmrfQpmS2iJExT...  2018-01-09     hk   \n",
       "490416  https://open.spotify.com/track/32DGGj6KlNuBr6W...  2018-01-09     hk   \n",
       "490417  https://open.spotify.com/track/43ay9lQZ5rfNcOO...  2018-01-09     hk   \n",
       "490418  https://open.spotify.com/track/0RoA7ObU6phWpqh...  2018-01-09     hk   \n",
       "490419  https://open.spotify.com/track/6mrKP2jyIQmM0rw...  2018-01-09     hk   \n",
       "\n",
       "                      track_id  danceability  energy  ...  liveness  valence  \\\n",
       "0       3AEZUABDXNtecAOSC1qTfo         0.761   0.838  ...    0.1760   0.7100   \n",
       "1       6mICuAdrwEjh6Y6lroV2Kg         0.852   0.773  ...    0.1590   0.9070   \n",
       "2       3QwBODjSEzelZyVjxPOHdq         0.832   0.772  ...    0.4400   0.7040   \n",
       "3       7DM4BPaS7uofFul3ywMe46         0.663   0.920  ...    0.1010   0.5330   \n",
       "4       6rQSrBHf7HlZjtcMZ4S4bO         0.508   0.687  ...    0.1260   0.5550   \n",
       "...                        ...           ...     ...  ...       ...      ...   \n",
       "490415  2xmrfQpmS2iJExTlklLoAL         0.638   0.658  ...    0.0919   0.3300   \n",
       "490416  32DGGj6KlNuBr6WaqRxpxi         0.849   0.581  ...    0.0805   0.7790   \n",
       "490417  43ay9lQZ5rfNcOOHhRF2cM         0.417   0.824  ...    0.0725   0.4000   \n",
       "490418  0RoA7ObU6phWpqhlC9zH4Z         0.265   0.312  ...    0.0893   0.0998   \n",
       "490419  6mrKP2jyIQmM0rw6fQryjr         0.659   0.716  ...    0.1730   0.4370   \n",
       "\n",
       "          tempo            type                      id  \\\n",
       "0        93.974  audio_features  3AEZUABDXNtecAOSC1qTfo   \n",
       "1       102.034  audio_features  6mICuAdrwEjh6Y6lroV2Kg   \n",
       "2        96.016  audio_features  3QwBODjSEzelZyVjxPOHdq   \n",
       "3        99.935  audio_features  7DM4BPaS7uofFul3ywMe46   \n",
       "4       180.044  audio_features  6rQSrBHf7HlZjtcMZ4S4bO   \n",
       "...         ...             ...                     ...   \n",
       "490415  105.076  audio_features  2xmrfQpmS2iJExTlklLoAL   \n",
       "490416  110.008  audio_features  32DGGj6KlNuBr6WaqRxpxi   \n",
       "490417  157.920  audio_features  43ay9lQZ5rfNcOOHhRF2cM   \n",
       "490418   54.747  audio_features  0RoA7ObU6phWpqhlC9zH4Z   \n",
       "490419  148.015  audio_features  6mrKP2jyIQmM0rw6fQryjr   \n",
       "\n",
       "                                         uri  \\\n",
       "0       spotify:track:3AEZUABDXNtecAOSC1qTfo   \n",
       "1       spotify:track:6mICuAdrwEjh6Y6lroV2Kg   \n",
       "2       spotify:track:3QwBODjSEzelZyVjxPOHdq   \n",
       "3       spotify:track:7DM4BPaS7uofFul3ywMe46   \n",
       "4       spotify:track:6rQSrBHf7HlZjtcMZ4S4bO   \n",
       "...                                      ...   \n",
       "490415  spotify:track:2xmrfQpmS2iJExTlklLoAL   \n",
       "490416  spotify:track:32DGGj6KlNuBr6WaqRxpxi   \n",
       "490417  spotify:track:43ay9lQZ5rfNcOOHhRF2cM   \n",
       "490418  spotify:track:0RoA7ObU6phWpqhlC9zH4Z   \n",
       "490419  spotify:track:6mrKP2jyIQmM0rw6fQryjr   \n",
       "\n",
       "                                               track_href  \\\n",
       "0       https://api.spotify.com/v1/tracks/3AEZUABDXNte...   \n",
       "1       https://api.spotify.com/v1/tracks/6mICuAdrwEjh...   \n",
       "2       https://api.spotify.com/v1/tracks/3QwBODjSEzel...   \n",
       "3       https://api.spotify.com/v1/tracks/7DM4BPaS7uof...   \n",
       "4       https://api.spotify.com/v1/tracks/6rQSrBHf7HlZ...   \n",
       "...                                                   ...   \n",
       "490415  https://api.spotify.com/v1/tracks/2xmrfQpmS2iJ...   \n",
       "490416  https://api.spotify.com/v1/tracks/32DGGj6KlNuB...   \n",
       "490417  https://api.spotify.com/v1/tracks/43ay9lQZ5rfN...   \n",
       "490418  https://api.spotify.com/v1/tracks/0RoA7ObU6phW...   \n",
       "490419  https://api.spotify.com/v1/tracks/6mrKP2jyIQmM...   \n",
       "\n",
       "                                             analysis_url  duration_ms  \\\n",
       "0       https://api.spotify.com/v1/audio-analysis/3AEZ...     222560.0   \n",
       "1       https://api.spotify.com/v1/audio-analysis/6mIC...     195840.0   \n",
       "2       https://api.spotify.com/v1/audio-analysis/3QwB...     209453.0   \n",
       "3       https://api.spotify.com/v1/audio-analysis/7DM4...     259196.0   \n",
       "4       https://api.spotify.com/v1/audio-analysis/6rQS...     205600.0   \n",
       "...                                                   ...          ...   \n",
       "490415  https://api.spotify.com/v1/audio-analysis/2xmr...     205748.0   \n",
       "490416  https://api.spotify.com/v1/audio-analysis/32DG...     198237.0   \n",
       "490417  https://api.spotify.com/v1/audio-analysis/43ay...     302147.0   \n",
       "490418  https://api.spotify.com/v1/audio-analysis/0RoA...     269453.0   \n",
       "490419  https://api.spotify.com/v1/audio-analysis/6mrK...     212120.0   \n",
       "\n",
       "       time_signature  \n",
       "0                 4.0  \n",
       "1                 4.0  \n",
       "2                 4.0  \n",
       "3                 4.0  \n",
       "4                 4.0  \n",
       "...               ...  \n",
       "490415            4.0  \n",
       "490416            4.0  \n",
       "490417            4.0  \n",
       "490418            3.0  \n",
       "490419            4.0  \n",
       "\n",
       "[490420 rows x 26 columns]"
      ],
      "text/html": "<div>\n<style scoped>\n    .dataframe tbody tr th:only-of-type {\n        vertical-align: middle;\n    }\n\n    .dataframe tbody tr th {\n        vertical-align: top;\n    }\n\n    .dataframe thead th {\n        text-align: right;\n    }\n</style>\n<table border=\"1\" class=\"dataframe\">\n  <thead>\n    <tr style=\"text-align: right;\">\n      <th></th>\n      <th>Position</th>\n      <th>Track Name</th>\n      <th>Artist</th>\n      <th>Streams</th>\n      <th>URL</th>\n      <th>Date</th>\n      <th>Region</th>\n      <th>track_id</th>\n      <th>danceability</th>\n      <th>energy</th>\n      <th>...</th>\n      <th>liveness</th>\n      <th>valence</th>\n      <th>tempo</th>\n      <th>type</th>\n      <th>id</th>\n      <th>uri</th>\n      <th>track_href</th>\n      <th>analysis_url</th>\n      <th>duration_ms</th>\n      <th>time_signature</th>\n    </tr>\n  </thead>\n  <tbody>\n    <tr>\n      <th>0</th>\n      <td>1</td>\n      <td>Reggaetón Lento (Bailemos)</td>\n      <td>CNCO</td>\n      <td>19272</td>\n      <td>https://open.spotify.com/track/3AEZUABDXNtecAO...</td>\n      <td>2017-01-01</td>\n      <td>ec</td>\n      <td>3AEZUABDXNtecAOSC1qTfo</td>\n      <td>0.761</td>\n      <td>0.838</td>\n      <td>...</td>\n      <td>0.1760</td>\n      <td>0.7100</td>\n      <td>93.974</td>\n      <td>audio_features</td>\n      <td>3AEZUABDXNtecAOSC1qTfo</td>\n      <td>spotify:track:3AEZUABDXNtecAOSC1qTfo</td>\n      <td>https://api.spotify.com/v1/tracks/3AEZUABDXNte...</td>\n      <td>https://api.spotify.com/v1/audio-analysis/3AEZ...</td>\n      <td>222560.0</td>\n      <td>4.0</td>\n    </tr>\n    <tr>\n      <th>1</th>\n      <td>2</td>\n      <td>Chantaje</td>\n      <td>Shakira</td>\n      <td>19270</td>\n      <td>https://open.spotify.com/track/6mICuAdrwEjh6Y6...</td>\n      <td>2017-01-01</td>\n      <td>ec</td>\n      <td>6mICuAdrwEjh6Y6lroV2Kg</td>\n      <td>0.852</td>\n      <td>0.773</td>\n      <td>...</td>\n      <td>0.1590</td>\n      <td>0.9070</td>\n      <td>102.034</td>\n      <td>audio_features</td>\n      <td>6mICuAdrwEjh6Y6lroV2Kg</td>\n      <td>spotify:track:6mICuAdrwEjh6Y6lroV2Kg</td>\n      <td>https://api.spotify.com/v1/tracks/6mICuAdrwEjh...</td>\n      <td>https://api.spotify.com/v1/audio-analysis/6mIC...</td>\n      <td>195840.0</td>\n      <td>4.0</td>\n    </tr>\n    <tr>\n      <th>2</th>\n      <td>3</td>\n      <td>Otra Vez (feat. J Balvin)</td>\n      <td>Zion &amp; Lennox</td>\n      <td>15761</td>\n      <td>https://open.spotify.com/track/3QwBODjSEzelZyV...</td>\n      <td>2017-01-01</td>\n      <td>ec</td>\n      <td>3QwBODjSEzelZyVjxPOHdq</td>\n      <td>0.832</td>\n      <td>0.772</td>\n      <td>...</td>\n      <td>0.4400</td>\n      <td>0.7040</td>\n      <td>96.016</td>\n      <td>audio_features</td>\n      <td>3QwBODjSEzelZyVjxPOHdq</td>\n      <td>spotify:track:3QwBODjSEzelZyVjxPOHdq</td>\n      <td>https://api.spotify.com/v1/tracks/3QwBODjSEzel...</td>\n      <td>https://api.spotify.com/v1/audio-analysis/3QwB...</td>\n      <td>209453.0</td>\n      <td>4.0</td>\n    </tr>\n    <tr>\n      <th>3</th>\n      <td>4</td>\n      <td>Vente Pa' Ca</td>\n      <td>Ricky Martin</td>\n      <td>14954</td>\n      <td>https://open.spotify.com/track/7DM4BPaS7uofFul...</td>\n      <td>2017-01-01</td>\n      <td>ec</td>\n      <td>7DM4BPaS7uofFul3ywMe46</td>\n      <td>0.663</td>\n      <td>0.920</td>\n      <td>...</td>\n      <td>0.1010</td>\n      <td>0.5330</td>\n      <td>99.935</td>\n      <td>audio_features</td>\n      <td>7DM4BPaS7uofFul3ywMe46</td>\n      <td>spotify:track:7DM4BPaS7uofFul3ywMe46</td>\n      <td>https://api.spotify.com/v1/tracks/7DM4BPaS7uof...</td>\n      <td>https://api.spotify.com/v1/audio-analysis/7DM4...</td>\n      <td>259196.0</td>\n      <td>4.0</td>\n    </tr>\n    <tr>\n      <th>4</th>\n      <td>5</td>\n      <td>Safari</td>\n      <td>J Balvin</td>\n      <td>14269</td>\n      <td>https://open.spotify.com/track/6rQSrBHf7HlZjtc...</td>\n      <td>2017-01-01</td>\n      <td>ec</td>\n      <td>6rQSrBHf7HlZjtcMZ4S4bO</td>\n      <td>0.508</td>\n      <td>0.687</td>\n      <td>...</td>\n      <td>0.1260</td>\n      <td>0.5550</td>\n      <td>180.044</td>\n      <td>audio_features</td>\n      <td>6rQSrBHf7HlZjtcMZ4S4bO</td>\n      <td>spotify:track:6rQSrBHf7HlZjtcMZ4S4bO</td>\n      <td>https://api.spotify.com/v1/tracks/6rQSrBHf7HlZ...</td>\n      <td>https://api.spotify.com/v1/audio-analysis/6rQS...</td>\n      <td>205600.0</td>\n      <td>4.0</td>\n    </tr>\n    <tr>\n      <th>...</th>\n      <td>...</td>\n      <td>...</td>\n      <td>...</td>\n      <td>...</td>\n      <td>...</td>\n      <td>...</td>\n      <td>...</td>\n      <td>...</td>\n      <td>...</td>\n      <td>...</td>\n      <td>...</td>\n      <td>...</td>\n      <td>...</td>\n      <td>...</td>\n      <td>...</td>\n      <td>...</td>\n      <td>...</td>\n      <td>...</td>\n      <td>...</td>\n      <td>...</td>\n      <td>...</td>\n    </tr>\n    <tr>\n      <th>490415</th>\n      <td>21</td>\n      <td>I Miss You (feat. Julia Michaels)</td>\n      <td>Clean Bandit</td>\n      <td>7887</td>\n      <td>https://open.spotify.com/track/2xmrfQpmS2iJExT...</td>\n      <td>2018-01-09</td>\n      <td>hk</td>\n      <td>2xmrfQpmS2iJExTlklLoAL</td>\n      <td>0.638</td>\n      <td>0.658</td>\n      <td>...</td>\n      <td>0.0919</td>\n      <td>0.3300</td>\n      <td>105.076</td>\n      <td>audio_features</td>\n      <td>2xmrfQpmS2iJExTlklLoAL</td>\n      <td>spotify:track:2xmrfQpmS2iJExTlklLoAL</td>\n      <td>https://api.spotify.com/v1/tracks/2xmrfQpmS2iJ...</td>\n      <td>https://api.spotify.com/v1/audio-analysis/2xmr...</td>\n      <td>205748.0</td>\n      <td>4.0</td>\n    </tr>\n    <tr>\n      <th>490416</th>\n      <td>22</td>\n      <td>How Long</td>\n      <td>Charlie Puth</td>\n      <td>7707</td>\n      <td>https://open.spotify.com/track/32DGGj6KlNuBr6W...</td>\n      <td>2018-01-09</td>\n      <td>hk</td>\n      <td>32DGGj6KlNuBr6WaqRxpxi</td>\n      <td>0.849</td>\n      <td>0.581</td>\n      <td>...</td>\n      <td>0.0805</td>\n      <td>0.7790</td>\n      <td>110.008</td>\n      <td>audio_features</td>\n      <td>32DGGj6KlNuBr6WaqRxpxi</td>\n      <td>spotify:track:32DGGj6KlNuBr6WaqRxpxi</td>\n      <td>https://api.spotify.com/v1/tracks/32DGGj6KlNuB...</td>\n      <td>https://api.spotify.com/v1/audio-analysis/32DG...</td>\n      <td>198237.0</td>\n      <td>4.0</td>\n    </tr>\n    <tr>\n      <th>490417</th>\n      <td>23</td>\n      <td>The Greatest Show</td>\n      <td>Hugh Jackman</td>\n      <td>7670</td>\n      <td>https://open.spotify.com/track/43ay9lQZ5rfNcOO...</td>\n      <td>2018-01-09</td>\n      <td>hk</td>\n      <td>43ay9lQZ5rfNcOOHhRF2cM</td>\n      <td>0.417</td>\n      <td>0.824</td>\n      <td>...</td>\n      <td>0.0725</td>\n      <td>0.4000</td>\n      <td>157.920</td>\n      <td>audio_features</td>\n      <td>43ay9lQZ5rfNcOOHhRF2cM</td>\n      <td>spotify:track:43ay9lQZ5rfNcOOHhRF2cM</td>\n      <td>https://api.spotify.com/v1/tracks/43ay9lQZ5rfN...</td>\n      <td>https://api.spotify.com/v1/audio-analysis/43ay...</td>\n      <td>302147.0</td>\n      <td>4.0</td>\n    </tr>\n    <tr>\n      <th>490418</th>\n      <td>24</td>\n      <td>A Million Dreams</td>\n      <td>Ziv Zaifman</td>\n      <td>7596</td>\n      <td>https://open.spotify.com/track/0RoA7ObU6phWpqh...</td>\n      <td>2018-01-09</td>\n      <td>hk</td>\n      <td>0RoA7ObU6phWpqhlC9zH4Z</td>\n      <td>0.265</td>\n      <td>0.312</td>\n      <td>...</td>\n      <td>0.0893</td>\n      <td>0.0998</td>\n      <td>54.747</td>\n      <td>audio_features</td>\n      <td>0RoA7ObU6phWpqhlC9zH4Z</td>\n      <td>spotify:track:0RoA7ObU6phWpqhlC9zH4Z</td>\n      <td>https://api.spotify.com/v1/tracks/0RoA7ObU6phW...</td>\n      <td>https://api.spotify.com/v1/audio-analysis/0RoA...</td>\n      <td>269453.0</td>\n      <td>3.0</td>\n    </tr>\n    <tr>\n      <th>490419</th>\n      <td>25</td>\n      <td>Let You Down</td>\n      <td>NF</td>\n      <td>7509</td>\n      <td>https://open.spotify.com/track/6mrKP2jyIQmM0rw...</td>\n      <td>2018-01-09</td>\n      <td>hk</td>\n      <td>6mrKP2jyIQmM0rw6fQryjr</td>\n      <td>0.659</td>\n      <td>0.716</td>\n      <td>...</td>\n      <td>0.1730</td>\n      <td>0.4370</td>\n      <td>148.015</td>\n      <td>audio_features</td>\n      <td>6mrKP2jyIQmM0rw6fQryjr</td>\n      <td>spotify:track:6mrKP2jyIQmM0rw6fQryjr</td>\n      <td>https://api.spotify.com/v1/tracks/6mrKP2jyIQmM...</td>\n      <td>https://api.spotify.com/v1/audio-analysis/6mrK...</td>\n      <td>212120.0</td>\n      <td>4.0</td>\n    </tr>\n  </tbody>\n</table>\n<p>490420 rows × 26 columns</p>\n</div>"
     },
     "metadata": {},
     "execution_count": 13
    }
   ],
   "source": [
    "df_merged"
   ]
  },
  {
   "cell_type": "code",
   "execution_count": 14,
   "metadata": {},
   "outputs": [],
   "source": [
    "df_merged.Region = df_merged.Region.str.upper()"
   ]
  },
  {
   "cell_type": "code",
   "execution_count": 15,
   "metadata": {},
   "outputs": [],
   "source": [
    "c_api = wbpy.ClimateAPI()"
   ]
  },
  {
   "cell_type": "code",
   "execution_count": 16,
   "metadata": {},
   "outputs": [
    {
     "output_type": "execute_result",
     "data": {
      "text/plain": [
       "{'instrumental_types': {'pr': 'Precipitation (rainfall and assumed water equivalent), in millimeters',\n",
       "  'tas': 'Temperature, in degrees Celsius'},\n",
       " 'instrumental_intervals': ['year', 'month', 'decade'],\n",
       " 'modelled_types': {'tmin_means': 'Average daily minimum temperature, Celsius',\n",
       "  'tmax_means': 'Average daily maximum temperature, Celsius',\n",
       "  'tmax_days90th': \"Number of days with max temperature above the control period's 90th percentile (hot days)\",\n",
       "  'tmin_days90th': \"Number of days with min temperature above the control period's 90th percentile (warm nights)\",\n",
       "  'tmax_days10th': \"Number of days with max temperature below the control period's 10th percentile (cool days)\",\n",
       "  'tmin_days10th': \"Number of days with min temperature below the control period's 10th percentile (cold nights)\",\n",
       "  'tmin_days0': 'Number of days with min temperature below 0 degrees Celsius',\n",
       "  'ppt_days': 'Number of days with precipitation > 0.2mm',\n",
       "  'ppt_days2': 'Number of days with precipitation > 2mm',\n",
       "  'ppt_days10': 'Number of days with precipitation > 10mm',\n",
       "  'ppt_days90th': \"Number of days with precipitation > the control period's 90th percentile\",\n",
       "  'ppt_dryspell': 'Average number of days between precipitation events',\n",
       "  'ppt_means': 'Average daily precipitation',\n",
       "  'pr': 'Precipitation (rainfall and assumed water equivalent), in millimeters',\n",
       "  'tas': 'Temperature, in degrees Celsius'},\n",
       " 'modelled_intervals': {'mavg': 'Monthly average',\n",
       "  'annualavg': 'Annual average',\n",
       "  'manom': 'Average monthly change (anomaly).',\n",
       "  'annualanom': 'Average annual change (anomaly).',\n",
       "  'aanom': 'Average annual change (anomaly).',\n",
       "  'aavg': 'Annual average'}}"
      ]
     },
     "metadata": {},
     "execution_count": 16
    }
   ],
   "source": [
    "c_api.ARG_DEFINITIONS"
   ]
  },
  {
   "cell_type": "code",
   "execution_count": 17,
   "metadata": {},
   "outputs": [
    {
     "output_type": "stream",
     "name": "stdout",
     "text": [
      "{'ES': [57.528797, 53.789467, 54.26838, 52.758064, 52.006664, 32.908974, 15.500742, 19.024197, 39.36698, 63.928814, 70.12629, 68.159065], 'FI': [31.749317, 23.575377, 24.509426, 26.423786, 32.697273, 51.651695, 64.97051, 67.59949, 55.035667, 48.822933, 43.03532, 35.79031], 'IE': [120.89083, 91.28684, 84.57184, 71.68669, 76.800026, 71.59724, 83.13158, 92.869156, 100.314514, 116.03959, 117.89048, 126.63265], 'GR': [91.08543, 71.13321, 58.24607, 39.862915, 32.86573, 20.23119, 13.641286, 10.457842, 21.473515, 63.13595, 89.92613, 113.5932], 'DE': [52.55146, 41.92287, 45.97474, 49.239243, 62.583405, 76.00667, 82.99017, 77.98812, 59.712982, 54.272907, 56.425488, 58.34599], 'DK': [53.563538, 36.932766, 38.289967, 38.007614, 43.893085, 53.841156, 68.726364, 76.37718, 67.10298, 70.07451, 68.03902, 58.835075], 'AT': [65.27303, 59.7683, 72.25151, 89.680504, 105.823715, 134.59662, 137.82822, 128.4243, 95.492905, 83.99369, 85.28274, 77.95769], 'SE': [44.764263, 32.61869, 33.18711, 32.058475, 38.832684, 56.432823, 74.2729, 76.66189, 61.857018, 56.287792, 53.34353, 48.49549], 'PL': [33.576008, 29.034115, 31.130692, 39.64753, 57.838825, 72.904015, 87.055145, 75.3834, 51.341564, 42.91561, 43.906593, 40.544685], 'LT': [37.96196, 30.297699, 33.006306, 38.240402, 50.03022, 67.70094, 82.53816, 81.51018, 60.759197, 55.295452, 53.602287, 48.640812], 'IT': [77.15378, 65.65117, 69.25528, 73.56214, 65.51097, 58.159473, 48.05979, 55.154625, 72.79873, 99.71961, 108.22389, 96.82246], 'LU': [83.61097, 66.81218, 66.52073, 61.269386, 68.7, 73.67972, 79.86078, 78.1956, 70.37175, 74.20689, 86.02691, 93.06256], 'NL': [66.13429, 47.844406, 51.678783, 46.048714, 52.368885, 63.61925, 77.06093, 74.98669, 67.330124, 71.42668, 71.04448, 72.86124], 'EE': [37.58699, 26.699276, 29.287003, 32.668648, 41.537148, 57.43524, 71.06446, 78.311264, 67.08421, 60.71161, 55.321392, 46.273018], 'CZ': [40.731377, 36.449627, 39.861, 45.843742, 68.46793, 82.72193, 90.45285, 78.52809, 52.749035, 43.723045, 46.566, 47.571526], 'GB': [127.731285, 92.17345, 91.57741, 73.470634, 73.75053, 74.07918, 87.19356, 101.51842, 105.06435, 129.52333, 128.49973, 133.36032], 'HU': [33.278053, 31.598017, 33.44509, 46.900543, 63.775642, 77.65185, 67.63945, 62.052418, 45.707844, 43.105392, 52.105736, 44.37731], 'SK': [39.76627, 39.12306, 40.093952, 53.482292, 76.43345, 95.90352, 98.063385, 82.96, 58.305126, 51.644794, 57.02656, 51.03688], 'BE': [74.86523, 59.19864, 61.31838, 56.966755, 62.731342, 70.4391, 78.745255, 75.79012, 68.467, 76.56809, 81.14452, 84.105606], 'FR': [68.42972, 59.224693, 62.763054, 65.35451, 73.439156, 64.19182, 56.204826, 63.753063, 70.62183, 81.90033, 83.69948, 81.50974], 'PT': [101.7902, 91.16897, 85.43557, 66.0121, 52.91081, 29.08942, 11.378544, 14.534437, 40.70561, 90.72062, 105.05556, 113.247925], 'LV': [38.10913, 28.870611, 31.701777, 35.34103, 46.39836, 62.338726, 77.00682, 78.464066, 64.61359, 59.368645, 55.263916, 48.2595]}\n"
     ]
    }
   ],
   "source": [
    "c_api = wbpy.ClimateAPI()\n",
    "iso_and_basin_codes = eu\n",
    "dataset_rain = c_api.get_instrumental(data_type=\"pr\", interval=(\"month\"), locations=iso_and_basin_codes) \n",
    "print(dataset_rain.as_dict()) "
   ]
  },
  {
   "cell_type": "code",
   "execution_count": 18,
   "metadata": {},
   "outputs": [
    {
     "output_type": "stream",
     "name": "stdout",
     "text": [
      "{'ES': [6.291456, 7.338598, 9.50577, 11.516542, 14.853701, 18.816353, 21.92217, 22.062016, 19.078846, 14.467189, 9.772955, 6.962533], 'FI': [-10.748751, -10.811792, -6.2595205, -0.023051424, 6.5197096, 12.269081, 15.338081, 13.26593, 8.076475, 1.8826134, -3.8635705, -8.211466], 'IE': [4.941451, 5.049791, 6.2485228, 7.9061904, 10.416128, 12.965464, 14.584889, 14.404764, 12.664339, 10.003481, 6.8925943, 5.542906], 'GR': [6.1981897, 7.0346656, 9.367796, 12.979808, 17.402353, 21.608572, 24.379965, 24.35519, 20.879818, 16.385544, 11.801954, 7.847636], 'DE': [-0.40384316, 0.44368964, 3.9217591, 7.8590536, 12.441997, 15.463537, 17.349094, 16.965397, 13.73414, 9.000951, 4.086176, 0.8426736], 'DK': [-0.26206094, -0.2898539, 2.2076719, 6.303566, 11.067823, 14.528601, 16.723515, 16.282425, 13.088995, 8.8251295, 4.419141, 1.2443378], 'AT': [-3.3326793, -2.0940516, 1.6723248, 5.712003, 10.429095, 13.527552, 15.46335, 15.149179, 11.926428, 7.31764, 1.7877128, -1.9500449], 'SE': [-8.793123, -8.3844185, -4.721192, 0.47401214, 6.2438917, 11.282265, 14.055145, 12.5060425, 8.020651, 2.559723, -3.1960998, -6.9367523], 'PL': [-2.6309242, -1.4862068, 2.4845738, 7.4602637, 13.005648, 15.95869, 17.989294, 17.392649, 13.386203, 8.411371, 3.1248708, -0.69153816], 'LT': [-4.8281126, -4.408469, -0.42138618, 6.2473464, 12.113564, 15.554888, 17.623066, 16.844069, 12.47789, 7.0057716, 1.7177427, -2.56962], 'IT': [4.261962, 4.954588, 7.441755, 10.448172, 14.621475, 18.489254, 21.122929, 21.160656, 18.04299, 13.710591, 9.080622, 5.654943], 'LU': [1.0388392, 1.9975765, 5.301403, 8.6539545, 12.998596, 15.916453, 17.66384, 17.2588, 14.181314, 9.810523, 4.9132013, 2.10625], 'NL': [2.398871, 2.7742648, 5.455252, 8.296429, 12.517936, 15.159218, 17.176445, 17.085346, 14.339943, 10.356854, 6.0705357, 3.581171], 'EE': [-5.424954, -5.8028765, -2.2151089, 4.161221, 9.996335, 14.2653, 17.107775, 15.988512, 11.410322, 6.110081, 1.0195237, -3.0479574], 'CZ': [-2.6573064, -1.3579634, 2.754628, 7.5761566, 12.519987, 15.566973, 17.438597, 17.039618, 13.400022, 8.284483, 2.7069855, -1.1499554], 'GB': [3.548619, 3.5809588, 5.064868, 7.073514, 10.003707, 12.657145, 14.396339, 14.28286, 12.310248, 9.353575, 5.982785, 4.198056], 'HU': [-1.8848374, 0.25047463, 5.148767, 10.475495, 15.426147, 18.63689, 20.44594, 19.948132, 15.978831, 10.558283, 4.791119, 0.17032793], 'SK': [-3.5987363, -1.8066326, 2.6703115, 7.8955107, 12.924893, 15.9788, 17.826693, 17.355785, 13.490389, 8.412096, 2.7119744, -1.764418], 'BE': [2.1975498, 2.771473, 5.6724095, 8.62306, 12.788354, 15.60923, 17.462563, 17.289717, 14.468262, 10.3591585, 5.7969723, 3.1652353], 'FR': [3.351265, 4.1506233, 6.769156, 9.385042, 13.14492, 16.342558, 18.545862, 18.407234, 15.75828, 11.600126, 6.843684, 4.1763206], 'PT': [9.273903, 9.938265, 11.682998, 13.311829, 15.857968, 19.140528, 21.52129, 21.894182, 19.925985, 16.343023, 12.398671, 9.921191], 'LV': [-5.161258, -5.1513176, -1.452637, 5.160033, 11.028722, 14.841212, 17.210884, 16.296366, 11.812094, 6.441165, 1.2416666, -3.0318873]}\n"
     ]
    }
   ],
   "source": [
    "c_api = wbpy.ClimateAPI()\n",
    "iso_and_basin_codes = eu\n",
    "dataset_heat = c_api.get_instrumental(data_type=\"tas\", interval=(\"month\"), locations=iso_and_basin_codes) \n",
    "print(dataset_heat.as_dict()) "
   ]
  },
  {
   "cell_type": "code",
   "execution_count": null,
   "metadata": {},
   "outputs": [],
   "source": []
  },
  {
   "cell_type": "code",
   "execution_count": 19,
   "metadata": {},
   "outputs": [],
   "source": [
    "heat = pd.DataFrame(dataset_heat.as_dict())"
   ]
  },
  {
   "cell_type": "code",
   "execution_count": 20,
   "metadata": {},
   "outputs": [
    {
     "output_type": "execute_result",
     "data": {
      "text/plain": [
       "    index         ES         FI         IE         GR         DE         DK  \\\n",
       "0       0   6.291456 -10.748751   4.941451   6.198190  -0.403843  -0.262061   \n",
       "1       1   7.338598 -10.811792   5.049791   7.034666   0.443690  -0.289854   \n",
       "2       2   9.505770  -6.259520   6.248523   9.367796   3.921759   2.207672   \n",
       "3       3  11.516542  -0.023051   7.906190  12.979808   7.859054   6.303566   \n",
       "4       4  14.853701   6.519710  10.416128  17.402353  12.441997  11.067823   \n",
       "5       5  18.816353  12.269081  12.965464  21.608572  15.463537  14.528601   \n",
       "6       6  21.922170  15.338081  14.584889  24.379965  17.349094  16.723515   \n",
       "7       7  22.062016  13.265930  14.404764  24.355190  16.965397  16.282425   \n",
       "8       8  19.078846   8.076475  12.664339  20.879818  13.734140  13.088995   \n",
       "9       9  14.467189   1.882613  10.003481  16.385544   9.000951   8.825129   \n",
       "10     10   9.772955  -3.863570   6.892594  11.801954   4.086176   4.419141   \n",
       "11     11   6.962533  -8.211466   5.542906   7.847636   0.842674   1.244338   \n",
       "\n",
       "           AT         SE         PL  ...         NL         EE         CZ  \\\n",
       "0   -3.332679  -8.793123  -2.630924  ...   2.398871  -5.424954  -2.657306   \n",
       "1   -2.094052  -8.384419  -1.486207  ...   2.774265  -5.802876  -1.357963   \n",
       "2    1.672325  -4.721192   2.484574  ...   5.455252  -2.215109   2.754628   \n",
       "3    5.712003   0.474012   7.460264  ...   8.296429   4.161221   7.576157   \n",
       "4   10.429095   6.243892  13.005648  ...  12.517936   9.996335  12.519987   \n",
       "5   13.527552  11.282265  15.958690  ...  15.159218  14.265300  15.566973   \n",
       "6   15.463350  14.055145  17.989294  ...  17.176445  17.107775  17.438597   \n",
       "7   15.149179  12.506042  17.392649  ...  17.085346  15.988512  17.039618   \n",
       "8   11.926428   8.020651  13.386203  ...  14.339943  11.410322  13.400022   \n",
       "9    7.317640   2.559723   8.411371  ...  10.356854   6.110081   8.284483   \n",
       "10   1.787713  -3.196100   3.124871  ...   6.070536   1.019524   2.706986   \n",
       "11  -1.950045  -6.936752  -0.691538  ...   3.581171  -3.047957  -1.149955   \n",
       "\n",
       "           GB         HU         SK         BE         FR         PT  \\\n",
       "0    3.548619  -1.884837  -3.598736   2.197550   3.351265   9.273903   \n",
       "1    3.580959   0.250475  -1.806633   2.771473   4.150623   9.938265   \n",
       "2    5.064868   5.148767   2.670311   5.672409   6.769156  11.682998   \n",
       "3    7.073514  10.475495   7.895511   8.623060   9.385042  13.311829   \n",
       "4   10.003707  15.426147  12.924893  12.788354  13.144920  15.857968   \n",
       "5   12.657145  18.636890  15.978800  15.609230  16.342558  19.140528   \n",
       "6   14.396339  20.445940  17.826693  17.462563  18.545862  21.521290   \n",
       "7   14.282860  19.948132  17.355785  17.289717  18.407234  21.894182   \n",
       "8   12.310248  15.978831  13.490389  14.468262  15.758280  19.925985   \n",
       "9    9.353575  10.558283   8.412096  10.359158  11.600126  16.343023   \n",
       "10   5.982785   4.791119   2.711974   5.796972   6.843684  12.398671   \n",
       "11   4.198056   0.170328  -1.764418   3.165235   4.176321   9.921191   \n",
       "\n",
       "           LV  \n",
       "0   -5.161258  \n",
       "1   -5.151318  \n",
       "2   -1.452637  \n",
       "3    5.160033  \n",
       "4   11.028722  \n",
       "5   14.841212  \n",
       "6   17.210884  \n",
       "7   16.296366  \n",
       "8   11.812094  \n",
       "9    6.441165  \n",
       "10   1.241667  \n",
       "11  -3.031887  \n",
       "\n",
       "[12 rows x 23 columns]"
      ],
      "text/html": "<div>\n<style scoped>\n    .dataframe tbody tr th:only-of-type {\n        vertical-align: middle;\n    }\n\n    .dataframe tbody tr th {\n        vertical-align: top;\n    }\n\n    .dataframe thead th {\n        text-align: right;\n    }\n</style>\n<table border=\"1\" class=\"dataframe\">\n  <thead>\n    <tr style=\"text-align: right;\">\n      <th></th>\n      <th>index</th>\n      <th>ES</th>\n      <th>FI</th>\n      <th>IE</th>\n      <th>GR</th>\n      <th>DE</th>\n      <th>DK</th>\n      <th>AT</th>\n      <th>SE</th>\n      <th>PL</th>\n      <th>...</th>\n      <th>NL</th>\n      <th>EE</th>\n      <th>CZ</th>\n      <th>GB</th>\n      <th>HU</th>\n      <th>SK</th>\n      <th>BE</th>\n      <th>FR</th>\n      <th>PT</th>\n      <th>LV</th>\n    </tr>\n  </thead>\n  <tbody>\n    <tr>\n      <th>0</th>\n      <td>0</td>\n      <td>6.291456</td>\n      <td>-10.748751</td>\n      <td>4.941451</td>\n      <td>6.198190</td>\n      <td>-0.403843</td>\n      <td>-0.262061</td>\n      <td>-3.332679</td>\n      <td>-8.793123</td>\n      <td>-2.630924</td>\n      <td>...</td>\n      <td>2.398871</td>\n      <td>-5.424954</td>\n      <td>-2.657306</td>\n      <td>3.548619</td>\n      <td>-1.884837</td>\n      <td>-3.598736</td>\n      <td>2.197550</td>\n      <td>3.351265</td>\n      <td>9.273903</td>\n      <td>-5.161258</td>\n    </tr>\n    <tr>\n      <th>1</th>\n      <td>1</td>\n      <td>7.338598</td>\n      <td>-10.811792</td>\n      <td>5.049791</td>\n      <td>7.034666</td>\n      <td>0.443690</td>\n      <td>-0.289854</td>\n      <td>-2.094052</td>\n      <td>-8.384419</td>\n      <td>-1.486207</td>\n      <td>...</td>\n      <td>2.774265</td>\n      <td>-5.802876</td>\n      <td>-1.357963</td>\n      <td>3.580959</td>\n      <td>0.250475</td>\n      <td>-1.806633</td>\n      <td>2.771473</td>\n      <td>4.150623</td>\n      <td>9.938265</td>\n      <td>-5.151318</td>\n    </tr>\n    <tr>\n      <th>2</th>\n      <td>2</td>\n      <td>9.505770</td>\n      <td>-6.259520</td>\n      <td>6.248523</td>\n      <td>9.367796</td>\n      <td>3.921759</td>\n      <td>2.207672</td>\n      <td>1.672325</td>\n      <td>-4.721192</td>\n      <td>2.484574</td>\n      <td>...</td>\n      <td>5.455252</td>\n      <td>-2.215109</td>\n      <td>2.754628</td>\n      <td>5.064868</td>\n      <td>5.148767</td>\n      <td>2.670311</td>\n      <td>5.672409</td>\n      <td>6.769156</td>\n      <td>11.682998</td>\n      <td>-1.452637</td>\n    </tr>\n    <tr>\n      <th>3</th>\n      <td>3</td>\n      <td>11.516542</td>\n      <td>-0.023051</td>\n      <td>7.906190</td>\n      <td>12.979808</td>\n      <td>7.859054</td>\n      <td>6.303566</td>\n      <td>5.712003</td>\n      <td>0.474012</td>\n      <td>7.460264</td>\n      <td>...</td>\n      <td>8.296429</td>\n      <td>4.161221</td>\n      <td>7.576157</td>\n      <td>7.073514</td>\n      <td>10.475495</td>\n      <td>7.895511</td>\n      <td>8.623060</td>\n      <td>9.385042</td>\n      <td>13.311829</td>\n      <td>5.160033</td>\n    </tr>\n    <tr>\n      <th>4</th>\n      <td>4</td>\n      <td>14.853701</td>\n      <td>6.519710</td>\n      <td>10.416128</td>\n      <td>17.402353</td>\n      <td>12.441997</td>\n      <td>11.067823</td>\n      <td>10.429095</td>\n      <td>6.243892</td>\n      <td>13.005648</td>\n      <td>...</td>\n      <td>12.517936</td>\n      <td>9.996335</td>\n      <td>12.519987</td>\n      <td>10.003707</td>\n      <td>15.426147</td>\n      <td>12.924893</td>\n      <td>12.788354</td>\n      <td>13.144920</td>\n      <td>15.857968</td>\n      <td>11.028722</td>\n    </tr>\n    <tr>\n      <th>5</th>\n      <td>5</td>\n      <td>18.816353</td>\n      <td>12.269081</td>\n      <td>12.965464</td>\n      <td>21.608572</td>\n      <td>15.463537</td>\n      <td>14.528601</td>\n      <td>13.527552</td>\n      <td>11.282265</td>\n      <td>15.958690</td>\n      <td>...</td>\n      <td>15.159218</td>\n      <td>14.265300</td>\n      <td>15.566973</td>\n      <td>12.657145</td>\n      <td>18.636890</td>\n      <td>15.978800</td>\n      <td>15.609230</td>\n      <td>16.342558</td>\n      <td>19.140528</td>\n      <td>14.841212</td>\n    </tr>\n    <tr>\n      <th>6</th>\n      <td>6</td>\n      <td>21.922170</td>\n      <td>15.338081</td>\n      <td>14.584889</td>\n      <td>24.379965</td>\n      <td>17.349094</td>\n      <td>16.723515</td>\n      <td>15.463350</td>\n      <td>14.055145</td>\n      <td>17.989294</td>\n      <td>...</td>\n      <td>17.176445</td>\n      <td>17.107775</td>\n      <td>17.438597</td>\n      <td>14.396339</td>\n      <td>20.445940</td>\n      <td>17.826693</td>\n      <td>17.462563</td>\n      <td>18.545862</td>\n      <td>21.521290</td>\n      <td>17.210884</td>\n    </tr>\n    <tr>\n      <th>7</th>\n      <td>7</td>\n      <td>22.062016</td>\n      <td>13.265930</td>\n      <td>14.404764</td>\n      <td>24.355190</td>\n      <td>16.965397</td>\n      <td>16.282425</td>\n      <td>15.149179</td>\n      <td>12.506042</td>\n      <td>17.392649</td>\n      <td>...</td>\n      <td>17.085346</td>\n      <td>15.988512</td>\n      <td>17.039618</td>\n      <td>14.282860</td>\n      <td>19.948132</td>\n      <td>17.355785</td>\n      <td>17.289717</td>\n      <td>18.407234</td>\n      <td>21.894182</td>\n      <td>16.296366</td>\n    </tr>\n    <tr>\n      <th>8</th>\n      <td>8</td>\n      <td>19.078846</td>\n      <td>8.076475</td>\n      <td>12.664339</td>\n      <td>20.879818</td>\n      <td>13.734140</td>\n      <td>13.088995</td>\n      <td>11.926428</td>\n      <td>8.020651</td>\n      <td>13.386203</td>\n      <td>...</td>\n      <td>14.339943</td>\n      <td>11.410322</td>\n      <td>13.400022</td>\n      <td>12.310248</td>\n      <td>15.978831</td>\n      <td>13.490389</td>\n      <td>14.468262</td>\n      <td>15.758280</td>\n      <td>19.925985</td>\n      <td>11.812094</td>\n    </tr>\n    <tr>\n      <th>9</th>\n      <td>9</td>\n      <td>14.467189</td>\n      <td>1.882613</td>\n      <td>10.003481</td>\n      <td>16.385544</td>\n      <td>9.000951</td>\n      <td>8.825129</td>\n      <td>7.317640</td>\n      <td>2.559723</td>\n      <td>8.411371</td>\n      <td>...</td>\n      <td>10.356854</td>\n      <td>6.110081</td>\n      <td>8.284483</td>\n      <td>9.353575</td>\n      <td>10.558283</td>\n      <td>8.412096</td>\n      <td>10.359158</td>\n      <td>11.600126</td>\n      <td>16.343023</td>\n      <td>6.441165</td>\n    </tr>\n    <tr>\n      <th>10</th>\n      <td>10</td>\n      <td>9.772955</td>\n      <td>-3.863570</td>\n      <td>6.892594</td>\n      <td>11.801954</td>\n      <td>4.086176</td>\n      <td>4.419141</td>\n      <td>1.787713</td>\n      <td>-3.196100</td>\n      <td>3.124871</td>\n      <td>...</td>\n      <td>6.070536</td>\n      <td>1.019524</td>\n      <td>2.706986</td>\n      <td>5.982785</td>\n      <td>4.791119</td>\n      <td>2.711974</td>\n      <td>5.796972</td>\n      <td>6.843684</td>\n      <td>12.398671</td>\n      <td>1.241667</td>\n    </tr>\n    <tr>\n      <th>11</th>\n      <td>11</td>\n      <td>6.962533</td>\n      <td>-8.211466</td>\n      <td>5.542906</td>\n      <td>7.847636</td>\n      <td>0.842674</td>\n      <td>1.244338</td>\n      <td>-1.950045</td>\n      <td>-6.936752</td>\n      <td>-0.691538</td>\n      <td>...</td>\n      <td>3.581171</td>\n      <td>-3.047957</td>\n      <td>-1.149955</td>\n      <td>4.198056</td>\n      <td>0.170328</td>\n      <td>-1.764418</td>\n      <td>3.165235</td>\n      <td>4.176321</td>\n      <td>9.921191</td>\n      <td>-3.031887</td>\n    </tr>\n  </tbody>\n</table>\n<p>12 rows × 23 columns</p>\n</div>"
     },
     "metadata": {},
     "execution_count": 20
    }
   ],
   "source": [
    "heat.reset_index()"
   ]
  },
  {
   "cell_type": "code",
   "execution_count": 21,
   "metadata": {},
   "outputs": [],
   "source": [
    "heat[\"index\"] = [\"January\",\"February\",\"March\",\"April\",\"May\",\"June\",\"July\",\"August\",\"September\",\"October\",\"November\",\"December\"] "
   ]
  },
  {
   "cell_type": "code",
   "execution_count": 22,
   "metadata": {},
   "outputs": [],
   "source": [
    "heat = heat.set_index(\"index\")"
   ]
  },
  {
   "cell_type": "code",
   "execution_count": 23,
   "metadata": {},
   "outputs": [],
   "source": [
    "rain = pd.DataFrame(dataset_rain.as_dict())"
   ]
  },
  {
   "cell_type": "code",
   "execution_count": 24,
   "metadata": {},
   "outputs": [
    {
     "output_type": "execute_result",
     "data": {
      "text/plain": [
       "    index         ES         FI          IE          GR         DE         DK  \\\n",
       "0       0  57.528797  31.749317  120.890830   91.085430  52.551460  53.563538   \n",
       "1       1  53.789467  23.575377   91.286840   71.133210  41.922870  36.932766   \n",
       "2       2  54.268380  24.509426   84.571840   58.246070  45.974740  38.289967   \n",
       "3       3  52.758064  26.423786   71.686690   39.862915  49.239243  38.007614   \n",
       "4       4  52.006664  32.697273   76.800026   32.865730  62.583405  43.893085   \n",
       "5       5  32.908974  51.651695   71.597240   20.231190  76.006670  53.841156   \n",
       "6       6  15.500742  64.970510   83.131580   13.641286  82.990170  68.726364   \n",
       "7       7  19.024197  67.599490   92.869156   10.457842  77.988120  76.377180   \n",
       "8       8  39.366980  55.035667  100.314514   21.473515  59.712982  67.102980   \n",
       "9       9  63.928814  48.822933  116.039590   63.135950  54.272907  70.074510   \n",
       "10     10  70.126290  43.035320  117.890480   89.926130  56.425488  68.039020   \n",
       "11     11  68.159065  35.790310  126.632650  113.593200  58.345990  58.835075   \n",
       "\n",
       "            AT         SE         PL  ...         NL         EE         CZ  \\\n",
       "0    65.273030  44.764263  33.576008  ...  66.134290  37.586990  40.731377   \n",
       "1    59.768300  32.618690  29.034115  ...  47.844406  26.699276  36.449627   \n",
       "2    72.251510  33.187110  31.130692  ...  51.678783  29.287003  39.861000   \n",
       "3    89.680504  32.058475  39.647530  ...  46.048714  32.668648  45.843742   \n",
       "4   105.823715  38.832684  57.838825  ...  52.368885  41.537148  68.467930   \n",
       "5   134.596620  56.432823  72.904015  ...  63.619250  57.435240  82.721930   \n",
       "6   137.828220  74.272900  87.055145  ...  77.060930  71.064460  90.452850   \n",
       "7   128.424300  76.661890  75.383400  ...  74.986690  78.311264  78.528090   \n",
       "8    95.492905  61.857018  51.341564  ...  67.330124  67.084210  52.749035   \n",
       "9    83.993690  56.287792  42.915610  ...  71.426680  60.711610  43.723045   \n",
       "10   85.282740  53.343530  43.906593  ...  71.044480  55.321392  46.566000   \n",
       "11   77.957690  48.495490  40.544685  ...  72.861240  46.273018  47.571526   \n",
       "\n",
       "            GB         HU         SK         BE         FR          PT  \\\n",
       "0   127.731285  33.278053  39.766270  74.865230  68.429720  101.790200   \n",
       "1    92.173450  31.598017  39.123060  59.198640  59.224693   91.168970   \n",
       "2    91.577410  33.445090  40.093952  61.318380  62.763054   85.435570   \n",
       "3    73.470634  46.900543  53.482292  56.966755  65.354510   66.012100   \n",
       "4    73.750530  63.775642  76.433450  62.731342  73.439156   52.910810   \n",
       "5    74.079180  77.651850  95.903520  70.439100  64.191820   29.089420   \n",
       "6    87.193560  67.639450  98.063385  78.745255  56.204826   11.378544   \n",
       "7   101.518420  62.052418  82.960000  75.790120  63.753063   14.534437   \n",
       "8   105.064350  45.707844  58.305126  68.467000  70.621830   40.705610   \n",
       "9   129.523330  43.105392  51.644794  76.568090  81.900330   90.720620   \n",
       "10  128.499730  52.105736  57.026560  81.144520  83.699480  105.055560   \n",
       "11  133.360320  44.377310  51.036880  84.105606  81.509740  113.247925   \n",
       "\n",
       "           LV  \n",
       "0   38.109130  \n",
       "1   28.870611  \n",
       "2   31.701777  \n",
       "3   35.341030  \n",
       "4   46.398360  \n",
       "5   62.338726  \n",
       "6   77.006820  \n",
       "7   78.464066  \n",
       "8   64.613590  \n",
       "9   59.368645  \n",
       "10  55.263916  \n",
       "11  48.259500  \n",
       "\n",
       "[12 rows x 23 columns]"
      ],
      "text/html": "<div>\n<style scoped>\n    .dataframe tbody tr th:only-of-type {\n        vertical-align: middle;\n    }\n\n    .dataframe tbody tr th {\n        vertical-align: top;\n    }\n\n    .dataframe thead th {\n        text-align: right;\n    }\n</style>\n<table border=\"1\" class=\"dataframe\">\n  <thead>\n    <tr style=\"text-align: right;\">\n      <th></th>\n      <th>index</th>\n      <th>ES</th>\n      <th>FI</th>\n      <th>IE</th>\n      <th>GR</th>\n      <th>DE</th>\n      <th>DK</th>\n      <th>AT</th>\n      <th>SE</th>\n      <th>PL</th>\n      <th>...</th>\n      <th>NL</th>\n      <th>EE</th>\n      <th>CZ</th>\n      <th>GB</th>\n      <th>HU</th>\n      <th>SK</th>\n      <th>BE</th>\n      <th>FR</th>\n      <th>PT</th>\n      <th>LV</th>\n    </tr>\n  </thead>\n  <tbody>\n    <tr>\n      <th>0</th>\n      <td>0</td>\n      <td>57.528797</td>\n      <td>31.749317</td>\n      <td>120.890830</td>\n      <td>91.085430</td>\n      <td>52.551460</td>\n      <td>53.563538</td>\n      <td>65.273030</td>\n      <td>44.764263</td>\n      <td>33.576008</td>\n      <td>...</td>\n      <td>66.134290</td>\n      <td>37.586990</td>\n      <td>40.731377</td>\n      <td>127.731285</td>\n      <td>33.278053</td>\n      <td>39.766270</td>\n      <td>74.865230</td>\n      <td>68.429720</td>\n      <td>101.790200</td>\n      <td>38.109130</td>\n    </tr>\n    <tr>\n      <th>1</th>\n      <td>1</td>\n      <td>53.789467</td>\n      <td>23.575377</td>\n      <td>91.286840</td>\n      <td>71.133210</td>\n      <td>41.922870</td>\n      <td>36.932766</td>\n      <td>59.768300</td>\n      <td>32.618690</td>\n      <td>29.034115</td>\n      <td>...</td>\n      <td>47.844406</td>\n      <td>26.699276</td>\n      <td>36.449627</td>\n      <td>92.173450</td>\n      <td>31.598017</td>\n      <td>39.123060</td>\n      <td>59.198640</td>\n      <td>59.224693</td>\n      <td>91.168970</td>\n      <td>28.870611</td>\n    </tr>\n    <tr>\n      <th>2</th>\n      <td>2</td>\n      <td>54.268380</td>\n      <td>24.509426</td>\n      <td>84.571840</td>\n      <td>58.246070</td>\n      <td>45.974740</td>\n      <td>38.289967</td>\n      <td>72.251510</td>\n      <td>33.187110</td>\n      <td>31.130692</td>\n      <td>...</td>\n      <td>51.678783</td>\n      <td>29.287003</td>\n      <td>39.861000</td>\n      <td>91.577410</td>\n      <td>33.445090</td>\n      <td>40.093952</td>\n      <td>61.318380</td>\n      <td>62.763054</td>\n      <td>85.435570</td>\n      <td>31.701777</td>\n    </tr>\n    <tr>\n      <th>3</th>\n      <td>3</td>\n      <td>52.758064</td>\n      <td>26.423786</td>\n      <td>71.686690</td>\n      <td>39.862915</td>\n      <td>49.239243</td>\n      <td>38.007614</td>\n      <td>89.680504</td>\n      <td>32.058475</td>\n      <td>39.647530</td>\n      <td>...</td>\n      <td>46.048714</td>\n      <td>32.668648</td>\n      <td>45.843742</td>\n      <td>73.470634</td>\n      <td>46.900543</td>\n      <td>53.482292</td>\n      <td>56.966755</td>\n      <td>65.354510</td>\n      <td>66.012100</td>\n      <td>35.341030</td>\n    </tr>\n    <tr>\n      <th>4</th>\n      <td>4</td>\n      <td>52.006664</td>\n      <td>32.697273</td>\n      <td>76.800026</td>\n      <td>32.865730</td>\n      <td>62.583405</td>\n      <td>43.893085</td>\n      <td>105.823715</td>\n      <td>38.832684</td>\n      <td>57.838825</td>\n      <td>...</td>\n      <td>52.368885</td>\n      <td>41.537148</td>\n      <td>68.467930</td>\n      <td>73.750530</td>\n      <td>63.775642</td>\n      <td>76.433450</td>\n      <td>62.731342</td>\n      <td>73.439156</td>\n      <td>52.910810</td>\n      <td>46.398360</td>\n    </tr>\n    <tr>\n      <th>5</th>\n      <td>5</td>\n      <td>32.908974</td>\n      <td>51.651695</td>\n      <td>71.597240</td>\n      <td>20.231190</td>\n      <td>76.006670</td>\n      <td>53.841156</td>\n      <td>134.596620</td>\n      <td>56.432823</td>\n      <td>72.904015</td>\n      <td>...</td>\n      <td>63.619250</td>\n      <td>57.435240</td>\n      <td>82.721930</td>\n      <td>74.079180</td>\n      <td>77.651850</td>\n      <td>95.903520</td>\n      <td>70.439100</td>\n      <td>64.191820</td>\n      <td>29.089420</td>\n      <td>62.338726</td>\n    </tr>\n    <tr>\n      <th>6</th>\n      <td>6</td>\n      <td>15.500742</td>\n      <td>64.970510</td>\n      <td>83.131580</td>\n      <td>13.641286</td>\n      <td>82.990170</td>\n      <td>68.726364</td>\n      <td>137.828220</td>\n      <td>74.272900</td>\n      <td>87.055145</td>\n      <td>...</td>\n      <td>77.060930</td>\n      <td>71.064460</td>\n      <td>90.452850</td>\n      <td>87.193560</td>\n      <td>67.639450</td>\n      <td>98.063385</td>\n      <td>78.745255</td>\n      <td>56.204826</td>\n      <td>11.378544</td>\n      <td>77.006820</td>\n    </tr>\n    <tr>\n      <th>7</th>\n      <td>7</td>\n      <td>19.024197</td>\n      <td>67.599490</td>\n      <td>92.869156</td>\n      <td>10.457842</td>\n      <td>77.988120</td>\n      <td>76.377180</td>\n      <td>128.424300</td>\n      <td>76.661890</td>\n      <td>75.383400</td>\n      <td>...</td>\n      <td>74.986690</td>\n      <td>78.311264</td>\n      <td>78.528090</td>\n      <td>101.518420</td>\n      <td>62.052418</td>\n      <td>82.960000</td>\n      <td>75.790120</td>\n      <td>63.753063</td>\n      <td>14.534437</td>\n      <td>78.464066</td>\n    </tr>\n    <tr>\n      <th>8</th>\n      <td>8</td>\n      <td>39.366980</td>\n      <td>55.035667</td>\n      <td>100.314514</td>\n      <td>21.473515</td>\n      <td>59.712982</td>\n      <td>67.102980</td>\n      <td>95.492905</td>\n      <td>61.857018</td>\n      <td>51.341564</td>\n      <td>...</td>\n      <td>67.330124</td>\n      <td>67.084210</td>\n      <td>52.749035</td>\n      <td>105.064350</td>\n      <td>45.707844</td>\n      <td>58.305126</td>\n      <td>68.467000</td>\n      <td>70.621830</td>\n      <td>40.705610</td>\n      <td>64.613590</td>\n    </tr>\n    <tr>\n      <th>9</th>\n      <td>9</td>\n      <td>63.928814</td>\n      <td>48.822933</td>\n      <td>116.039590</td>\n      <td>63.135950</td>\n      <td>54.272907</td>\n      <td>70.074510</td>\n      <td>83.993690</td>\n      <td>56.287792</td>\n      <td>42.915610</td>\n      <td>...</td>\n      <td>71.426680</td>\n      <td>60.711610</td>\n      <td>43.723045</td>\n      <td>129.523330</td>\n      <td>43.105392</td>\n      <td>51.644794</td>\n      <td>76.568090</td>\n      <td>81.900330</td>\n      <td>90.720620</td>\n      <td>59.368645</td>\n    </tr>\n    <tr>\n      <th>10</th>\n      <td>10</td>\n      <td>70.126290</td>\n      <td>43.035320</td>\n      <td>117.890480</td>\n      <td>89.926130</td>\n      <td>56.425488</td>\n      <td>68.039020</td>\n      <td>85.282740</td>\n      <td>53.343530</td>\n      <td>43.906593</td>\n      <td>...</td>\n      <td>71.044480</td>\n      <td>55.321392</td>\n      <td>46.566000</td>\n      <td>128.499730</td>\n      <td>52.105736</td>\n      <td>57.026560</td>\n      <td>81.144520</td>\n      <td>83.699480</td>\n      <td>105.055560</td>\n      <td>55.263916</td>\n    </tr>\n    <tr>\n      <th>11</th>\n      <td>11</td>\n      <td>68.159065</td>\n      <td>35.790310</td>\n      <td>126.632650</td>\n      <td>113.593200</td>\n      <td>58.345990</td>\n      <td>58.835075</td>\n      <td>77.957690</td>\n      <td>48.495490</td>\n      <td>40.544685</td>\n      <td>...</td>\n      <td>72.861240</td>\n      <td>46.273018</td>\n      <td>47.571526</td>\n      <td>133.360320</td>\n      <td>44.377310</td>\n      <td>51.036880</td>\n      <td>84.105606</td>\n      <td>81.509740</td>\n      <td>113.247925</td>\n      <td>48.259500</td>\n    </tr>\n  </tbody>\n</table>\n<p>12 rows × 23 columns</p>\n</div>"
     },
     "metadata": {},
     "execution_count": 24
    }
   ],
   "source": [
    "rain.reset_index()"
   ]
  },
  {
   "cell_type": "code",
   "execution_count": 25,
   "metadata": {},
   "outputs": [],
   "source": [
    "rain[\"index\"] = [\"January\",\"February\",\"March\",\"April\",\"May\",\"June\",\"July\",\"August\",\"September\",\"October\",\"November\",\"December\"] "
   ]
  },
  {
   "cell_type": "code",
   "execution_count": 26,
   "metadata": {},
   "outputs": [],
   "source": [
    "rain = rain.set_index(\"index\")"
   ]
  },
  {
   "cell_type": "code",
   "execution_count": 27,
   "metadata": {},
   "outputs": [
    {
     "output_type": "execute_result",
     "data": {
      "text/plain": [
       "                  ES         FI          IE          GR         DE         DK  \\\n",
       "index                                                                           \n",
       "January    57.528797  31.749317  120.890830   91.085430  52.551460  53.563538   \n",
       "February   53.789467  23.575377   91.286840   71.133210  41.922870  36.932766   \n",
       "March      54.268380  24.509426   84.571840   58.246070  45.974740  38.289967   \n",
       "April      52.758064  26.423786   71.686690   39.862915  49.239243  38.007614   \n",
       "May        52.006664  32.697273   76.800026   32.865730  62.583405  43.893085   \n",
       "June       32.908974  51.651695   71.597240   20.231190  76.006670  53.841156   \n",
       "July       15.500742  64.970510   83.131580   13.641286  82.990170  68.726364   \n",
       "August     19.024197  67.599490   92.869156   10.457842  77.988120  76.377180   \n",
       "September  39.366980  55.035667  100.314514   21.473515  59.712982  67.102980   \n",
       "October    63.928814  48.822933  116.039590   63.135950  54.272907  70.074510   \n",
       "November   70.126290  43.035320  117.890480   89.926130  56.425488  68.039020   \n",
       "December   68.159065  35.790310  126.632650  113.593200  58.345990  58.835075   \n",
       "\n",
       "                   AT         SE         PL         LT  ...         NL  \\\n",
       "index                                                   ...              \n",
       "January     65.273030  44.764263  33.576008  37.961960  ...  66.134290   \n",
       "February    59.768300  32.618690  29.034115  30.297699  ...  47.844406   \n",
       "March       72.251510  33.187110  31.130692  33.006306  ...  51.678783   \n",
       "April       89.680504  32.058475  39.647530  38.240402  ...  46.048714   \n",
       "May        105.823715  38.832684  57.838825  50.030220  ...  52.368885   \n",
       "June       134.596620  56.432823  72.904015  67.700940  ...  63.619250   \n",
       "July       137.828220  74.272900  87.055145  82.538160  ...  77.060930   \n",
       "August     128.424300  76.661890  75.383400  81.510180  ...  74.986690   \n",
       "September   95.492905  61.857018  51.341564  60.759197  ...  67.330124   \n",
       "October     83.993690  56.287792  42.915610  55.295452  ...  71.426680   \n",
       "November    85.282740  53.343530  43.906593  53.602287  ...  71.044480   \n",
       "December    77.957690  48.495490  40.544685  48.640812  ...  72.861240   \n",
       "\n",
       "                  EE         CZ          GB         HU         SK         BE  \\\n",
       "index                                                                          \n",
       "January    37.586990  40.731377  127.731285  33.278053  39.766270  74.865230   \n",
       "February   26.699276  36.449627   92.173450  31.598017  39.123060  59.198640   \n",
       "March      29.287003  39.861000   91.577410  33.445090  40.093952  61.318380   \n",
       "April      32.668648  45.843742   73.470634  46.900543  53.482292  56.966755   \n",
       "May        41.537148  68.467930   73.750530  63.775642  76.433450  62.731342   \n",
       "June       57.435240  82.721930   74.079180  77.651850  95.903520  70.439100   \n",
       "July       71.064460  90.452850   87.193560  67.639450  98.063385  78.745255   \n",
       "August     78.311264  78.528090  101.518420  62.052418  82.960000  75.790120   \n",
       "September  67.084210  52.749035  105.064350  45.707844  58.305126  68.467000   \n",
       "October    60.711610  43.723045  129.523330  43.105392  51.644794  76.568090   \n",
       "November   55.321392  46.566000  128.499730  52.105736  57.026560  81.144520   \n",
       "December   46.273018  47.571526  133.360320  44.377310  51.036880  84.105606   \n",
       "\n",
       "                  FR          PT         LV  \n",
       "index                                        \n",
       "January    68.429720  101.790200  38.109130  \n",
       "February   59.224693   91.168970  28.870611  \n",
       "March      62.763054   85.435570  31.701777  \n",
       "April      65.354510   66.012100  35.341030  \n",
       "May        73.439156   52.910810  46.398360  \n",
       "June       64.191820   29.089420  62.338726  \n",
       "July       56.204826   11.378544  77.006820  \n",
       "August     63.753063   14.534437  78.464066  \n",
       "September  70.621830   40.705610  64.613590  \n",
       "October    81.900330   90.720620  59.368645  \n",
       "November   83.699480  105.055560  55.263916  \n",
       "December   81.509740  113.247925  48.259500  \n",
       "\n",
       "[12 rows x 22 columns]"
      ],
      "text/html": "<div>\n<style scoped>\n    .dataframe tbody tr th:only-of-type {\n        vertical-align: middle;\n    }\n\n    .dataframe tbody tr th {\n        vertical-align: top;\n    }\n\n    .dataframe thead th {\n        text-align: right;\n    }\n</style>\n<table border=\"1\" class=\"dataframe\">\n  <thead>\n    <tr style=\"text-align: right;\">\n      <th></th>\n      <th>ES</th>\n      <th>FI</th>\n      <th>IE</th>\n      <th>GR</th>\n      <th>DE</th>\n      <th>DK</th>\n      <th>AT</th>\n      <th>SE</th>\n      <th>PL</th>\n      <th>LT</th>\n      <th>...</th>\n      <th>NL</th>\n      <th>EE</th>\n      <th>CZ</th>\n      <th>GB</th>\n      <th>HU</th>\n      <th>SK</th>\n      <th>BE</th>\n      <th>FR</th>\n      <th>PT</th>\n      <th>LV</th>\n    </tr>\n    <tr>\n      <th>index</th>\n      <th></th>\n      <th></th>\n      <th></th>\n      <th></th>\n      <th></th>\n      <th></th>\n      <th></th>\n      <th></th>\n      <th></th>\n      <th></th>\n      <th></th>\n      <th></th>\n      <th></th>\n      <th></th>\n      <th></th>\n      <th></th>\n      <th></th>\n      <th></th>\n      <th></th>\n      <th></th>\n      <th></th>\n    </tr>\n  </thead>\n  <tbody>\n    <tr>\n      <th>January</th>\n      <td>57.528797</td>\n      <td>31.749317</td>\n      <td>120.890830</td>\n      <td>91.085430</td>\n      <td>52.551460</td>\n      <td>53.563538</td>\n      <td>65.273030</td>\n      <td>44.764263</td>\n      <td>33.576008</td>\n      <td>37.961960</td>\n      <td>...</td>\n      <td>66.134290</td>\n      <td>37.586990</td>\n      <td>40.731377</td>\n      <td>127.731285</td>\n      <td>33.278053</td>\n      <td>39.766270</td>\n      <td>74.865230</td>\n      <td>68.429720</td>\n      <td>101.790200</td>\n      <td>38.109130</td>\n    </tr>\n    <tr>\n      <th>February</th>\n      <td>53.789467</td>\n      <td>23.575377</td>\n      <td>91.286840</td>\n      <td>71.133210</td>\n      <td>41.922870</td>\n      <td>36.932766</td>\n      <td>59.768300</td>\n      <td>32.618690</td>\n      <td>29.034115</td>\n      <td>30.297699</td>\n      <td>...</td>\n      <td>47.844406</td>\n      <td>26.699276</td>\n      <td>36.449627</td>\n      <td>92.173450</td>\n      <td>31.598017</td>\n      <td>39.123060</td>\n      <td>59.198640</td>\n      <td>59.224693</td>\n      <td>91.168970</td>\n      <td>28.870611</td>\n    </tr>\n    <tr>\n      <th>March</th>\n      <td>54.268380</td>\n      <td>24.509426</td>\n      <td>84.571840</td>\n      <td>58.246070</td>\n      <td>45.974740</td>\n      <td>38.289967</td>\n      <td>72.251510</td>\n      <td>33.187110</td>\n      <td>31.130692</td>\n      <td>33.006306</td>\n      <td>...</td>\n      <td>51.678783</td>\n      <td>29.287003</td>\n      <td>39.861000</td>\n      <td>91.577410</td>\n      <td>33.445090</td>\n      <td>40.093952</td>\n      <td>61.318380</td>\n      <td>62.763054</td>\n      <td>85.435570</td>\n      <td>31.701777</td>\n    </tr>\n    <tr>\n      <th>April</th>\n      <td>52.758064</td>\n      <td>26.423786</td>\n      <td>71.686690</td>\n      <td>39.862915</td>\n      <td>49.239243</td>\n      <td>38.007614</td>\n      <td>89.680504</td>\n      <td>32.058475</td>\n      <td>39.647530</td>\n      <td>38.240402</td>\n      <td>...</td>\n      <td>46.048714</td>\n      <td>32.668648</td>\n      <td>45.843742</td>\n      <td>73.470634</td>\n      <td>46.900543</td>\n      <td>53.482292</td>\n      <td>56.966755</td>\n      <td>65.354510</td>\n      <td>66.012100</td>\n      <td>35.341030</td>\n    </tr>\n    <tr>\n      <th>May</th>\n      <td>52.006664</td>\n      <td>32.697273</td>\n      <td>76.800026</td>\n      <td>32.865730</td>\n      <td>62.583405</td>\n      <td>43.893085</td>\n      <td>105.823715</td>\n      <td>38.832684</td>\n      <td>57.838825</td>\n      <td>50.030220</td>\n      <td>...</td>\n      <td>52.368885</td>\n      <td>41.537148</td>\n      <td>68.467930</td>\n      <td>73.750530</td>\n      <td>63.775642</td>\n      <td>76.433450</td>\n      <td>62.731342</td>\n      <td>73.439156</td>\n      <td>52.910810</td>\n      <td>46.398360</td>\n    </tr>\n    <tr>\n      <th>June</th>\n      <td>32.908974</td>\n      <td>51.651695</td>\n      <td>71.597240</td>\n      <td>20.231190</td>\n      <td>76.006670</td>\n      <td>53.841156</td>\n      <td>134.596620</td>\n      <td>56.432823</td>\n      <td>72.904015</td>\n      <td>67.700940</td>\n      <td>...</td>\n      <td>63.619250</td>\n      <td>57.435240</td>\n      <td>82.721930</td>\n      <td>74.079180</td>\n      <td>77.651850</td>\n      <td>95.903520</td>\n      <td>70.439100</td>\n      <td>64.191820</td>\n      <td>29.089420</td>\n      <td>62.338726</td>\n    </tr>\n    <tr>\n      <th>July</th>\n      <td>15.500742</td>\n      <td>64.970510</td>\n      <td>83.131580</td>\n      <td>13.641286</td>\n      <td>82.990170</td>\n      <td>68.726364</td>\n      <td>137.828220</td>\n      <td>74.272900</td>\n      <td>87.055145</td>\n      <td>82.538160</td>\n      <td>...</td>\n      <td>77.060930</td>\n      <td>71.064460</td>\n      <td>90.452850</td>\n      <td>87.193560</td>\n      <td>67.639450</td>\n      <td>98.063385</td>\n      <td>78.745255</td>\n      <td>56.204826</td>\n      <td>11.378544</td>\n      <td>77.006820</td>\n    </tr>\n    <tr>\n      <th>August</th>\n      <td>19.024197</td>\n      <td>67.599490</td>\n      <td>92.869156</td>\n      <td>10.457842</td>\n      <td>77.988120</td>\n      <td>76.377180</td>\n      <td>128.424300</td>\n      <td>76.661890</td>\n      <td>75.383400</td>\n      <td>81.510180</td>\n      <td>...</td>\n      <td>74.986690</td>\n      <td>78.311264</td>\n      <td>78.528090</td>\n      <td>101.518420</td>\n      <td>62.052418</td>\n      <td>82.960000</td>\n      <td>75.790120</td>\n      <td>63.753063</td>\n      <td>14.534437</td>\n      <td>78.464066</td>\n    </tr>\n    <tr>\n      <th>September</th>\n      <td>39.366980</td>\n      <td>55.035667</td>\n      <td>100.314514</td>\n      <td>21.473515</td>\n      <td>59.712982</td>\n      <td>67.102980</td>\n      <td>95.492905</td>\n      <td>61.857018</td>\n      <td>51.341564</td>\n      <td>60.759197</td>\n      <td>...</td>\n      <td>67.330124</td>\n      <td>67.084210</td>\n      <td>52.749035</td>\n      <td>105.064350</td>\n      <td>45.707844</td>\n      <td>58.305126</td>\n      <td>68.467000</td>\n      <td>70.621830</td>\n      <td>40.705610</td>\n      <td>64.613590</td>\n    </tr>\n    <tr>\n      <th>October</th>\n      <td>63.928814</td>\n      <td>48.822933</td>\n      <td>116.039590</td>\n      <td>63.135950</td>\n      <td>54.272907</td>\n      <td>70.074510</td>\n      <td>83.993690</td>\n      <td>56.287792</td>\n      <td>42.915610</td>\n      <td>55.295452</td>\n      <td>...</td>\n      <td>71.426680</td>\n      <td>60.711610</td>\n      <td>43.723045</td>\n      <td>129.523330</td>\n      <td>43.105392</td>\n      <td>51.644794</td>\n      <td>76.568090</td>\n      <td>81.900330</td>\n      <td>90.720620</td>\n      <td>59.368645</td>\n    </tr>\n    <tr>\n      <th>November</th>\n      <td>70.126290</td>\n      <td>43.035320</td>\n      <td>117.890480</td>\n      <td>89.926130</td>\n      <td>56.425488</td>\n      <td>68.039020</td>\n      <td>85.282740</td>\n      <td>53.343530</td>\n      <td>43.906593</td>\n      <td>53.602287</td>\n      <td>...</td>\n      <td>71.044480</td>\n      <td>55.321392</td>\n      <td>46.566000</td>\n      <td>128.499730</td>\n      <td>52.105736</td>\n      <td>57.026560</td>\n      <td>81.144520</td>\n      <td>83.699480</td>\n      <td>105.055560</td>\n      <td>55.263916</td>\n    </tr>\n    <tr>\n      <th>December</th>\n      <td>68.159065</td>\n      <td>35.790310</td>\n      <td>126.632650</td>\n      <td>113.593200</td>\n      <td>58.345990</td>\n      <td>58.835075</td>\n      <td>77.957690</td>\n      <td>48.495490</td>\n      <td>40.544685</td>\n      <td>48.640812</td>\n      <td>...</td>\n      <td>72.861240</td>\n      <td>46.273018</td>\n      <td>47.571526</td>\n      <td>133.360320</td>\n      <td>44.377310</td>\n      <td>51.036880</td>\n      <td>84.105606</td>\n      <td>81.509740</td>\n      <td>113.247925</td>\n      <td>48.259500</td>\n    </tr>\n  </tbody>\n</table>\n<p>12 rows × 22 columns</p>\n</div>"
     },
     "metadata": {},
     "execution_count": 27
    }
   ],
   "source": [
    "rain"
   ]
  },
  {
   "cell_type": "code",
   "execution_count": 28,
   "metadata": {},
   "outputs": [
    {
     "output_type": "execute_result",
     "data": {
      "text/plain": [
       "                  ES         FI         IE         GR         DE         DK  \\\n",
       "index                                                                         \n",
       "January     6.291456 -10.748751   4.941451   6.198190  -0.403843  -0.262061   \n",
       "February    7.338598 -10.811792   5.049791   7.034666   0.443690  -0.289854   \n",
       "March       9.505770  -6.259520   6.248523   9.367796   3.921759   2.207672   \n",
       "April      11.516542  -0.023051   7.906190  12.979808   7.859054   6.303566   \n",
       "May        14.853701   6.519710  10.416128  17.402353  12.441997  11.067823   \n",
       "June       18.816353  12.269081  12.965464  21.608572  15.463537  14.528601   \n",
       "July       21.922170  15.338081  14.584889  24.379965  17.349094  16.723515   \n",
       "August     22.062016  13.265930  14.404764  24.355190  16.965397  16.282425   \n",
       "September  19.078846   8.076475  12.664339  20.879818  13.734140  13.088995   \n",
       "October    14.467189   1.882613  10.003481  16.385544   9.000951   8.825129   \n",
       "November    9.772955  -3.863570   6.892594  11.801954   4.086176   4.419141   \n",
       "December    6.962533  -8.211466   5.542906   7.847636   0.842674   1.244338   \n",
       "\n",
       "                  AT         SE         PL         LT  ...         NL  \\\n",
       "index                                                  ...              \n",
       "January    -3.332679  -8.793123  -2.630924  -4.828113  ...   2.398871   \n",
       "February   -2.094052  -8.384419  -1.486207  -4.408469  ...   2.774265   \n",
       "March       1.672325  -4.721192   2.484574  -0.421386  ...   5.455252   \n",
       "April       5.712003   0.474012   7.460264   6.247346  ...   8.296429   \n",
       "May        10.429095   6.243892  13.005648  12.113564  ...  12.517936   \n",
       "June       13.527552  11.282265  15.958690  15.554888  ...  15.159218   \n",
       "July       15.463350  14.055145  17.989294  17.623066  ...  17.176445   \n",
       "August     15.149179  12.506042  17.392649  16.844069  ...  17.085346   \n",
       "September  11.926428   8.020651  13.386203  12.477890  ...  14.339943   \n",
       "October     7.317640   2.559723   8.411371   7.005772  ...  10.356854   \n",
       "November    1.787713  -3.196100   3.124871   1.717743  ...   6.070536   \n",
       "December   -1.950045  -6.936752  -0.691538  -2.569620  ...   3.581171   \n",
       "\n",
       "                  EE         CZ         GB         HU         SK         BE  \\\n",
       "index                                                                         \n",
       "January    -5.424954  -2.657306   3.548619  -1.884837  -3.598736   2.197550   \n",
       "February   -5.802876  -1.357963   3.580959   0.250475  -1.806633   2.771473   \n",
       "March      -2.215109   2.754628   5.064868   5.148767   2.670311   5.672409   \n",
       "April       4.161221   7.576157   7.073514  10.475495   7.895511   8.623060   \n",
       "May         9.996335  12.519987  10.003707  15.426147  12.924893  12.788354   \n",
       "June       14.265300  15.566973  12.657145  18.636890  15.978800  15.609230   \n",
       "July       17.107775  17.438597  14.396339  20.445940  17.826693  17.462563   \n",
       "August     15.988512  17.039618  14.282860  19.948132  17.355785  17.289717   \n",
       "September  11.410322  13.400022  12.310248  15.978831  13.490389  14.468262   \n",
       "October     6.110081   8.284483   9.353575  10.558283   8.412096  10.359158   \n",
       "November    1.019524   2.706986   5.982785   4.791119   2.711974   5.796972   \n",
       "December   -3.047957  -1.149955   4.198056   0.170328  -1.764418   3.165235   \n",
       "\n",
       "                  FR         PT         LV  \n",
       "index                                       \n",
       "January     3.351265   9.273903  -5.161258  \n",
       "February    4.150623   9.938265  -5.151318  \n",
       "March       6.769156  11.682998  -1.452637  \n",
       "April       9.385042  13.311829   5.160033  \n",
       "May        13.144920  15.857968  11.028722  \n",
       "June       16.342558  19.140528  14.841212  \n",
       "July       18.545862  21.521290  17.210884  \n",
       "August     18.407234  21.894182  16.296366  \n",
       "September  15.758280  19.925985  11.812094  \n",
       "October    11.600126  16.343023   6.441165  \n",
       "November    6.843684  12.398671   1.241667  \n",
       "December    4.176321   9.921191  -3.031887  \n",
       "\n",
       "[12 rows x 22 columns]"
      ],
      "text/html": "<div>\n<style scoped>\n    .dataframe tbody tr th:only-of-type {\n        vertical-align: middle;\n    }\n\n    .dataframe tbody tr th {\n        vertical-align: top;\n    }\n\n    .dataframe thead th {\n        text-align: right;\n    }\n</style>\n<table border=\"1\" class=\"dataframe\">\n  <thead>\n    <tr style=\"text-align: right;\">\n      <th></th>\n      <th>ES</th>\n      <th>FI</th>\n      <th>IE</th>\n      <th>GR</th>\n      <th>DE</th>\n      <th>DK</th>\n      <th>AT</th>\n      <th>SE</th>\n      <th>PL</th>\n      <th>LT</th>\n      <th>...</th>\n      <th>NL</th>\n      <th>EE</th>\n      <th>CZ</th>\n      <th>GB</th>\n      <th>HU</th>\n      <th>SK</th>\n      <th>BE</th>\n      <th>FR</th>\n      <th>PT</th>\n      <th>LV</th>\n    </tr>\n    <tr>\n      <th>index</th>\n      <th></th>\n      <th></th>\n      <th></th>\n      <th></th>\n      <th></th>\n      <th></th>\n      <th></th>\n      <th></th>\n      <th></th>\n      <th></th>\n      <th></th>\n      <th></th>\n      <th></th>\n      <th></th>\n      <th></th>\n      <th></th>\n      <th></th>\n      <th></th>\n      <th></th>\n      <th></th>\n      <th></th>\n    </tr>\n  </thead>\n  <tbody>\n    <tr>\n      <th>January</th>\n      <td>6.291456</td>\n      <td>-10.748751</td>\n      <td>4.941451</td>\n      <td>6.198190</td>\n      <td>-0.403843</td>\n      <td>-0.262061</td>\n      <td>-3.332679</td>\n      <td>-8.793123</td>\n      <td>-2.630924</td>\n      <td>-4.828113</td>\n      <td>...</td>\n      <td>2.398871</td>\n      <td>-5.424954</td>\n      <td>-2.657306</td>\n      <td>3.548619</td>\n      <td>-1.884837</td>\n      <td>-3.598736</td>\n      <td>2.197550</td>\n      <td>3.351265</td>\n      <td>9.273903</td>\n      <td>-5.161258</td>\n    </tr>\n    <tr>\n      <th>February</th>\n      <td>7.338598</td>\n      <td>-10.811792</td>\n      <td>5.049791</td>\n      <td>7.034666</td>\n      <td>0.443690</td>\n      <td>-0.289854</td>\n      <td>-2.094052</td>\n      <td>-8.384419</td>\n      <td>-1.486207</td>\n      <td>-4.408469</td>\n      <td>...</td>\n      <td>2.774265</td>\n      <td>-5.802876</td>\n      <td>-1.357963</td>\n      <td>3.580959</td>\n      <td>0.250475</td>\n      <td>-1.806633</td>\n      <td>2.771473</td>\n      <td>4.150623</td>\n      <td>9.938265</td>\n      <td>-5.151318</td>\n    </tr>\n    <tr>\n      <th>March</th>\n      <td>9.505770</td>\n      <td>-6.259520</td>\n      <td>6.248523</td>\n      <td>9.367796</td>\n      <td>3.921759</td>\n      <td>2.207672</td>\n      <td>1.672325</td>\n      <td>-4.721192</td>\n      <td>2.484574</td>\n      <td>-0.421386</td>\n      <td>...</td>\n      <td>5.455252</td>\n      <td>-2.215109</td>\n      <td>2.754628</td>\n      <td>5.064868</td>\n      <td>5.148767</td>\n      <td>2.670311</td>\n      <td>5.672409</td>\n      <td>6.769156</td>\n      <td>11.682998</td>\n      <td>-1.452637</td>\n    </tr>\n    <tr>\n      <th>April</th>\n      <td>11.516542</td>\n      <td>-0.023051</td>\n      <td>7.906190</td>\n      <td>12.979808</td>\n      <td>7.859054</td>\n      <td>6.303566</td>\n      <td>5.712003</td>\n      <td>0.474012</td>\n      <td>7.460264</td>\n      <td>6.247346</td>\n      <td>...</td>\n      <td>8.296429</td>\n      <td>4.161221</td>\n      <td>7.576157</td>\n      <td>7.073514</td>\n      <td>10.475495</td>\n      <td>7.895511</td>\n      <td>8.623060</td>\n      <td>9.385042</td>\n      <td>13.311829</td>\n      <td>5.160033</td>\n    </tr>\n    <tr>\n      <th>May</th>\n      <td>14.853701</td>\n      <td>6.519710</td>\n      <td>10.416128</td>\n      <td>17.402353</td>\n      <td>12.441997</td>\n      <td>11.067823</td>\n      <td>10.429095</td>\n      <td>6.243892</td>\n      <td>13.005648</td>\n      <td>12.113564</td>\n      <td>...</td>\n      <td>12.517936</td>\n      <td>9.996335</td>\n      <td>12.519987</td>\n      <td>10.003707</td>\n      <td>15.426147</td>\n      <td>12.924893</td>\n      <td>12.788354</td>\n      <td>13.144920</td>\n      <td>15.857968</td>\n      <td>11.028722</td>\n    </tr>\n    <tr>\n      <th>June</th>\n      <td>18.816353</td>\n      <td>12.269081</td>\n      <td>12.965464</td>\n      <td>21.608572</td>\n      <td>15.463537</td>\n      <td>14.528601</td>\n      <td>13.527552</td>\n      <td>11.282265</td>\n      <td>15.958690</td>\n      <td>15.554888</td>\n      <td>...</td>\n      <td>15.159218</td>\n      <td>14.265300</td>\n      <td>15.566973</td>\n      <td>12.657145</td>\n      <td>18.636890</td>\n      <td>15.978800</td>\n      <td>15.609230</td>\n      <td>16.342558</td>\n      <td>19.140528</td>\n      <td>14.841212</td>\n    </tr>\n    <tr>\n      <th>July</th>\n      <td>21.922170</td>\n      <td>15.338081</td>\n      <td>14.584889</td>\n      <td>24.379965</td>\n      <td>17.349094</td>\n      <td>16.723515</td>\n      <td>15.463350</td>\n      <td>14.055145</td>\n      <td>17.989294</td>\n      <td>17.623066</td>\n      <td>...</td>\n      <td>17.176445</td>\n      <td>17.107775</td>\n      <td>17.438597</td>\n      <td>14.396339</td>\n      <td>20.445940</td>\n      <td>17.826693</td>\n      <td>17.462563</td>\n      <td>18.545862</td>\n      <td>21.521290</td>\n      <td>17.210884</td>\n    </tr>\n    <tr>\n      <th>August</th>\n      <td>22.062016</td>\n      <td>13.265930</td>\n      <td>14.404764</td>\n      <td>24.355190</td>\n      <td>16.965397</td>\n      <td>16.282425</td>\n      <td>15.149179</td>\n      <td>12.506042</td>\n      <td>17.392649</td>\n      <td>16.844069</td>\n      <td>...</td>\n      <td>17.085346</td>\n      <td>15.988512</td>\n      <td>17.039618</td>\n      <td>14.282860</td>\n      <td>19.948132</td>\n      <td>17.355785</td>\n      <td>17.289717</td>\n      <td>18.407234</td>\n      <td>21.894182</td>\n      <td>16.296366</td>\n    </tr>\n    <tr>\n      <th>September</th>\n      <td>19.078846</td>\n      <td>8.076475</td>\n      <td>12.664339</td>\n      <td>20.879818</td>\n      <td>13.734140</td>\n      <td>13.088995</td>\n      <td>11.926428</td>\n      <td>8.020651</td>\n      <td>13.386203</td>\n      <td>12.477890</td>\n      <td>...</td>\n      <td>14.339943</td>\n      <td>11.410322</td>\n      <td>13.400022</td>\n      <td>12.310248</td>\n      <td>15.978831</td>\n      <td>13.490389</td>\n      <td>14.468262</td>\n      <td>15.758280</td>\n      <td>19.925985</td>\n      <td>11.812094</td>\n    </tr>\n    <tr>\n      <th>October</th>\n      <td>14.467189</td>\n      <td>1.882613</td>\n      <td>10.003481</td>\n      <td>16.385544</td>\n      <td>9.000951</td>\n      <td>8.825129</td>\n      <td>7.317640</td>\n      <td>2.559723</td>\n      <td>8.411371</td>\n      <td>7.005772</td>\n      <td>...</td>\n      <td>10.356854</td>\n      <td>6.110081</td>\n      <td>8.284483</td>\n      <td>9.353575</td>\n      <td>10.558283</td>\n      <td>8.412096</td>\n      <td>10.359158</td>\n      <td>11.600126</td>\n      <td>16.343023</td>\n      <td>6.441165</td>\n    </tr>\n    <tr>\n      <th>November</th>\n      <td>9.772955</td>\n      <td>-3.863570</td>\n      <td>6.892594</td>\n      <td>11.801954</td>\n      <td>4.086176</td>\n      <td>4.419141</td>\n      <td>1.787713</td>\n      <td>-3.196100</td>\n      <td>3.124871</td>\n      <td>1.717743</td>\n      <td>...</td>\n      <td>6.070536</td>\n      <td>1.019524</td>\n      <td>2.706986</td>\n      <td>5.982785</td>\n      <td>4.791119</td>\n      <td>2.711974</td>\n      <td>5.796972</td>\n      <td>6.843684</td>\n      <td>12.398671</td>\n      <td>1.241667</td>\n    </tr>\n    <tr>\n      <th>December</th>\n      <td>6.962533</td>\n      <td>-8.211466</td>\n      <td>5.542906</td>\n      <td>7.847636</td>\n      <td>0.842674</td>\n      <td>1.244338</td>\n      <td>-1.950045</td>\n      <td>-6.936752</td>\n      <td>-0.691538</td>\n      <td>-2.569620</td>\n      <td>...</td>\n      <td>3.581171</td>\n      <td>-3.047957</td>\n      <td>-1.149955</td>\n      <td>4.198056</td>\n      <td>0.170328</td>\n      <td>-1.764418</td>\n      <td>3.165235</td>\n      <td>4.176321</td>\n      <td>9.921191</td>\n      <td>-3.031887</td>\n    </tr>\n  </tbody>\n</table>\n<p>12 rows × 22 columns</p>\n</div>"
     },
     "metadata": {},
     "execution_count": 28
    }
   ],
   "source": [
    "heat"
   ]
  },
  {
   "cell_type": "code",
   "execution_count": 29,
   "metadata": {},
   "outputs": [
    {
     "output_type": "execute_result",
     "data": {
      "text/plain": [
       "        Position                         Track Name         Artist  Streams  \\\n",
       "0              1         Reggaetón Lento (Bailemos)           CNCO    19272   \n",
       "1              2                           Chantaje        Shakira    19270   \n",
       "2              3          Otra Vez (feat. J Balvin)  Zion & Lennox    15761   \n",
       "3              4                       Vente Pa' Ca   Ricky Martin    14954   \n",
       "4              5                             Safari       J Balvin    14269   \n",
       "...          ...                                ...            ...      ...   \n",
       "490415        21  I Miss You (feat. Julia Michaels)   Clean Bandit     7887   \n",
       "490416        22                           How Long   Charlie Puth     7707   \n",
       "490417        23                  The Greatest Show   Hugh Jackman     7670   \n",
       "490418        24                   A Million Dreams    Ziv Zaifman     7596   \n",
       "490419        25                       Let You Down             NF     7509   \n",
       "\n",
       "                                                      URL        Date Region  \\\n",
       "0       https://open.spotify.com/track/3AEZUABDXNtecAO...  2017-01-01     EC   \n",
       "1       https://open.spotify.com/track/6mICuAdrwEjh6Y6...  2017-01-01     EC   \n",
       "2       https://open.spotify.com/track/3QwBODjSEzelZyV...  2017-01-01     EC   \n",
       "3       https://open.spotify.com/track/7DM4BPaS7uofFul...  2017-01-01     EC   \n",
       "4       https://open.spotify.com/track/6rQSrBHf7HlZjtc...  2017-01-01     EC   \n",
       "...                                                   ...         ...    ...   \n",
       "490415  https://open.spotify.com/track/2xmrfQpmS2iJExT...  2018-01-09     HK   \n",
       "490416  https://open.spotify.com/track/32DGGj6KlNuBr6W...  2018-01-09     HK   \n",
       "490417  https://open.spotify.com/track/43ay9lQZ5rfNcOO...  2018-01-09     HK   \n",
       "490418  https://open.spotify.com/track/0RoA7ObU6phWpqh...  2018-01-09     HK   \n",
       "490419  https://open.spotify.com/track/6mrKP2jyIQmM0rw...  2018-01-09     HK   \n",
       "\n",
       "                      track_id  danceability  energy  ...  liveness  valence  \\\n",
       "0       3AEZUABDXNtecAOSC1qTfo         0.761   0.838  ...    0.1760   0.7100   \n",
       "1       6mICuAdrwEjh6Y6lroV2Kg         0.852   0.773  ...    0.1590   0.9070   \n",
       "2       3QwBODjSEzelZyVjxPOHdq         0.832   0.772  ...    0.4400   0.7040   \n",
       "3       7DM4BPaS7uofFul3ywMe46         0.663   0.920  ...    0.1010   0.5330   \n",
       "4       6rQSrBHf7HlZjtcMZ4S4bO         0.508   0.687  ...    0.1260   0.5550   \n",
       "...                        ...           ...     ...  ...       ...      ...   \n",
       "490415  2xmrfQpmS2iJExTlklLoAL         0.638   0.658  ...    0.0919   0.3300   \n",
       "490416  32DGGj6KlNuBr6WaqRxpxi         0.849   0.581  ...    0.0805   0.7790   \n",
       "490417  43ay9lQZ5rfNcOOHhRF2cM         0.417   0.824  ...    0.0725   0.4000   \n",
       "490418  0RoA7ObU6phWpqhlC9zH4Z         0.265   0.312  ...    0.0893   0.0998   \n",
       "490419  6mrKP2jyIQmM0rw6fQryjr         0.659   0.716  ...    0.1730   0.4370   \n",
       "\n",
       "          tempo            type                      id  \\\n",
       "0        93.974  audio_features  3AEZUABDXNtecAOSC1qTfo   \n",
       "1       102.034  audio_features  6mICuAdrwEjh6Y6lroV2Kg   \n",
       "2        96.016  audio_features  3QwBODjSEzelZyVjxPOHdq   \n",
       "3        99.935  audio_features  7DM4BPaS7uofFul3ywMe46   \n",
       "4       180.044  audio_features  6rQSrBHf7HlZjtcMZ4S4bO   \n",
       "...         ...             ...                     ...   \n",
       "490415  105.076  audio_features  2xmrfQpmS2iJExTlklLoAL   \n",
       "490416  110.008  audio_features  32DGGj6KlNuBr6WaqRxpxi   \n",
       "490417  157.920  audio_features  43ay9lQZ5rfNcOOHhRF2cM   \n",
       "490418   54.747  audio_features  0RoA7ObU6phWpqhlC9zH4Z   \n",
       "490419  148.015  audio_features  6mrKP2jyIQmM0rw6fQryjr   \n",
       "\n",
       "                                         uri  \\\n",
       "0       spotify:track:3AEZUABDXNtecAOSC1qTfo   \n",
       "1       spotify:track:6mICuAdrwEjh6Y6lroV2Kg   \n",
       "2       spotify:track:3QwBODjSEzelZyVjxPOHdq   \n",
       "3       spotify:track:7DM4BPaS7uofFul3ywMe46   \n",
       "4       spotify:track:6rQSrBHf7HlZjtcMZ4S4bO   \n",
       "...                                      ...   \n",
       "490415  spotify:track:2xmrfQpmS2iJExTlklLoAL   \n",
       "490416  spotify:track:32DGGj6KlNuBr6WaqRxpxi   \n",
       "490417  spotify:track:43ay9lQZ5rfNcOOHhRF2cM   \n",
       "490418  spotify:track:0RoA7ObU6phWpqhlC9zH4Z   \n",
       "490419  spotify:track:6mrKP2jyIQmM0rw6fQryjr   \n",
       "\n",
       "                                               track_href  \\\n",
       "0       https://api.spotify.com/v1/tracks/3AEZUABDXNte...   \n",
       "1       https://api.spotify.com/v1/tracks/6mICuAdrwEjh...   \n",
       "2       https://api.spotify.com/v1/tracks/3QwBODjSEzel...   \n",
       "3       https://api.spotify.com/v1/tracks/7DM4BPaS7uof...   \n",
       "4       https://api.spotify.com/v1/tracks/6rQSrBHf7HlZ...   \n",
       "...                                                   ...   \n",
       "490415  https://api.spotify.com/v1/tracks/2xmrfQpmS2iJ...   \n",
       "490416  https://api.spotify.com/v1/tracks/32DGGj6KlNuB...   \n",
       "490417  https://api.spotify.com/v1/tracks/43ay9lQZ5rfN...   \n",
       "490418  https://api.spotify.com/v1/tracks/0RoA7ObU6phW...   \n",
       "490419  https://api.spotify.com/v1/tracks/6mrKP2jyIQmM...   \n",
       "\n",
       "                                             analysis_url  duration_ms  \\\n",
       "0       https://api.spotify.com/v1/audio-analysis/3AEZ...     222560.0   \n",
       "1       https://api.spotify.com/v1/audio-analysis/6mIC...     195840.0   \n",
       "2       https://api.spotify.com/v1/audio-analysis/3QwB...     209453.0   \n",
       "3       https://api.spotify.com/v1/audio-analysis/7DM4...     259196.0   \n",
       "4       https://api.spotify.com/v1/audio-analysis/6rQS...     205600.0   \n",
       "...                                                   ...          ...   \n",
       "490415  https://api.spotify.com/v1/audio-analysis/2xmr...     205748.0   \n",
       "490416  https://api.spotify.com/v1/audio-analysis/32DG...     198237.0   \n",
       "490417  https://api.spotify.com/v1/audio-analysis/43ay...     302147.0   \n",
       "490418  https://api.spotify.com/v1/audio-analysis/0RoA...     269453.0   \n",
       "490419  https://api.spotify.com/v1/audio-analysis/6mrK...     212120.0   \n",
       "\n",
       "       time_signature  \n",
       "0                 4.0  \n",
       "1                 4.0  \n",
       "2                 4.0  \n",
       "3                 4.0  \n",
       "4                 4.0  \n",
       "...               ...  \n",
       "490415            4.0  \n",
       "490416            4.0  \n",
       "490417            4.0  \n",
       "490418            3.0  \n",
       "490419            4.0  \n",
       "\n",
       "[490420 rows x 26 columns]"
      ],
      "text/html": "<div>\n<style scoped>\n    .dataframe tbody tr th:only-of-type {\n        vertical-align: middle;\n    }\n\n    .dataframe tbody tr th {\n        vertical-align: top;\n    }\n\n    .dataframe thead th {\n        text-align: right;\n    }\n</style>\n<table border=\"1\" class=\"dataframe\">\n  <thead>\n    <tr style=\"text-align: right;\">\n      <th></th>\n      <th>Position</th>\n      <th>Track Name</th>\n      <th>Artist</th>\n      <th>Streams</th>\n      <th>URL</th>\n      <th>Date</th>\n      <th>Region</th>\n      <th>track_id</th>\n      <th>danceability</th>\n      <th>energy</th>\n      <th>...</th>\n      <th>liveness</th>\n      <th>valence</th>\n      <th>tempo</th>\n      <th>type</th>\n      <th>id</th>\n      <th>uri</th>\n      <th>track_href</th>\n      <th>analysis_url</th>\n      <th>duration_ms</th>\n      <th>time_signature</th>\n    </tr>\n  </thead>\n  <tbody>\n    <tr>\n      <th>0</th>\n      <td>1</td>\n      <td>Reggaetón Lento (Bailemos)</td>\n      <td>CNCO</td>\n      <td>19272</td>\n      <td>https://open.spotify.com/track/3AEZUABDXNtecAO...</td>\n      <td>2017-01-01</td>\n      <td>EC</td>\n      <td>3AEZUABDXNtecAOSC1qTfo</td>\n      <td>0.761</td>\n      <td>0.838</td>\n      <td>...</td>\n      <td>0.1760</td>\n      <td>0.7100</td>\n      <td>93.974</td>\n      <td>audio_features</td>\n      <td>3AEZUABDXNtecAOSC1qTfo</td>\n      <td>spotify:track:3AEZUABDXNtecAOSC1qTfo</td>\n      <td>https://api.spotify.com/v1/tracks/3AEZUABDXNte...</td>\n      <td>https://api.spotify.com/v1/audio-analysis/3AEZ...</td>\n      <td>222560.0</td>\n      <td>4.0</td>\n    </tr>\n    <tr>\n      <th>1</th>\n      <td>2</td>\n      <td>Chantaje</td>\n      <td>Shakira</td>\n      <td>19270</td>\n      <td>https://open.spotify.com/track/6mICuAdrwEjh6Y6...</td>\n      <td>2017-01-01</td>\n      <td>EC</td>\n      <td>6mICuAdrwEjh6Y6lroV2Kg</td>\n      <td>0.852</td>\n      <td>0.773</td>\n      <td>...</td>\n      <td>0.1590</td>\n      <td>0.9070</td>\n      <td>102.034</td>\n      <td>audio_features</td>\n      <td>6mICuAdrwEjh6Y6lroV2Kg</td>\n      <td>spotify:track:6mICuAdrwEjh6Y6lroV2Kg</td>\n      <td>https://api.spotify.com/v1/tracks/6mICuAdrwEjh...</td>\n      <td>https://api.spotify.com/v1/audio-analysis/6mIC...</td>\n      <td>195840.0</td>\n      <td>4.0</td>\n    </tr>\n    <tr>\n      <th>2</th>\n      <td>3</td>\n      <td>Otra Vez (feat. J Balvin)</td>\n      <td>Zion &amp; Lennox</td>\n      <td>15761</td>\n      <td>https://open.spotify.com/track/3QwBODjSEzelZyV...</td>\n      <td>2017-01-01</td>\n      <td>EC</td>\n      <td>3QwBODjSEzelZyVjxPOHdq</td>\n      <td>0.832</td>\n      <td>0.772</td>\n      <td>...</td>\n      <td>0.4400</td>\n      <td>0.7040</td>\n      <td>96.016</td>\n      <td>audio_features</td>\n      <td>3QwBODjSEzelZyVjxPOHdq</td>\n      <td>spotify:track:3QwBODjSEzelZyVjxPOHdq</td>\n      <td>https://api.spotify.com/v1/tracks/3QwBODjSEzel...</td>\n      <td>https://api.spotify.com/v1/audio-analysis/3QwB...</td>\n      <td>209453.0</td>\n      <td>4.0</td>\n    </tr>\n    <tr>\n      <th>3</th>\n      <td>4</td>\n      <td>Vente Pa' Ca</td>\n      <td>Ricky Martin</td>\n      <td>14954</td>\n      <td>https://open.spotify.com/track/7DM4BPaS7uofFul...</td>\n      <td>2017-01-01</td>\n      <td>EC</td>\n      <td>7DM4BPaS7uofFul3ywMe46</td>\n      <td>0.663</td>\n      <td>0.920</td>\n      <td>...</td>\n      <td>0.1010</td>\n      <td>0.5330</td>\n      <td>99.935</td>\n      <td>audio_features</td>\n      <td>7DM4BPaS7uofFul3ywMe46</td>\n      <td>spotify:track:7DM4BPaS7uofFul3ywMe46</td>\n      <td>https://api.spotify.com/v1/tracks/7DM4BPaS7uof...</td>\n      <td>https://api.spotify.com/v1/audio-analysis/7DM4...</td>\n      <td>259196.0</td>\n      <td>4.0</td>\n    </tr>\n    <tr>\n      <th>4</th>\n      <td>5</td>\n      <td>Safari</td>\n      <td>J Balvin</td>\n      <td>14269</td>\n      <td>https://open.spotify.com/track/6rQSrBHf7HlZjtc...</td>\n      <td>2017-01-01</td>\n      <td>EC</td>\n      <td>6rQSrBHf7HlZjtcMZ4S4bO</td>\n      <td>0.508</td>\n      <td>0.687</td>\n      <td>...</td>\n      <td>0.1260</td>\n      <td>0.5550</td>\n      <td>180.044</td>\n      <td>audio_features</td>\n      <td>6rQSrBHf7HlZjtcMZ4S4bO</td>\n      <td>spotify:track:6rQSrBHf7HlZjtcMZ4S4bO</td>\n      <td>https://api.spotify.com/v1/tracks/6rQSrBHf7HlZ...</td>\n      <td>https://api.spotify.com/v1/audio-analysis/6rQS...</td>\n      <td>205600.0</td>\n      <td>4.0</td>\n    </tr>\n    <tr>\n      <th>...</th>\n      <td>...</td>\n      <td>...</td>\n      <td>...</td>\n      <td>...</td>\n      <td>...</td>\n      <td>...</td>\n      <td>...</td>\n      <td>...</td>\n      <td>...</td>\n      <td>...</td>\n      <td>...</td>\n      <td>...</td>\n      <td>...</td>\n      <td>...</td>\n      <td>...</td>\n      <td>...</td>\n      <td>...</td>\n      <td>...</td>\n      <td>...</td>\n      <td>...</td>\n      <td>...</td>\n    </tr>\n    <tr>\n      <th>490415</th>\n      <td>21</td>\n      <td>I Miss You (feat. Julia Michaels)</td>\n      <td>Clean Bandit</td>\n      <td>7887</td>\n      <td>https://open.spotify.com/track/2xmrfQpmS2iJExT...</td>\n      <td>2018-01-09</td>\n      <td>HK</td>\n      <td>2xmrfQpmS2iJExTlklLoAL</td>\n      <td>0.638</td>\n      <td>0.658</td>\n      <td>...</td>\n      <td>0.0919</td>\n      <td>0.3300</td>\n      <td>105.076</td>\n      <td>audio_features</td>\n      <td>2xmrfQpmS2iJExTlklLoAL</td>\n      <td>spotify:track:2xmrfQpmS2iJExTlklLoAL</td>\n      <td>https://api.spotify.com/v1/tracks/2xmrfQpmS2iJ...</td>\n      <td>https://api.spotify.com/v1/audio-analysis/2xmr...</td>\n      <td>205748.0</td>\n      <td>4.0</td>\n    </tr>\n    <tr>\n      <th>490416</th>\n      <td>22</td>\n      <td>How Long</td>\n      <td>Charlie Puth</td>\n      <td>7707</td>\n      <td>https://open.spotify.com/track/32DGGj6KlNuBr6W...</td>\n      <td>2018-01-09</td>\n      <td>HK</td>\n      <td>32DGGj6KlNuBr6WaqRxpxi</td>\n      <td>0.849</td>\n      <td>0.581</td>\n      <td>...</td>\n      <td>0.0805</td>\n      <td>0.7790</td>\n      <td>110.008</td>\n      <td>audio_features</td>\n      <td>32DGGj6KlNuBr6WaqRxpxi</td>\n      <td>spotify:track:32DGGj6KlNuBr6WaqRxpxi</td>\n      <td>https://api.spotify.com/v1/tracks/32DGGj6KlNuB...</td>\n      <td>https://api.spotify.com/v1/audio-analysis/32DG...</td>\n      <td>198237.0</td>\n      <td>4.0</td>\n    </tr>\n    <tr>\n      <th>490417</th>\n      <td>23</td>\n      <td>The Greatest Show</td>\n      <td>Hugh Jackman</td>\n      <td>7670</td>\n      <td>https://open.spotify.com/track/43ay9lQZ5rfNcOO...</td>\n      <td>2018-01-09</td>\n      <td>HK</td>\n      <td>43ay9lQZ5rfNcOOHhRF2cM</td>\n      <td>0.417</td>\n      <td>0.824</td>\n      <td>...</td>\n      <td>0.0725</td>\n      <td>0.4000</td>\n      <td>157.920</td>\n      <td>audio_features</td>\n      <td>43ay9lQZ5rfNcOOHhRF2cM</td>\n      <td>spotify:track:43ay9lQZ5rfNcOOHhRF2cM</td>\n      <td>https://api.spotify.com/v1/tracks/43ay9lQZ5rfN...</td>\n      <td>https://api.spotify.com/v1/audio-analysis/43ay...</td>\n      <td>302147.0</td>\n      <td>4.0</td>\n    </tr>\n    <tr>\n      <th>490418</th>\n      <td>24</td>\n      <td>A Million Dreams</td>\n      <td>Ziv Zaifman</td>\n      <td>7596</td>\n      <td>https://open.spotify.com/track/0RoA7ObU6phWpqh...</td>\n      <td>2018-01-09</td>\n      <td>HK</td>\n      <td>0RoA7ObU6phWpqhlC9zH4Z</td>\n      <td>0.265</td>\n      <td>0.312</td>\n      <td>...</td>\n      <td>0.0893</td>\n      <td>0.0998</td>\n      <td>54.747</td>\n      <td>audio_features</td>\n      <td>0RoA7ObU6phWpqhlC9zH4Z</td>\n      <td>spotify:track:0RoA7ObU6phWpqhlC9zH4Z</td>\n      <td>https://api.spotify.com/v1/tracks/0RoA7ObU6phW...</td>\n      <td>https://api.spotify.com/v1/audio-analysis/0RoA...</td>\n      <td>269453.0</td>\n      <td>3.0</td>\n    </tr>\n    <tr>\n      <th>490419</th>\n      <td>25</td>\n      <td>Let You Down</td>\n      <td>NF</td>\n      <td>7509</td>\n      <td>https://open.spotify.com/track/6mrKP2jyIQmM0rw...</td>\n      <td>2018-01-09</td>\n      <td>HK</td>\n      <td>6mrKP2jyIQmM0rw6fQryjr</td>\n      <td>0.659</td>\n      <td>0.716</td>\n      <td>...</td>\n      <td>0.1730</td>\n      <td>0.4370</td>\n      <td>148.015</td>\n      <td>audio_features</td>\n      <td>6mrKP2jyIQmM0rw6fQryjr</td>\n      <td>spotify:track:6mrKP2jyIQmM0rw6fQryjr</td>\n      <td>https://api.spotify.com/v1/tracks/6mrKP2jyIQmM...</td>\n      <td>https://api.spotify.com/v1/audio-analysis/6mrK...</td>\n      <td>212120.0</td>\n      <td>4.0</td>\n    </tr>\n  </tbody>\n</table>\n<p>490420 rows × 26 columns</p>\n</div>"
     },
     "metadata": {},
     "execution_count": 29
    }
   ],
   "source": [
    "df_merged"
   ]
  },
  {
   "cell_type": "code",
   "execution_count": 30,
   "metadata": {},
   "outputs": [],
   "source": [
    "df_eur = df_merged.loc[df_merged.Region.isin(eu)]"
   ]
  },
  {
   "cell_type": "code",
   "execution_count": 54,
   "metadata": {},
   "outputs": [
    {
     "output_type": "execute_result",
     "data": {
      "text/plain": [
       "array(['FI', 'NL', 'BE', 'LU', 'FR', 'IT', 'PL', 'HU', 'GR', 'SE', 'GB',\n",
       "       'LT', 'ES'], dtype=object)"
      ]
     },
     "metadata": {},
     "execution_count": 54
    }
   ],
   "source": [
    "weather_filtered.country.unique()"
   ]
  },
  {
   "cell_type": "code",
   "execution_count": 91,
   "metadata": {},
   "outputs": [],
   "source": [
    "weather_filtered = pd.read_csv(\"eu_weather_data1.csv\")"
   ]
  },
  {
   "cell_type": "code",
   "execution_count": 92,
   "metadata": {},
   "outputs": [],
   "source": [
    "df_eur_clean = df_eur.drop([\"URL\",\"type\",\"id\",\"track_id\",\"uri\",\"analysis_url\",\"time_signature\"],axis=1)"
   ]
  },
  {
   "cell_type": "code",
   "execution_count": 93,
   "metadata": {},
   "outputs": [],
   "source": [
    "df_eur_clean = df_eur_clean.drop(\"track_href\",axis=1)"
   ]
  },
  {
   "cell_type": "code",
   "execution_count": 95,
   "metadata": {},
   "outputs": [],
   "source": [
    "weather_filtered = weather_filtered.drop(\"Unnamed: 0\",axis=1)"
   ]
  },
  {
   "cell_type": "code",
   "execution_count": 96,
   "metadata": {},
   "outputs": [
    {
     "output_type": "execute_result",
     "data": {
      "text/plain": [
       "              DATE country  TEMP  VISIB  FRSHTT\n",
       "0       2017-01-01      FI  16.6    NaN       0\n",
       "1       2017-01-02      FI   9.4    NaN       0\n",
       "2       2017-01-03      FI  -1.7    NaN       0\n",
       "3       2017-01-04      FI  -5.8    NaN       0\n",
       "4       2017-01-05      FI   5.2    NaN       0\n",
       "...            ...     ...   ...    ...     ...\n",
       "554856  2018-12-27      NL  80.8    6.5   10000\n",
       "554857  2018-12-28      NL  81.0    7.0       0\n",
       "554858  2018-12-29      NL  80.2    6.7   10000\n",
       "554859  2018-12-30      NL  79.3    6.8   10000\n",
       "554860  2018-12-31      NL  79.8    7.4   10000\n",
       "\n",
       "[554861 rows x 5 columns]"
      ],
      "text/html": "<div>\n<style scoped>\n    .dataframe tbody tr th:only-of-type {\n        vertical-align: middle;\n    }\n\n    .dataframe tbody tr th {\n        vertical-align: top;\n    }\n\n    .dataframe thead th {\n        text-align: right;\n    }\n</style>\n<table border=\"1\" class=\"dataframe\">\n  <thead>\n    <tr style=\"text-align: right;\">\n      <th></th>\n      <th>DATE</th>\n      <th>country</th>\n      <th>TEMP</th>\n      <th>VISIB</th>\n      <th>FRSHTT</th>\n    </tr>\n  </thead>\n  <tbody>\n    <tr>\n      <th>0</th>\n      <td>2017-01-01</td>\n      <td>FI</td>\n      <td>16.6</td>\n      <td>NaN</td>\n      <td>0</td>\n    </tr>\n    <tr>\n      <th>1</th>\n      <td>2017-01-02</td>\n      <td>FI</td>\n      <td>9.4</td>\n      <td>NaN</td>\n      <td>0</td>\n    </tr>\n    <tr>\n      <th>2</th>\n      <td>2017-01-03</td>\n      <td>FI</td>\n      <td>-1.7</td>\n      <td>NaN</td>\n      <td>0</td>\n    </tr>\n    <tr>\n      <th>3</th>\n      <td>2017-01-04</td>\n      <td>FI</td>\n      <td>-5.8</td>\n      <td>NaN</td>\n      <td>0</td>\n    </tr>\n    <tr>\n      <th>4</th>\n      <td>2017-01-05</td>\n      <td>FI</td>\n      <td>5.2</td>\n      <td>NaN</td>\n      <td>0</td>\n    </tr>\n    <tr>\n      <th>...</th>\n      <td>...</td>\n      <td>...</td>\n      <td>...</td>\n      <td>...</td>\n      <td>...</td>\n    </tr>\n    <tr>\n      <th>554856</th>\n      <td>2018-12-27</td>\n      <td>NL</td>\n      <td>80.8</td>\n      <td>6.5</td>\n      <td>10000</td>\n    </tr>\n    <tr>\n      <th>554857</th>\n      <td>2018-12-28</td>\n      <td>NL</td>\n      <td>81.0</td>\n      <td>7.0</td>\n      <td>0</td>\n    </tr>\n    <tr>\n      <th>554858</th>\n      <td>2018-12-29</td>\n      <td>NL</td>\n      <td>80.2</td>\n      <td>6.7</td>\n      <td>10000</td>\n    </tr>\n    <tr>\n      <th>554859</th>\n      <td>2018-12-30</td>\n      <td>NL</td>\n      <td>79.3</td>\n      <td>6.8</td>\n      <td>10000</td>\n    </tr>\n    <tr>\n      <th>554860</th>\n      <td>2018-12-31</td>\n      <td>NL</td>\n      <td>79.8</td>\n      <td>7.4</td>\n      <td>10000</td>\n    </tr>\n  </tbody>\n</table>\n<p>554861 rows × 5 columns</p>\n</div>"
     },
     "metadata": {},
     "execution_count": 96
    }
   ],
   "source": [
    "weather_filtered"
   ]
  },
  {
   "cell_type": "code",
   "execution_count": 43,
   "metadata": {},
   "outputs": [
    {
     "output_type": "execute_result",
     "data": {
      "text/plain": [
       "        Position                           Track Name         Artist  Streams  \\\n",
       "9275           1                            One Dance          Drake    89403   \n",
       "9276           2                              Starboy     The Weeknd    80882   \n",
       "9277           3                            24K Magic     Bruno Mars    80838   \n",
       "9278           4                               My Way  Calvin Harris    72133   \n",
       "9279           5                      Mauvaise graine         Nekfeu    71082   \n",
       "...          ...                                  ...            ...      ...   \n",
       "481140        21           What Lovers Do (feat. SZA)       Maroon 5     2689   \n",
       "481141        22                           Gucci Gang       Lil Pump     2673   \n",
       "481142        23  Perfect Duet (Ed Sheeran & Beyoncé)     Ed Sheeran     2577   \n",
       "481143        24                             Anywhere       Rita Ora     2562   \n",
       "481144        25                        Man's Not Hot       Big Shaq     2427   \n",
       "\n",
       "              Date Region  danceability  energy   key  loudness  mode  \\\n",
       "9275    2017-01-01     FR         0.791   0.619   1.0    -5.886   1.0   \n",
       "9276    2017-01-01     FR         0.681   0.594   7.0    -7.028   1.0   \n",
       "9277    2017-01-01     FR         0.818   0.803   1.0    -4.282   1.0   \n",
       "9278    2017-01-01     FR         0.819   0.913   4.0    -3.059   0.0   \n",
       "9279    2017-01-01     FR         0.882   0.594   2.0    -7.898   0.0   \n",
       "...            ...    ...           ...     ...   ...       ...   ...   \n",
       "481140  2018-01-09     GR         0.795   0.615   5.0    -5.211   0.0   \n",
       "481141  2018-01-09     GR         0.936   0.523   5.0    -6.710   1.0   \n",
       "481142  2018-01-09     GR         0.587   0.299   8.0    -7.365   1.0   \n",
       "481143  2018-01-09     GR         0.628   0.797  11.0    -3.953   0.0   \n",
       "481144  2018-01-09     GR         0.895   0.885   0.0    -4.182   1.0   \n",
       "\n",
       "        speechiness  acousticness  instrumentalness  liveness  valence  \\\n",
       "9275         0.0532       0.00784          0.004230    0.3510    0.371   \n",
       "9276         0.2820       0.16500          0.000003    0.1340    0.535   \n",
       "9277         0.0797       0.03400          0.000000    0.1530    0.632   \n",
       "9278         0.0427       0.09350          0.000037    0.1610    0.536   \n",
       "9279         0.0709       0.42900          0.000000    0.1790    0.319   \n",
       "...             ...           ...               ...       ...      ...   \n",
       "481140       0.0671       0.07860          0.000003    0.0855    0.393   \n",
       "481141       0.0597       0.23900          0.000000    0.1170    0.699   \n",
       "481142       0.0263       0.77900          0.000000    0.1230    0.356   \n",
       "481143       0.0596       0.03640          0.000000    0.1040    0.321   \n",
       "481144       0.2680       0.11000          0.000040    0.1060    0.633   \n",
       "\n",
       "          tempo  duration_ms  \n",
       "9275    103.989     173987.0  \n",
       "9276    186.054     230453.0  \n",
       "9277    106.970     225983.0  \n",
       "9278    119.989     219160.0  \n",
       "9279    119.979     238053.0  \n",
       "...         ...          ...  \n",
       "481140  110.009     199849.0  \n",
       "481141  119.889     124056.0  \n",
       "481142   94.992     259550.0  \n",
       "481143  106.930     215064.0  \n",
       "481144  134.973     186027.0  \n",
       "\n",
       "[193695 rows x 18 columns]"
      ],
      "text/html": "<div>\n<style scoped>\n    .dataframe tbody tr th:only-of-type {\n        vertical-align: middle;\n    }\n\n    .dataframe tbody tr th {\n        vertical-align: top;\n    }\n\n    .dataframe thead th {\n        text-align: right;\n    }\n</style>\n<table border=\"1\" class=\"dataframe\">\n  <thead>\n    <tr style=\"text-align: right;\">\n      <th></th>\n      <th>Position</th>\n      <th>Track Name</th>\n      <th>Artist</th>\n      <th>Streams</th>\n      <th>Date</th>\n      <th>Region</th>\n      <th>danceability</th>\n      <th>energy</th>\n      <th>key</th>\n      <th>loudness</th>\n      <th>mode</th>\n      <th>speechiness</th>\n      <th>acousticness</th>\n      <th>instrumentalness</th>\n      <th>liveness</th>\n      <th>valence</th>\n      <th>tempo</th>\n      <th>duration_ms</th>\n    </tr>\n  </thead>\n  <tbody>\n    <tr>\n      <th>9275</th>\n      <td>1</td>\n      <td>One Dance</td>\n      <td>Drake</td>\n      <td>89403</td>\n      <td>2017-01-01</td>\n      <td>FR</td>\n      <td>0.791</td>\n      <td>0.619</td>\n      <td>1.0</td>\n      <td>-5.886</td>\n      <td>1.0</td>\n      <td>0.0532</td>\n      <td>0.00784</td>\n      <td>0.004230</td>\n      <td>0.3510</td>\n      <td>0.371</td>\n      <td>103.989</td>\n      <td>173987.0</td>\n    </tr>\n    <tr>\n      <th>9276</th>\n      <td>2</td>\n      <td>Starboy</td>\n      <td>The Weeknd</td>\n      <td>80882</td>\n      <td>2017-01-01</td>\n      <td>FR</td>\n      <td>0.681</td>\n      <td>0.594</td>\n      <td>7.0</td>\n      <td>-7.028</td>\n      <td>1.0</td>\n      <td>0.2820</td>\n      <td>0.16500</td>\n      <td>0.000003</td>\n      <td>0.1340</td>\n      <td>0.535</td>\n      <td>186.054</td>\n      <td>230453.0</td>\n    </tr>\n    <tr>\n      <th>9277</th>\n      <td>3</td>\n      <td>24K Magic</td>\n      <td>Bruno Mars</td>\n      <td>80838</td>\n      <td>2017-01-01</td>\n      <td>FR</td>\n      <td>0.818</td>\n      <td>0.803</td>\n      <td>1.0</td>\n      <td>-4.282</td>\n      <td>1.0</td>\n      <td>0.0797</td>\n      <td>0.03400</td>\n      <td>0.000000</td>\n      <td>0.1530</td>\n      <td>0.632</td>\n      <td>106.970</td>\n      <td>225983.0</td>\n    </tr>\n    <tr>\n      <th>9278</th>\n      <td>4</td>\n      <td>My Way</td>\n      <td>Calvin Harris</td>\n      <td>72133</td>\n      <td>2017-01-01</td>\n      <td>FR</td>\n      <td>0.819</td>\n      <td>0.913</td>\n      <td>4.0</td>\n      <td>-3.059</td>\n      <td>0.0</td>\n      <td>0.0427</td>\n      <td>0.09350</td>\n      <td>0.000037</td>\n      <td>0.1610</td>\n      <td>0.536</td>\n      <td>119.989</td>\n      <td>219160.0</td>\n    </tr>\n    <tr>\n      <th>9279</th>\n      <td>5</td>\n      <td>Mauvaise graine</td>\n      <td>Nekfeu</td>\n      <td>71082</td>\n      <td>2017-01-01</td>\n      <td>FR</td>\n      <td>0.882</td>\n      <td>0.594</td>\n      <td>2.0</td>\n      <td>-7.898</td>\n      <td>0.0</td>\n      <td>0.0709</td>\n      <td>0.42900</td>\n      <td>0.000000</td>\n      <td>0.1790</td>\n      <td>0.319</td>\n      <td>119.979</td>\n      <td>238053.0</td>\n    </tr>\n    <tr>\n      <th>...</th>\n      <td>...</td>\n      <td>...</td>\n      <td>...</td>\n      <td>...</td>\n      <td>...</td>\n      <td>...</td>\n      <td>...</td>\n      <td>...</td>\n      <td>...</td>\n      <td>...</td>\n      <td>...</td>\n      <td>...</td>\n      <td>...</td>\n      <td>...</td>\n      <td>...</td>\n      <td>...</td>\n      <td>...</td>\n      <td>...</td>\n    </tr>\n    <tr>\n      <th>481140</th>\n      <td>21</td>\n      <td>What Lovers Do (feat. SZA)</td>\n      <td>Maroon 5</td>\n      <td>2689</td>\n      <td>2018-01-09</td>\n      <td>GR</td>\n      <td>0.795</td>\n      <td>0.615</td>\n      <td>5.0</td>\n      <td>-5.211</td>\n      <td>0.0</td>\n      <td>0.0671</td>\n      <td>0.07860</td>\n      <td>0.000003</td>\n      <td>0.0855</td>\n      <td>0.393</td>\n      <td>110.009</td>\n      <td>199849.0</td>\n    </tr>\n    <tr>\n      <th>481141</th>\n      <td>22</td>\n      <td>Gucci Gang</td>\n      <td>Lil Pump</td>\n      <td>2673</td>\n      <td>2018-01-09</td>\n      <td>GR</td>\n      <td>0.936</td>\n      <td>0.523</td>\n      <td>5.0</td>\n      <td>-6.710</td>\n      <td>1.0</td>\n      <td>0.0597</td>\n      <td>0.23900</td>\n      <td>0.000000</td>\n      <td>0.1170</td>\n      <td>0.699</td>\n      <td>119.889</td>\n      <td>124056.0</td>\n    </tr>\n    <tr>\n      <th>481142</th>\n      <td>23</td>\n      <td>Perfect Duet (Ed Sheeran &amp; Beyoncé)</td>\n      <td>Ed Sheeran</td>\n      <td>2577</td>\n      <td>2018-01-09</td>\n      <td>GR</td>\n      <td>0.587</td>\n      <td>0.299</td>\n      <td>8.0</td>\n      <td>-7.365</td>\n      <td>1.0</td>\n      <td>0.0263</td>\n      <td>0.77900</td>\n      <td>0.000000</td>\n      <td>0.1230</td>\n      <td>0.356</td>\n      <td>94.992</td>\n      <td>259550.0</td>\n    </tr>\n    <tr>\n      <th>481143</th>\n      <td>24</td>\n      <td>Anywhere</td>\n      <td>Rita Ora</td>\n      <td>2562</td>\n      <td>2018-01-09</td>\n      <td>GR</td>\n      <td>0.628</td>\n      <td>0.797</td>\n      <td>11.0</td>\n      <td>-3.953</td>\n      <td>0.0</td>\n      <td>0.0596</td>\n      <td>0.03640</td>\n      <td>0.000000</td>\n      <td>0.1040</td>\n      <td>0.321</td>\n      <td>106.930</td>\n      <td>215064.0</td>\n    </tr>\n    <tr>\n      <th>481144</th>\n      <td>25</td>\n      <td>Man's Not Hot</td>\n      <td>Big Shaq</td>\n      <td>2427</td>\n      <td>2018-01-09</td>\n      <td>GR</td>\n      <td>0.895</td>\n      <td>0.885</td>\n      <td>0.0</td>\n      <td>-4.182</td>\n      <td>1.0</td>\n      <td>0.2680</td>\n      <td>0.11000</td>\n      <td>0.000040</td>\n      <td>0.1060</td>\n      <td>0.633</td>\n      <td>134.973</td>\n      <td>186027.0</td>\n    </tr>\n  </tbody>\n</table>\n<p>193695 rows × 18 columns</p>\n</div>"
     },
     "metadata": {},
     "execution_count": 43
    }
   ],
   "source": [
    "df_eur_clean"
   ]
  },
  {
   "cell_type": "code",
   "execution_count": 97,
   "metadata": {},
   "outputs": [
    {
     "output_type": "execute_result",
     "data": {
      "text/plain": [
       "array(['FI', 'NL', 'BE', 'LU', 'FR', 'IT', 'PL', 'HU', 'GR', 'SE', 'GB',\n",
       "       'LT', 'ES'], dtype=object)"
      ]
     },
     "metadata": {},
     "execution_count": 97
    }
   ],
   "source": [
    "weather_filtered.country.unique()"
   ]
  },
  {
   "cell_type": "code",
   "execution_count": 110,
   "metadata": {},
   "outputs": [],
   "source": [
    "df_eur_clean = df_eur_clean.reset_index()"
   ]
  },
  {
   "cell_type": "code",
   "execution_count": 111,
   "metadata": {},
   "outputs": [],
   "source": [
    "df_final = df_eur_clean.merge(weather_filtered, how=\"left\",left_on=[\"Region\",\"Date\"],right_on=[\"country\",\"DATE\"])"
   ]
  },
  {
   "cell_type": "code",
   "execution_count": 114,
   "metadata": {},
   "outputs": [],
   "source": [
    "df_final_agg = df_final.groupby(\"index\").agg(\"max\")"
   ]
  },
  {
   "cell_type": "code",
   "execution_count": 115,
   "metadata": {},
   "outputs": [
    {
     "output_type": "execute_result",
     "data": {
      "text/plain": [
       "(193695, 19)"
      ]
     },
     "metadata": {},
     "execution_count": 115
    }
   ],
   "source": [
    "df_eur_clean.shape"
   ]
  },
  {
   "cell_type": "code",
   "execution_count": 116,
   "metadata": {},
   "outputs": [],
   "source": [
    "df_final_agg.to_csv(\"vdd_final_data.csv\")"
   ]
  },
  {
   "cell_type": "code",
   "execution_count": 117,
   "metadata": {},
   "outputs": [
    {
     "output_type": "execute_result",
     "data": {
      "text/plain": [
       "        Position                           Track Name         Artist  Streams  \\\n",
       "index                                                                           \n",
       "9275           1                            One Dance          Drake    89403   \n",
       "9276           2                              Starboy     The Weeknd    80882   \n",
       "9277           3                            24K Magic     Bruno Mars    80838   \n",
       "9278           4                               My Way  Calvin Harris    72133   \n",
       "9279           5                      Mauvaise graine         Nekfeu    71082   \n",
       "...          ...                                  ...            ...      ...   \n",
       "481140        21           What Lovers Do (feat. SZA)       Maroon 5     2689   \n",
       "481141        22                           Gucci Gang       Lil Pump     2673   \n",
       "481142        23  Perfect Duet (Ed Sheeran & Beyoncé)     Ed Sheeran     2577   \n",
       "481143        24                             Anywhere       Rita Ora     2562   \n",
       "481144        25                        Man's Not Hot       Big Shaq     2427   \n",
       "\n",
       "              Date Region  danceability  energy   key  loudness  ...  \\\n",
       "index                                                            ...   \n",
       "9275    2017-01-01     FR         0.791   0.619   1.0    -5.886  ...   \n",
       "9276    2017-01-01     FR         0.681   0.594   7.0    -7.028  ...   \n",
       "9277    2017-01-01     FR         0.818   0.803   1.0    -4.282  ...   \n",
       "9278    2017-01-01     FR         0.819   0.913   4.0    -3.059  ...   \n",
       "9279    2017-01-01     FR         0.882   0.594   2.0    -7.898  ...   \n",
       "...            ...    ...           ...     ...   ...       ...  ...   \n",
       "481140  2018-01-09     GR         0.795   0.615   5.0    -5.211  ...   \n",
       "481141  2018-01-09     GR         0.936   0.523   5.0    -6.710  ...   \n",
       "481142  2018-01-09     GR         0.587   0.299   8.0    -7.365  ...   \n",
       "481143  2018-01-09     GR         0.628   0.797  11.0    -3.953  ...   \n",
       "481144  2018-01-09     GR         0.895   0.885   0.0    -4.182  ...   \n",
       "\n",
       "        instrumentalness  liveness  valence    tempo  duration_ms        DATE  \\\n",
       "index                                                                           \n",
       "9275            0.004230    0.3510    0.371  103.989     173987.0  2017-01-01   \n",
       "9276            0.000003    0.1340    0.535  186.054     230453.0  2017-01-01   \n",
       "9277            0.000000    0.1530    0.632  106.970     225983.0  2017-01-01   \n",
       "9278            0.000037    0.1610    0.536  119.989     219160.0  2017-01-01   \n",
       "9279            0.000000    0.1790    0.319  119.979     238053.0  2017-01-01   \n",
       "...                  ...       ...      ...      ...          ...         ...   \n",
       "481140          0.000003    0.0855    0.393  110.009     199849.0  2018-01-09   \n",
       "481141          0.000000    0.1170    0.699  119.889     124056.0  2018-01-09   \n",
       "481142          0.000000    0.1230    0.356   94.992     259550.0  2018-01-09   \n",
       "481143          0.000000    0.1040    0.321  106.930     215064.0  2018-01-09   \n",
       "481144          0.000040    0.1060    0.633  134.973     186027.0  2018-01-09   \n",
       "\n",
       "        country  TEMP VISIB    FRSHTT  \n",
       "index                                  \n",
       "9275         FR  54.4  16.8  111000.0  \n",
       "9276         FR  54.4  16.8  111000.0  \n",
       "9277         FR  54.4  16.8  111000.0  \n",
       "9278         FR  54.4  16.8  111000.0  \n",
       "9279         FR  54.4  16.8  111000.0  \n",
       "...         ...   ...   ...       ...  \n",
       "481140       GR  59.8   6.2  100000.0  \n",
       "481141       GR  59.8   6.2  100000.0  \n",
       "481142       GR  59.8   6.2  100000.0  \n",
       "481143       GR  59.8   6.2  100000.0  \n",
       "481144       GR  59.8   6.2  100000.0  \n",
       "\n",
       "[193695 rows x 23 columns]"
      ],
      "text/html": "<div>\n<style scoped>\n    .dataframe tbody tr th:only-of-type {\n        vertical-align: middle;\n    }\n\n    .dataframe tbody tr th {\n        vertical-align: top;\n    }\n\n    .dataframe thead th {\n        text-align: right;\n    }\n</style>\n<table border=\"1\" class=\"dataframe\">\n  <thead>\n    <tr style=\"text-align: right;\">\n      <th></th>\n      <th>Position</th>\n      <th>Track Name</th>\n      <th>Artist</th>\n      <th>Streams</th>\n      <th>Date</th>\n      <th>Region</th>\n      <th>danceability</th>\n      <th>energy</th>\n      <th>key</th>\n      <th>loudness</th>\n      <th>...</th>\n      <th>instrumentalness</th>\n      <th>liveness</th>\n      <th>valence</th>\n      <th>tempo</th>\n      <th>duration_ms</th>\n      <th>DATE</th>\n      <th>country</th>\n      <th>TEMP</th>\n      <th>VISIB</th>\n      <th>FRSHTT</th>\n    </tr>\n    <tr>\n      <th>index</th>\n      <th></th>\n      <th></th>\n      <th></th>\n      <th></th>\n      <th></th>\n      <th></th>\n      <th></th>\n      <th></th>\n      <th></th>\n      <th></th>\n      <th></th>\n      <th></th>\n      <th></th>\n      <th></th>\n      <th></th>\n      <th></th>\n      <th></th>\n      <th></th>\n      <th></th>\n      <th></th>\n      <th></th>\n    </tr>\n  </thead>\n  <tbody>\n    <tr>\n      <th>9275</th>\n      <td>1</td>\n      <td>One Dance</td>\n      <td>Drake</td>\n      <td>89403</td>\n      <td>2017-01-01</td>\n      <td>FR</td>\n      <td>0.791</td>\n      <td>0.619</td>\n      <td>1.0</td>\n      <td>-5.886</td>\n      <td>...</td>\n      <td>0.004230</td>\n      <td>0.3510</td>\n      <td>0.371</td>\n      <td>103.989</td>\n      <td>173987.0</td>\n      <td>2017-01-01</td>\n      <td>FR</td>\n      <td>54.4</td>\n      <td>16.8</td>\n      <td>111000.0</td>\n    </tr>\n    <tr>\n      <th>9276</th>\n      <td>2</td>\n      <td>Starboy</td>\n      <td>The Weeknd</td>\n      <td>80882</td>\n      <td>2017-01-01</td>\n      <td>FR</td>\n      <td>0.681</td>\n      <td>0.594</td>\n      <td>7.0</td>\n      <td>-7.028</td>\n      <td>...</td>\n      <td>0.000003</td>\n      <td>0.1340</td>\n      <td>0.535</td>\n      <td>186.054</td>\n      <td>230453.0</td>\n      <td>2017-01-01</td>\n      <td>FR</td>\n      <td>54.4</td>\n      <td>16.8</td>\n      <td>111000.0</td>\n    </tr>\n    <tr>\n      <th>9277</th>\n      <td>3</td>\n      <td>24K Magic</td>\n      <td>Bruno Mars</td>\n      <td>80838</td>\n      <td>2017-01-01</td>\n      <td>FR</td>\n      <td>0.818</td>\n      <td>0.803</td>\n      <td>1.0</td>\n      <td>-4.282</td>\n      <td>...</td>\n      <td>0.000000</td>\n      <td>0.1530</td>\n      <td>0.632</td>\n      <td>106.970</td>\n      <td>225983.0</td>\n      <td>2017-01-01</td>\n      <td>FR</td>\n      <td>54.4</td>\n      <td>16.8</td>\n      <td>111000.0</td>\n    </tr>\n    <tr>\n      <th>9278</th>\n      <td>4</td>\n      <td>My Way</td>\n      <td>Calvin Harris</td>\n      <td>72133</td>\n      <td>2017-01-01</td>\n      <td>FR</td>\n      <td>0.819</td>\n      <td>0.913</td>\n      <td>4.0</td>\n      <td>-3.059</td>\n      <td>...</td>\n      <td>0.000037</td>\n      <td>0.1610</td>\n      <td>0.536</td>\n      <td>119.989</td>\n      <td>219160.0</td>\n      <td>2017-01-01</td>\n      <td>FR</td>\n      <td>54.4</td>\n      <td>16.8</td>\n      <td>111000.0</td>\n    </tr>\n    <tr>\n      <th>9279</th>\n      <td>5</td>\n      <td>Mauvaise graine</td>\n      <td>Nekfeu</td>\n      <td>71082</td>\n      <td>2017-01-01</td>\n      <td>FR</td>\n      <td>0.882</td>\n      <td>0.594</td>\n      <td>2.0</td>\n      <td>-7.898</td>\n      <td>...</td>\n      <td>0.000000</td>\n      <td>0.1790</td>\n      <td>0.319</td>\n      <td>119.979</td>\n      <td>238053.0</td>\n      <td>2017-01-01</td>\n      <td>FR</td>\n      <td>54.4</td>\n      <td>16.8</td>\n      <td>111000.0</td>\n    </tr>\n    <tr>\n      <th>...</th>\n      <td>...</td>\n      <td>...</td>\n      <td>...</td>\n      <td>...</td>\n      <td>...</td>\n      <td>...</td>\n      <td>...</td>\n      <td>...</td>\n      <td>...</td>\n      <td>...</td>\n      <td>...</td>\n      <td>...</td>\n      <td>...</td>\n      <td>...</td>\n      <td>...</td>\n      <td>...</td>\n      <td>...</td>\n      <td>...</td>\n      <td>...</td>\n      <td>...</td>\n      <td>...</td>\n    </tr>\n    <tr>\n      <th>481140</th>\n      <td>21</td>\n      <td>What Lovers Do (feat. SZA)</td>\n      <td>Maroon 5</td>\n      <td>2689</td>\n      <td>2018-01-09</td>\n      <td>GR</td>\n      <td>0.795</td>\n      <td>0.615</td>\n      <td>5.0</td>\n      <td>-5.211</td>\n      <td>...</td>\n      <td>0.000003</td>\n      <td>0.0855</td>\n      <td>0.393</td>\n      <td>110.009</td>\n      <td>199849.0</td>\n      <td>2018-01-09</td>\n      <td>GR</td>\n      <td>59.8</td>\n      <td>6.2</td>\n      <td>100000.0</td>\n    </tr>\n    <tr>\n      <th>481141</th>\n      <td>22</td>\n      <td>Gucci Gang</td>\n      <td>Lil Pump</td>\n      <td>2673</td>\n      <td>2018-01-09</td>\n      <td>GR</td>\n      <td>0.936</td>\n      <td>0.523</td>\n      <td>5.0</td>\n      <td>-6.710</td>\n      <td>...</td>\n      <td>0.000000</td>\n      <td>0.1170</td>\n      <td>0.699</td>\n      <td>119.889</td>\n      <td>124056.0</td>\n      <td>2018-01-09</td>\n      <td>GR</td>\n      <td>59.8</td>\n      <td>6.2</td>\n      <td>100000.0</td>\n    </tr>\n    <tr>\n      <th>481142</th>\n      <td>23</td>\n      <td>Perfect Duet (Ed Sheeran &amp; Beyoncé)</td>\n      <td>Ed Sheeran</td>\n      <td>2577</td>\n      <td>2018-01-09</td>\n      <td>GR</td>\n      <td>0.587</td>\n      <td>0.299</td>\n      <td>8.0</td>\n      <td>-7.365</td>\n      <td>...</td>\n      <td>0.000000</td>\n      <td>0.1230</td>\n      <td>0.356</td>\n      <td>94.992</td>\n      <td>259550.0</td>\n      <td>2018-01-09</td>\n      <td>GR</td>\n      <td>59.8</td>\n      <td>6.2</td>\n      <td>100000.0</td>\n    </tr>\n    <tr>\n      <th>481143</th>\n      <td>24</td>\n      <td>Anywhere</td>\n      <td>Rita Ora</td>\n      <td>2562</td>\n      <td>2018-01-09</td>\n      <td>GR</td>\n      <td>0.628</td>\n      <td>0.797</td>\n      <td>11.0</td>\n      <td>-3.953</td>\n      <td>...</td>\n      <td>0.000000</td>\n      <td>0.1040</td>\n      <td>0.321</td>\n      <td>106.930</td>\n      <td>215064.0</td>\n      <td>2018-01-09</td>\n      <td>GR</td>\n      <td>59.8</td>\n      <td>6.2</td>\n      <td>100000.0</td>\n    </tr>\n    <tr>\n      <th>481144</th>\n      <td>25</td>\n      <td>Man's Not Hot</td>\n      <td>Big Shaq</td>\n      <td>2427</td>\n      <td>2018-01-09</td>\n      <td>GR</td>\n      <td>0.895</td>\n      <td>0.885</td>\n      <td>0.0</td>\n      <td>-4.182</td>\n      <td>...</td>\n      <td>0.000040</td>\n      <td>0.1060</td>\n      <td>0.633</td>\n      <td>134.973</td>\n      <td>186027.0</td>\n      <td>2018-01-09</td>\n      <td>GR</td>\n      <td>59.8</td>\n      <td>6.2</td>\n      <td>100000.0</td>\n    </tr>\n  </tbody>\n</table>\n<p>193695 rows × 23 columns</p>\n</div>"
     },
     "metadata": {},
     "execution_count": 117
    }
   ],
   "source": [
    "df_final_agg"
   ]
  },
  {
   "cell_type": "code",
   "execution_count": 118,
   "metadata": {},
   "outputs": [],
   "source": [
    "df_final_dropna = df_final_agg.copy()"
   ]
  },
  {
   "cell_type": "code",
   "execution_count": 120,
   "metadata": {},
   "outputs": [],
   "source": [
    "df_final_dropna = df_final_dropna.dropna(subset=[\"TEMP\",\"country\"],how=\"any\")"
   ]
  },
  {
   "cell_type": "code",
   "execution_count": 122,
   "metadata": {},
   "outputs": [
    {
     "output_type": "stream",
     "name": "stderr",
     "text": [
      "/Users/cetiners/opt/anaconda3/lib/python3.8/site-packages/seaborn/_decorators.py:36: FutureWarning: Pass the following variable as a keyword arg: x. From version 0.12, the only valid positional argument will be `data`, and passing other arguments without an explicit keyword will result in an error or misinterpretation.\n  warnings.warn(\n"
     ]
    },
    {
     "output_type": "execute_result",
     "data": {
      "text/plain": [
       "<AxesSubplot:xlabel='Region', ylabel='count'>"
      ]
     },
     "metadata": {},
     "execution_count": 122
    },
    {
     "output_type": "display_data",
     "data": {
      "text/plain": "<Figure size 432x288 with 1 Axes>",
      "image/svg+xml": "<?xml version=\"1.0\" encoding=\"utf-8\" standalone=\"no\"?>\n<!DOCTYPE svg PUBLIC \"-//W3C//DTD SVG 1.1//EN\"\n  \"http://www.w3.org/Graphics/SVG/1.1/DTD/svg11.dtd\">\n<!-- Created with matplotlib (https://matplotlib.org/) -->\n<svg height=\"262.19625pt\" version=\"1.1\" viewBox=\"0 0 395.328125 262.19625\" width=\"395.328125pt\" xmlns=\"http://www.w3.org/2000/svg\" xmlns:xlink=\"http://www.w3.org/1999/xlink\">\n <metadata>\n  <rdf:RDF xmlns:cc=\"http://creativecommons.org/ns#\" xmlns:dc=\"http://purl.org/dc/elements/1.1/\" xmlns:rdf=\"http://www.w3.org/1999/02/22-rdf-syntax-ns#\">\n   <cc:Work>\n    <dc:type rdf:resource=\"http://purl.org/dc/dcmitype/StillImage\"/>\n    <dc:date>2021-04-02T00:00:20.612516</dc:date>\n    <dc:format>image/svg+xml</dc:format>\n    <dc:creator>\n     <cc:Agent>\n      <dc:title>Matplotlib v3.3.2, https://matplotlib.org/</dc:title>\n     </cc:Agent>\n    </dc:creator>\n   </cc:Work>\n  </rdf:RDF>\n </metadata>\n <defs>\n  <style type=\"text/css\">*{stroke-linecap:butt;stroke-linejoin:round;}</style>\n </defs>\n <g id=\"figure_1\">\n  <g id=\"patch_1\">\n   <path d=\"M 0 262.19625 \nL 395.328125 262.19625 \nL 395.328125 0 \nL 0 0 \nz\n\" style=\"fill:none;\"/>\n  </g>\n  <g id=\"axes_1\">\n   <g id=\"patch_2\">\n    <path d=\"M 53.328125 224.64 \nL 388.128125 224.64 \nL 388.128125 7.2 \nL 53.328125 7.2 \nz\n\" style=\"fill:#ffffff;\"/>\n   </g>\n   <g id=\"patch_3\">\n    <path clip-path=\"url(#p4076f953cc)\" d=\"M 55.90351 224.64 \nL 76.506587 224.64 \nL 76.506587 17.554286 \nL 55.90351 17.554286 \nz\n\" style=\"fill:#ea96a3;\"/>\n   </g>\n   <g id=\"patch_4\">\n    <path clip-path=\"url(#p4076f953cc)\" d=\"M 81.657356 224.64 \nL 102.260433 224.64 \nL 102.260433 17.554286 \nL 81.657356 17.554286 \nz\n\" style=\"fill:#e39361;\"/>\n   </g>\n   <g id=\"patch_5\">\n    <path clip-path=\"url(#p4076f953cc)\" d=\"M 107.411202 224.64 \nL 128.014279 224.64 \nL 128.014279 17.554286 \nL 107.411202 17.554286 \nz\n\" style=\"fill:#be9b4a;\"/>\n   </g>\n   <g id=\"patch_6\">\n    <path clip-path=\"url(#p4076f953cc)\" d=\"M 133.165048 224.64 \nL 153.768125 224.64 \nL 153.768125 148.168995 \nL 133.165048 148.168995 \nz\n\" style=\"fill:#9fa045;\"/>\n   </g>\n   <g id=\"patch_7\">\n    <path clip-path=\"url(#p4076f953cc)\" d=\"M 158.918894 224.64 \nL 179.521971 224.64 \nL 179.521971 17.554286 \nL 158.918894 17.554286 \nz\n\" style=\"fill:#7aaa47;\"/>\n   </g>\n   <g id=\"patch_8\">\n    <path clip-path=\"url(#p4076f953cc)\" d=\"M 184.67274 224.64 \nL 205.275817 224.64 \nL 205.275817 17.554286 \nL 184.67274 17.554286 \nz\n\" style=\"fill:#49af79;\"/>\n   </g>\n   <g id=\"patch_9\">\n    <path clip-path=\"url(#p4076f953cc)\" d=\"M 210.426587 224.64 \nL 231.029663 224.64 \nL 231.029663 17.554286 \nL 210.426587 17.554286 \nz\n\" style=\"fill:#4aac9a;\"/>\n   </g>\n   <g id=\"patch_10\">\n    <path clip-path=\"url(#p4076f953cc)\" d=\"M 236.180433 224.64 \nL 256.78351 224.64 \nL 256.78351 17.554286 \nL 236.180433 17.554286 \nz\n\" style=\"fill:#4cabae;\"/>\n   </g>\n   <g id=\"patch_11\">\n    <path clip-path=\"url(#p4076f953cc)\" d=\"M 261.934279 224.64 \nL 282.537356 224.64 \nL 282.537356 17.554286 \nL 261.934279 17.554286 \nz\n\" style=\"fill:#52acc9;\"/>\n   </g>\n   <g id=\"patch_12\">\n    <path clip-path=\"url(#p4076f953cc)\" d=\"M 287.688125 224.64 \nL 308.291202 224.64 \nL 308.291202 17.554286 \nL 287.688125 17.554286 \nz\n\" style=\"fill:#8daee7;\"/>\n   </g>\n   <g id=\"patch_13\">\n    <path clip-path=\"url(#p4076f953cc)\" d=\"M 313.441971 224.64 \nL 334.045048 224.64 \nL 334.045048 135.55407 \nL 313.441971 135.55407 \nz\n\" style=\"fill:#bfa3ea;\"/>\n   </g>\n   <g id=\"patch_14\">\n    <path clip-path=\"url(#p4076f953cc)\" d=\"M 339.195817 224.64 \nL 359.798894 224.64 \nL 359.798894 17.554286 \nL 339.195817 17.554286 \nz\n\" style=\"fill:#e689e6;\"/>\n   </g>\n   <g id=\"patch_15\">\n    <path clip-path=\"url(#p4076f953cc)\" d=\"M 364.949663 224.64 \nL 385.55274 224.64 \nL 385.55274 17.554286 \nL 364.949663 17.554286 \nz\n\" style=\"fill:#e891c3;\"/>\n   </g>\n   <g id=\"matplotlib.axis_1\">\n    <g id=\"xtick_1\">\n     <g id=\"line2d_1\">\n      <defs>\n       <path d=\"M 0 0 \nL 0 3.5 \n\" id=\"m6b6dcff1e5\" style=\"stroke:#000000;stroke-width:0.8;\"/>\n      </defs>\n      <g>\n       <use style=\"stroke:#000000;stroke-width:0.8;\" x=\"66.205048\" xlink:href=\"#m6b6dcff1e5\" y=\"224.64\"/>\n      </g>\n     </g>\n     <g id=\"text_1\">\n      <!-- FR -->\n      <g transform=\"translate(59.855048 239.238437)scale(0.1 -0.1)\">\n       <defs>\n        <path d=\"M 9.8125 72.90625 \nL 51.703125 72.90625 \nL 51.703125 64.59375 \nL 19.671875 64.59375 \nL 19.671875 43.109375 \nL 48.578125 43.109375 \nL 48.578125 34.8125 \nL 19.671875 34.8125 \nL 19.671875 0 \nL 9.8125 0 \nz\n\" id=\"DejaVuSans-70\"/>\n        <path d=\"M 44.390625 34.1875 \nQ 47.5625 33.109375 50.5625 29.59375 \nQ 53.5625 26.078125 56.59375 19.921875 \nL 66.609375 0 \nL 56 0 \nL 46.6875 18.703125 \nQ 43.0625 26.03125 39.671875 28.421875 \nQ 36.28125 30.8125 30.421875 30.8125 \nL 19.671875 30.8125 \nL 19.671875 0 \nL 9.8125 0 \nL 9.8125 72.90625 \nL 32.078125 72.90625 \nQ 44.578125 72.90625 50.734375 67.671875 \nQ 56.890625 62.453125 56.890625 51.90625 \nQ 56.890625 45.015625 53.6875 40.46875 \nQ 50.484375 35.9375 44.390625 34.1875 \nz\nM 19.671875 64.796875 \nL 19.671875 38.921875 \nL 32.078125 38.921875 \nQ 39.203125 38.921875 42.84375 42.21875 \nQ 46.484375 45.515625 46.484375 51.90625 \nQ 46.484375 58.296875 42.84375 61.546875 \nQ 39.203125 64.796875 32.078125 64.796875 \nz\n\" id=\"DejaVuSans-82\"/>\n       </defs>\n       <use xlink:href=\"#DejaVuSans-70\"/>\n       <use x=\"57.519531\" xlink:href=\"#DejaVuSans-82\"/>\n      </g>\n     </g>\n    </g>\n    <g id=\"xtick_2\">\n     <g id=\"line2d_2\">\n      <g>\n       <use style=\"stroke:#000000;stroke-width:0.8;\" x=\"91.958894\" xlink:href=\"#m6b6dcff1e5\" y=\"224.64\"/>\n      </g>\n     </g>\n     <g id=\"text_2\">\n      <!-- FI -->\n      <g transform=\"translate(87.608113 239.238437)scale(0.1 -0.1)\">\n       <defs>\n        <path d=\"M 9.8125 72.90625 \nL 19.671875 72.90625 \nL 19.671875 0 \nL 9.8125 0 \nz\n\" id=\"DejaVuSans-73\"/>\n       </defs>\n       <use xlink:href=\"#DejaVuSans-70\"/>\n       <use x=\"57.519531\" xlink:href=\"#DejaVuSans-73\"/>\n      </g>\n     </g>\n    </g>\n    <g id=\"xtick_3\">\n     <g id=\"line2d_3\">\n      <g>\n       <use style=\"stroke:#000000;stroke-width:0.8;\" x=\"117.71274\" xlink:href=\"#m6b6dcff1e5\" y=\"224.64\"/>\n      </g>\n     </g>\n     <g id=\"text_3\">\n      <!-- IT -->\n      <g transform=\"translate(113.183834 239.238437)scale(0.1 -0.1)\">\n       <defs>\n        <path d=\"M -0.296875 72.90625 \nL 61.375 72.90625 \nL 61.375 64.59375 \nL 35.5 64.59375 \nL 35.5 0 \nL 25.59375 0 \nL 25.59375 64.59375 \nL -0.296875 64.59375 \nz\n\" id=\"DejaVuSans-84\"/>\n       </defs>\n       <use xlink:href=\"#DejaVuSans-73\"/>\n       <use x=\"29.492188\" xlink:href=\"#DejaVuSans-84\"/>\n      </g>\n     </g>\n    </g>\n    <g id=\"xtick_4\">\n     <g id=\"line2d_4\">\n      <g>\n       <use style=\"stroke:#000000;stroke-width:0.8;\" x=\"143.466587\" xlink:href=\"#m6b6dcff1e5\" y=\"224.64\"/>\n      </g>\n     </g>\n     <g id=\"text_4\">\n      <!-- LT -->\n      <g transform=\"translate(138.314243 239.238437)scale(0.1 -0.1)\">\n       <defs>\n        <path d=\"M 9.8125 72.90625 \nL 19.671875 72.90625 \nL 19.671875 8.296875 \nL 55.171875 8.296875 \nL 55.171875 0 \nL 9.8125 0 \nz\n\" id=\"DejaVuSans-76\"/>\n       </defs>\n       <use xlink:href=\"#DejaVuSans-76\"/>\n       <use x=\"41.962891\" xlink:href=\"#DejaVuSans-84\"/>\n      </g>\n     </g>\n    </g>\n    <g id=\"xtick_5\">\n     <g id=\"line2d_5\">\n      <g>\n       <use style=\"stroke:#000000;stroke-width:0.8;\" x=\"169.220433\" xlink:href=\"#m6b6dcff1e5\" y=\"224.64\"/>\n      </g>\n     </g>\n     <g id=\"text_5\">\n      <!-- HU -->\n      <g transform=\"translate(161.800901 239.238437)scale(0.1 -0.1)\">\n       <defs>\n        <path d=\"M 9.8125 72.90625 \nL 19.671875 72.90625 \nL 19.671875 43.015625 \nL 55.515625 43.015625 \nL 55.515625 72.90625 \nL 65.375 72.90625 \nL 65.375 0 \nL 55.515625 0 \nL 55.515625 34.71875 \nL 19.671875 34.71875 \nL 19.671875 0 \nL 9.8125 0 \nz\n\" id=\"DejaVuSans-72\"/>\n        <path d=\"M 8.6875 72.90625 \nL 18.609375 72.90625 \nL 18.609375 28.609375 \nQ 18.609375 16.890625 22.84375 11.734375 \nQ 27.09375 6.59375 36.625 6.59375 \nQ 46.09375 6.59375 50.34375 11.734375 \nQ 54.59375 16.890625 54.59375 28.609375 \nL 54.59375 72.90625 \nL 64.5 72.90625 \nL 64.5 27.390625 \nQ 64.5 13.140625 57.4375 5.859375 \nQ 50.390625 -1.421875 36.625 -1.421875 \nQ 22.796875 -1.421875 15.734375 5.859375 \nQ 8.6875 13.140625 8.6875 27.390625 \nz\n\" id=\"DejaVuSans-85\"/>\n       </defs>\n       <use xlink:href=\"#DejaVuSans-72\"/>\n       <use x=\"75.195312\" xlink:href=\"#DejaVuSans-85\"/>\n      </g>\n     </g>\n    </g>\n    <g id=\"xtick_6\">\n     <g id=\"line2d_6\">\n      <g>\n       <use style=\"stroke:#000000;stroke-width:0.8;\" x=\"194.974279\" xlink:href=\"#m6b6dcff1e5\" y=\"224.64\"/>\n      </g>\n     </g>\n     <g id=\"text_6\">\n      <!-- BE -->\n      <g transform=\"translate(188.384435 239.238437)scale(0.1 -0.1)\">\n       <defs>\n        <path d=\"M 19.671875 34.8125 \nL 19.671875 8.109375 \nL 35.5 8.109375 \nQ 43.453125 8.109375 47.28125 11.40625 \nQ 51.125 14.703125 51.125 21.484375 \nQ 51.125 28.328125 47.28125 31.5625 \nQ 43.453125 34.8125 35.5 34.8125 \nz\nM 19.671875 64.796875 \nL 19.671875 42.828125 \nL 34.28125 42.828125 \nQ 41.5 42.828125 45.03125 45.53125 \nQ 48.578125 48.25 48.578125 53.8125 \nQ 48.578125 59.328125 45.03125 62.0625 \nQ 41.5 64.796875 34.28125 64.796875 \nz\nM 9.8125 72.90625 \nL 35.015625 72.90625 \nQ 46.296875 72.90625 52.390625 68.21875 \nQ 58.5 63.53125 58.5 54.890625 \nQ 58.5 48.1875 55.375 44.234375 \nQ 52.25 40.28125 46.1875 39.3125 \nQ 53.46875 37.75 57.5 32.78125 \nQ 61.53125 27.828125 61.53125 20.40625 \nQ 61.53125 10.640625 54.890625 5.3125 \nQ 48.25 0 35.984375 0 \nL 9.8125 0 \nz\n\" id=\"DejaVuSans-66\"/>\n        <path d=\"M 9.8125 72.90625 \nL 55.90625 72.90625 \nL 55.90625 64.59375 \nL 19.671875 64.59375 \nL 19.671875 43.015625 \nL 54.390625 43.015625 \nL 54.390625 34.71875 \nL 19.671875 34.71875 \nL 19.671875 8.296875 \nL 56.78125 8.296875 \nL 56.78125 0 \nL 9.8125 0 \nz\n\" id=\"DejaVuSans-69\"/>\n       </defs>\n       <use xlink:href=\"#DejaVuSans-66\"/>\n       <use x=\"68.603516\" xlink:href=\"#DejaVuSans-69\"/>\n      </g>\n     </g>\n    </g>\n    <g id=\"xtick_7\">\n     <g id=\"line2d_7\">\n      <g>\n       <use style=\"stroke:#000000;stroke-width:0.8;\" x=\"220.728125\" xlink:href=\"#m6b6dcff1e5\" y=\"224.64\"/>\n      </g>\n     </g>\n     <g id=\"text_7\">\n      <!-- PL -->\n      <g transform=\"translate(214.927344 239.238437)scale(0.1 -0.1)\">\n       <defs>\n        <path d=\"M 19.671875 64.796875 \nL 19.671875 37.40625 \nL 32.078125 37.40625 \nQ 38.96875 37.40625 42.71875 40.96875 \nQ 46.484375 44.53125 46.484375 51.125 \nQ 46.484375 57.671875 42.71875 61.234375 \nQ 38.96875 64.796875 32.078125 64.796875 \nz\nM 9.8125 72.90625 \nL 32.078125 72.90625 \nQ 44.34375 72.90625 50.609375 67.359375 \nQ 56.890625 61.8125 56.890625 51.125 \nQ 56.890625 40.328125 50.609375 34.8125 \nQ 44.34375 29.296875 32.078125 29.296875 \nL 19.671875 29.296875 \nL 19.671875 0 \nL 9.8125 0 \nz\n\" id=\"DejaVuSans-80\"/>\n       </defs>\n       <use xlink:href=\"#DejaVuSans-80\"/>\n       <use x=\"60.302734\" xlink:href=\"#DejaVuSans-76\"/>\n      </g>\n     </g>\n    </g>\n    <g id=\"xtick_8\">\n     <g id=\"line2d_8\">\n      <g>\n       <use style=\"stroke:#000000;stroke-width:0.8;\" x=\"246.481971\" xlink:href=\"#m6b6dcff1e5\" y=\"224.64\"/>\n      </g>\n     </g>\n     <g id=\"text_8\">\n      <!-- SE -->\n      <g transform=\"translate(240.148377 239.238437)scale(0.1 -0.1)\">\n       <defs>\n        <path d=\"M 53.515625 70.515625 \nL 53.515625 60.890625 \nQ 47.90625 63.578125 42.921875 64.890625 \nQ 37.9375 66.21875 33.296875 66.21875 \nQ 25.25 66.21875 20.875 63.09375 \nQ 16.5 59.96875 16.5 54.203125 \nQ 16.5 49.359375 19.40625 46.890625 \nQ 22.3125 44.4375 30.421875 42.921875 \nL 36.375 41.703125 \nQ 47.40625 39.59375 52.65625 34.296875 \nQ 57.90625 29 57.90625 20.125 \nQ 57.90625 9.515625 50.796875 4.046875 \nQ 43.703125 -1.421875 29.984375 -1.421875 \nQ 24.8125 -1.421875 18.96875 -0.25 \nQ 13.140625 0.921875 6.890625 3.21875 \nL 6.890625 13.375 \nQ 12.890625 10.015625 18.65625 8.296875 \nQ 24.421875 6.59375 29.984375 6.59375 \nQ 38.421875 6.59375 43.015625 9.90625 \nQ 47.609375 13.234375 47.609375 19.390625 \nQ 47.609375 24.75 44.3125 27.78125 \nQ 41.015625 30.8125 33.5 32.328125 \nL 27.484375 33.5 \nQ 16.453125 35.6875 11.515625 40.375 \nQ 6.59375 45.0625 6.59375 53.421875 \nQ 6.59375 63.09375 13.40625 68.65625 \nQ 20.21875 74.21875 32.171875 74.21875 \nQ 37.3125 74.21875 42.625 73.28125 \nQ 47.953125 72.359375 53.515625 70.515625 \nz\n\" id=\"DejaVuSans-83\"/>\n       </defs>\n       <use xlink:href=\"#DejaVuSans-83\"/>\n       <use x=\"63.476562\" xlink:href=\"#DejaVuSans-69\"/>\n      </g>\n     </g>\n    </g>\n    <g id=\"xtick_9\">\n     <g id=\"line2d_9\">\n      <g>\n       <use style=\"stroke:#000000;stroke-width:0.8;\" x=\"272.235817\" xlink:href=\"#m6b6dcff1e5\" y=\"224.64\"/>\n      </g>\n     </g>\n     <g id=\"text_9\">\n      <!-- ES -->\n      <g transform=\"translate(265.902224 239.238437)scale(0.1 -0.1)\">\n       <use xlink:href=\"#DejaVuSans-69\"/>\n       <use x=\"63.183594\" xlink:href=\"#DejaVuSans-83\"/>\n      </g>\n     </g>\n    </g>\n    <g id=\"xtick_10\">\n     <g id=\"line2d_10\">\n      <g>\n       <use style=\"stroke:#000000;stroke-width:0.8;\" x=\"297.989663\" xlink:href=\"#m6b6dcff1e5\" y=\"224.64\"/>\n      </g>\n     </g>\n     <g id=\"text_10\">\n      <!-- NL -->\n      <g transform=\"translate(291.463101 239.238437)scale(0.1 -0.1)\">\n       <defs>\n        <path d=\"M 9.8125 72.90625 \nL 23.09375 72.90625 \nL 55.421875 11.921875 \nL 55.421875 72.90625 \nL 64.984375 72.90625 \nL 64.984375 0 \nL 51.703125 0 \nL 19.390625 60.984375 \nL 19.390625 0 \nL 9.8125 0 \nz\n\" id=\"DejaVuSans-78\"/>\n       </defs>\n       <use xlink:href=\"#DejaVuSans-78\"/>\n       <use x=\"74.804688\" xlink:href=\"#DejaVuSans-76\"/>\n      </g>\n     </g>\n    </g>\n    <g id=\"xtick_11\">\n     <g id=\"line2d_11\">\n      <g>\n       <use style=\"stroke:#000000;stroke-width:0.8;\" x=\"323.74351\" xlink:href=\"#m6b6dcff1e5\" y=\"224.64\"/>\n      </g>\n     </g>\n     <g id=\"text_11\">\n      <!-- LU -->\n      <g transform=\"translate(317.548197 239.238437)scale(0.1 -0.1)\">\n       <use xlink:href=\"#DejaVuSans-76\"/>\n       <use x=\"50.712891\" xlink:href=\"#DejaVuSans-85\"/>\n      </g>\n     </g>\n    </g>\n    <g id=\"xtick_12\">\n     <g id=\"line2d_12\">\n      <g>\n       <use style=\"stroke:#000000;stroke-width:0.8;\" x=\"349.497356\" xlink:href=\"#m6b6dcff1e5\" y=\"224.64\"/>\n      </g>\n     </g>\n     <g id=\"text_12\">\n      <!-- GB -->\n      <g transform=\"translate(342.192668 239.238437)scale(0.1 -0.1)\">\n       <defs>\n        <path d=\"M 59.515625 10.40625 \nL 59.515625 29.984375 \nL 43.40625 29.984375 \nL 43.40625 38.09375 \nL 69.28125 38.09375 \nL 69.28125 6.78125 \nQ 63.578125 2.734375 56.6875 0.65625 \nQ 49.8125 -1.421875 42 -1.421875 \nQ 24.90625 -1.421875 15.25 8.5625 \nQ 5.609375 18.5625 5.609375 36.375 \nQ 5.609375 54.25 15.25 64.234375 \nQ 24.90625 74.21875 42 74.21875 \nQ 49.125 74.21875 55.546875 72.453125 \nQ 61.96875 70.703125 67.390625 67.28125 \nL 67.390625 56.78125 \nQ 61.921875 61.421875 55.765625 63.765625 \nQ 49.609375 66.109375 42.828125 66.109375 \nQ 29.4375 66.109375 22.71875 58.640625 \nQ 16.015625 51.171875 16.015625 36.375 \nQ 16.015625 21.625 22.71875 14.15625 \nQ 29.4375 6.6875 42.828125 6.6875 \nQ 48.046875 6.6875 52.140625 7.59375 \nQ 56.25 8.5 59.515625 10.40625 \nz\n\" id=\"DejaVuSans-71\"/>\n       </defs>\n       <use xlink:href=\"#DejaVuSans-71\"/>\n       <use x=\"77.490234\" xlink:href=\"#DejaVuSans-66\"/>\n      </g>\n     </g>\n    </g>\n    <g id=\"xtick_13\">\n     <g id=\"line2d_13\">\n      <g>\n       <use style=\"stroke:#000000;stroke-width:0.8;\" x=\"375.251202\" xlink:href=\"#m6b6dcff1e5\" y=\"224.64\"/>\n      </g>\n     </g>\n     <g id=\"text_13\">\n      <!-- GR -->\n      <g transform=\"translate(367.902764 239.238437)scale(0.1 -0.1)\">\n       <use xlink:href=\"#DejaVuSans-71\"/>\n       <use x=\"77.490234\" xlink:href=\"#DejaVuSans-82\"/>\n      </g>\n     </g>\n    </g>\n    <g id=\"text_14\">\n     <!-- Region -->\n     <g transform=\"translate(203.610938 252.916562)scale(0.1 -0.1)\">\n      <defs>\n       <path d=\"M 56.203125 29.59375 \nL 56.203125 25.203125 \nL 14.890625 25.203125 \nQ 15.484375 15.921875 20.484375 11.0625 \nQ 25.484375 6.203125 34.421875 6.203125 \nQ 39.59375 6.203125 44.453125 7.46875 \nQ 49.3125 8.734375 54.109375 11.28125 \nL 54.109375 2.78125 \nQ 49.265625 0.734375 44.1875 -0.34375 \nQ 39.109375 -1.421875 33.890625 -1.421875 \nQ 20.796875 -1.421875 13.15625 6.1875 \nQ 5.515625 13.8125 5.515625 26.8125 \nQ 5.515625 40.234375 12.765625 48.109375 \nQ 20.015625 56 32.328125 56 \nQ 43.359375 56 49.78125 48.890625 \nQ 56.203125 41.796875 56.203125 29.59375 \nz\nM 47.21875 32.234375 \nQ 47.125 39.59375 43.09375 43.984375 \nQ 39.0625 48.390625 32.421875 48.390625 \nQ 24.90625 48.390625 20.390625 44.140625 \nQ 15.875 39.890625 15.1875 32.171875 \nz\n\" id=\"DejaVuSans-101\"/>\n       <path d=\"M 45.40625 27.984375 \nQ 45.40625 37.75 41.375 43.109375 \nQ 37.359375 48.484375 30.078125 48.484375 \nQ 22.859375 48.484375 18.828125 43.109375 \nQ 14.796875 37.75 14.796875 27.984375 \nQ 14.796875 18.265625 18.828125 12.890625 \nQ 22.859375 7.515625 30.078125 7.515625 \nQ 37.359375 7.515625 41.375 12.890625 \nQ 45.40625 18.265625 45.40625 27.984375 \nz\nM 54.390625 6.78125 \nQ 54.390625 -7.171875 48.1875 -13.984375 \nQ 42 -20.796875 29.203125 -20.796875 \nQ 24.46875 -20.796875 20.265625 -20.09375 \nQ 16.0625 -19.390625 12.109375 -17.921875 \nL 12.109375 -9.1875 \nQ 16.0625 -11.328125 19.921875 -12.34375 \nQ 23.78125 -13.375 27.78125 -13.375 \nQ 36.625 -13.375 41.015625 -8.765625 \nQ 45.40625 -4.15625 45.40625 5.171875 \nL 45.40625 9.625 \nQ 42.625 4.78125 38.28125 2.390625 \nQ 33.9375 0 27.875 0 \nQ 17.828125 0 11.671875 7.65625 \nQ 5.515625 15.328125 5.515625 27.984375 \nQ 5.515625 40.671875 11.671875 48.328125 \nQ 17.828125 56 27.875 56 \nQ 33.9375 56 38.28125 53.609375 \nQ 42.625 51.21875 45.40625 46.390625 \nL 45.40625 54.6875 \nL 54.390625 54.6875 \nz\n\" id=\"DejaVuSans-103\"/>\n       <path d=\"M 9.421875 54.6875 \nL 18.40625 54.6875 \nL 18.40625 0 \nL 9.421875 0 \nz\nM 9.421875 75.984375 \nL 18.40625 75.984375 \nL 18.40625 64.59375 \nL 9.421875 64.59375 \nz\n\" id=\"DejaVuSans-105\"/>\n       <path d=\"M 30.609375 48.390625 \nQ 23.390625 48.390625 19.1875 42.75 \nQ 14.984375 37.109375 14.984375 27.296875 \nQ 14.984375 17.484375 19.15625 11.84375 \nQ 23.34375 6.203125 30.609375 6.203125 \nQ 37.796875 6.203125 41.984375 11.859375 \nQ 46.1875 17.53125 46.1875 27.296875 \nQ 46.1875 37.015625 41.984375 42.703125 \nQ 37.796875 48.390625 30.609375 48.390625 \nz\nM 30.609375 56 \nQ 42.328125 56 49.015625 48.375 \nQ 55.71875 40.765625 55.71875 27.296875 \nQ 55.71875 13.875 49.015625 6.21875 \nQ 42.328125 -1.421875 30.609375 -1.421875 \nQ 18.84375 -1.421875 12.171875 6.21875 \nQ 5.515625 13.875 5.515625 27.296875 \nQ 5.515625 40.765625 12.171875 48.375 \nQ 18.84375 56 30.609375 56 \nz\n\" id=\"DejaVuSans-111\"/>\n       <path d=\"M 54.890625 33.015625 \nL 54.890625 0 \nL 45.90625 0 \nL 45.90625 32.71875 \nQ 45.90625 40.484375 42.875 44.328125 \nQ 39.84375 48.1875 33.796875 48.1875 \nQ 26.515625 48.1875 22.3125 43.546875 \nQ 18.109375 38.921875 18.109375 30.90625 \nL 18.109375 0 \nL 9.078125 0 \nL 9.078125 54.6875 \nL 18.109375 54.6875 \nL 18.109375 46.1875 \nQ 21.34375 51.125 25.703125 53.5625 \nQ 30.078125 56 35.796875 56 \nQ 45.21875 56 50.046875 50.171875 \nQ 54.890625 44.34375 54.890625 33.015625 \nz\n\" id=\"DejaVuSans-110\"/>\n      </defs>\n      <use xlink:href=\"#DejaVuSans-82\"/>\n      <use x=\"64.982422\" xlink:href=\"#DejaVuSans-101\"/>\n      <use x=\"126.505859\" xlink:href=\"#DejaVuSans-103\"/>\n      <use x=\"189.982422\" xlink:href=\"#DejaVuSans-105\"/>\n      <use x=\"217.765625\" xlink:href=\"#DejaVuSans-111\"/>\n      <use x=\"278.947266\" xlink:href=\"#DejaVuSans-110\"/>\n     </g>\n    </g>\n   </g>\n   <g id=\"matplotlib.axis_2\">\n    <g id=\"ytick_1\">\n     <g id=\"line2d_14\">\n      <defs>\n       <path d=\"M 0 0 \nL -3.5 0 \n\" id=\"m8ca0f68bec\" style=\"stroke:#000000;stroke-width:0.8;\"/>\n      </defs>\n      <g>\n       <use style=\"stroke:#000000;stroke-width:0.8;\" x=\"53.328125\" xlink:href=\"#m8ca0f68bec\" y=\"224.64\"/>\n      </g>\n     </g>\n     <g id=\"text_15\">\n      <!-- 0 -->\n      <g transform=\"translate(39.965625 228.439219)scale(0.1 -0.1)\">\n       <defs>\n        <path d=\"M 31.78125 66.40625 \nQ 24.171875 66.40625 20.328125 58.90625 \nQ 16.5 51.421875 16.5 36.375 \nQ 16.5 21.390625 20.328125 13.890625 \nQ 24.171875 6.390625 31.78125 6.390625 \nQ 39.453125 6.390625 43.28125 13.890625 \nQ 47.125 21.390625 47.125 36.375 \nQ 47.125 51.421875 43.28125 58.90625 \nQ 39.453125 66.40625 31.78125 66.40625 \nz\nM 31.78125 74.21875 \nQ 44.046875 74.21875 50.515625 64.515625 \nQ 56.984375 54.828125 56.984375 36.375 \nQ 56.984375 17.96875 50.515625 8.265625 \nQ 44.046875 -1.421875 31.78125 -1.421875 \nQ 19.53125 -1.421875 13.0625 8.265625 \nQ 6.59375 17.96875 6.59375 36.375 \nQ 6.59375 54.828125 13.0625 64.515625 \nQ 19.53125 74.21875 31.78125 74.21875 \nz\n\" id=\"DejaVuSans-48\"/>\n       </defs>\n       <use xlink:href=\"#DejaVuSans-48\"/>\n      </g>\n     </g>\n    </g>\n    <g id=\"ytick_2\">\n     <g id=\"line2d_15\">\n      <g>\n       <use style=\"stroke:#000000;stroke-width:0.8;\" x=\"53.328125\" xlink:href=\"#m8ca0f68bec\" y=\"179.985399\"/>\n      </g>\n     </g>\n     <g id=\"text_16\">\n      <!-- 2000 -->\n      <g transform=\"translate(20.878125 183.784617)scale(0.1 -0.1)\">\n       <defs>\n        <path d=\"M 19.1875 8.296875 \nL 53.609375 8.296875 \nL 53.609375 0 \nL 7.328125 0 \nL 7.328125 8.296875 \nQ 12.9375 14.109375 22.625 23.890625 \nQ 32.328125 33.6875 34.8125 36.53125 \nQ 39.546875 41.84375 41.421875 45.53125 \nQ 43.3125 49.21875 43.3125 52.78125 \nQ 43.3125 58.59375 39.234375 62.25 \nQ 35.15625 65.921875 28.609375 65.921875 \nQ 23.96875 65.921875 18.8125 64.3125 \nQ 13.671875 62.703125 7.8125 59.421875 \nL 7.8125 69.390625 \nQ 13.765625 71.78125 18.9375 73 \nQ 24.125 74.21875 28.421875 74.21875 \nQ 39.75 74.21875 46.484375 68.546875 \nQ 53.21875 62.890625 53.21875 53.421875 \nQ 53.21875 48.921875 51.53125 44.890625 \nQ 49.859375 40.875 45.40625 35.40625 \nQ 44.1875 33.984375 37.640625 27.21875 \nQ 31.109375 20.453125 19.1875 8.296875 \nz\n\" id=\"DejaVuSans-50\"/>\n       </defs>\n       <use xlink:href=\"#DejaVuSans-50\"/>\n       <use x=\"63.623047\" xlink:href=\"#DejaVuSans-48\"/>\n       <use x=\"127.246094\" xlink:href=\"#DejaVuSans-48\"/>\n       <use x=\"190.869141\" xlink:href=\"#DejaVuSans-48\"/>\n      </g>\n     </g>\n    </g>\n    <g id=\"ytick_3\">\n     <g id=\"line2d_16\">\n      <g>\n       <use style=\"stroke:#000000;stroke-width:0.8;\" x=\"53.328125\" xlink:href=\"#m8ca0f68bec\" y=\"135.330797\"/>\n      </g>\n     </g>\n     <g id=\"text_17\">\n      <!-- 4000 -->\n      <g transform=\"translate(20.878125 139.130016)scale(0.1 -0.1)\">\n       <defs>\n        <path d=\"M 37.796875 64.3125 \nL 12.890625 25.390625 \nL 37.796875 25.390625 \nz\nM 35.203125 72.90625 \nL 47.609375 72.90625 \nL 47.609375 25.390625 \nL 58.015625 25.390625 \nL 58.015625 17.1875 \nL 47.609375 17.1875 \nL 47.609375 0 \nL 37.796875 0 \nL 37.796875 17.1875 \nL 4.890625 17.1875 \nL 4.890625 26.703125 \nz\n\" id=\"DejaVuSans-52\"/>\n       </defs>\n       <use xlink:href=\"#DejaVuSans-52\"/>\n       <use x=\"63.623047\" xlink:href=\"#DejaVuSans-48\"/>\n       <use x=\"127.246094\" xlink:href=\"#DejaVuSans-48\"/>\n       <use x=\"190.869141\" xlink:href=\"#DejaVuSans-48\"/>\n      </g>\n     </g>\n    </g>\n    <g id=\"ytick_4\">\n     <g id=\"line2d_17\">\n      <g>\n       <use style=\"stroke:#000000;stroke-width:0.8;\" x=\"53.328125\" xlink:href=\"#m8ca0f68bec\" y=\"90.676196\"/>\n      </g>\n     </g>\n     <g id=\"text_18\">\n      <!-- 6000 -->\n      <g transform=\"translate(20.878125 94.475414)scale(0.1 -0.1)\">\n       <defs>\n        <path d=\"M 33.015625 40.375 \nQ 26.375 40.375 22.484375 35.828125 \nQ 18.609375 31.296875 18.609375 23.390625 \nQ 18.609375 15.53125 22.484375 10.953125 \nQ 26.375 6.390625 33.015625 6.390625 \nQ 39.65625 6.390625 43.53125 10.953125 \nQ 47.40625 15.53125 47.40625 23.390625 \nQ 47.40625 31.296875 43.53125 35.828125 \nQ 39.65625 40.375 33.015625 40.375 \nz\nM 52.59375 71.296875 \nL 52.59375 62.3125 \nQ 48.875 64.0625 45.09375 64.984375 \nQ 41.3125 65.921875 37.59375 65.921875 \nQ 27.828125 65.921875 22.671875 59.328125 \nQ 17.53125 52.734375 16.796875 39.40625 \nQ 19.671875 43.65625 24.015625 45.921875 \nQ 28.375 48.1875 33.59375 48.1875 \nQ 44.578125 48.1875 50.953125 41.515625 \nQ 57.328125 34.859375 57.328125 23.390625 \nQ 57.328125 12.15625 50.6875 5.359375 \nQ 44.046875 -1.421875 33.015625 -1.421875 \nQ 20.359375 -1.421875 13.671875 8.265625 \nQ 6.984375 17.96875 6.984375 36.375 \nQ 6.984375 53.65625 15.1875 63.9375 \nQ 23.390625 74.21875 37.203125 74.21875 \nQ 40.921875 74.21875 44.703125 73.484375 \nQ 48.484375 72.75 52.59375 71.296875 \nz\n\" id=\"DejaVuSans-54\"/>\n       </defs>\n       <use xlink:href=\"#DejaVuSans-54\"/>\n       <use x=\"63.623047\" xlink:href=\"#DejaVuSans-48\"/>\n       <use x=\"127.246094\" xlink:href=\"#DejaVuSans-48\"/>\n       <use x=\"190.869141\" xlink:href=\"#DejaVuSans-48\"/>\n      </g>\n     </g>\n    </g>\n    <g id=\"ytick_5\">\n     <g id=\"line2d_18\">\n      <g>\n       <use style=\"stroke:#000000;stroke-width:0.8;\" x=\"53.328125\" xlink:href=\"#m8ca0f68bec\" y=\"46.021594\"/>\n      </g>\n     </g>\n     <g id=\"text_19\">\n      <!-- 8000 -->\n      <g transform=\"translate(20.878125 49.820813)scale(0.1 -0.1)\">\n       <defs>\n        <path d=\"M 31.78125 34.625 \nQ 24.75 34.625 20.71875 30.859375 \nQ 16.703125 27.09375 16.703125 20.515625 \nQ 16.703125 13.921875 20.71875 10.15625 \nQ 24.75 6.390625 31.78125 6.390625 \nQ 38.8125 6.390625 42.859375 10.171875 \nQ 46.921875 13.96875 46.921875 20.515625 \nQ 46.921875 27.09375 42.890625 30.859375 \nQ 38.875 34.625 31.78125 34.625 \nz\nM 21.921875 38.8125 \nQ 15.578125 40.375 12.03125 44.71875 \nQ 8.5 49.078125 8.5 55.328125 \nQ 8.5 64.0625 14.71875 69.140625 \nQ 20.953125 74.21875 31.78125 74.21875 \nQ 42.671875 74.21875 48.875 69.140625 \nQ 55.078125 64.0625 55.078125 55.328125 \nQ 55.078125 49.078125 51.53125 44.71875 \nQ 48 40.375 41.703125 38.8125 \nQ 48.828125 37.15625 52.796875 32.3125 \nQ 56.78125 27.484375 56.78125 20.515625 \nQ 56.78125 9.90625 50.3125 4.234375 \nQ 43.84375 -1.421875 31.78125 -1.421875 \nQ 19.734375 -1.421875 13.25 4.234375 \nQ 6.78125 9.90625 6.78125 20.515625 \nQ 6.78125 27.484375 10.78125 32.3125 \nQ 14.796875 37.15625 21.921875 38.8125 \nz\nM 18.3125 54.390625 \nQ 18.3125 48.734375 21.84375 45.5625 \nQ 25.390625 42.390625 31.78125 42.390625 \nQ 38.140625 42.390625 41.71875 45.5625 \nQ 45.3125 48.734375 45.3125 54.390625 \nQ 45.3125 60.0625 41.71875 63.234375 \nQ 38.140625 66.40625 31.78125 66.40625 \nQ 25.390625 66.40625 21.84375 63.234375 \nQ 18.3125 60.0625 18.3125 54.390625 \nz\n\" id=\"DejaVuSans-56\"/>\n       </defs>\n       <use xlink:href=\"#DejaVuSans-56\"/>\n       <use x=\"63.623047\" xlink:href=\"#DejaVuSans-48\"/>\n       <use x=\"127.246094\" xlink:href=\"#DejaVuSans-48\"/>\n       <use x=\"190.869141\" xlink:href=\"#DejaVuSans-48\"/>\n      </g>\n     </g>\n    </g>\n    <g id=\"text_20\">\n     <!-- count -->\n     <g transform=\"translate(14.798438 130.02625)rotate(-90)scale(0.1 -0.1)\">\n      <defs>\n       <path d=\"M 48.78125 52.59375 \nL 48.78125 44.1875 \nQ 44.96875 46.296875 41.140625 47.34375 \nQ 37.3125 48.390625 33.40625 48.390625 \nQ 24.65625 48.390625 19.8125 42.84375 \nQ 14.984375 37.3125 14.984375 27.296875 \nQ 14.984375 17.28125 19.8125 11.734375 \nQ 24.65625 6.203125 33.40625 6.203125 \nQ 37.3125 6.203125 41.140625 7.25 \nQ 44.96875 8.296875 48.78125 10.40625 \nL 48.78125 2.09375 \nQ 45.015625 0.34375 40.984375 -0.53125 \nQ 36.96875 -1.421875 32.421875 -1.421875 \nQ 20.0625 -1.421875 12.78125 6.34375 \nQ 5.515625 14.109375 5.515625 27.296875 \nQ 5.515625 40.671875 12.859375 48.328125 \nQ 20.21875 56 33.015625 56 \nQ 37.15625 56 41.109375 55.140625 \nQ 45.0625 54.296875 48.78125 52.59375 \nz\n\" id=\"DejaVuSans-99\"/>\n       <path d=\"M 8.5 21.578125 \nL 8.5 54.6875 \nL 17.484375 54.6875 \nL 17.484375 21.921875 \nQ 17.484375 14.15625 20.5 10.265625 \nQ 23.53125 6.390625 29.59375 6.390625 \nQ 36.859375 6.390625 41.078125 11.03125 \nQ 45.3125 15.671875 45.3125 23.6875 \nL 45.3125 54.6875 \nL 54.296875 54.6875 \nL 54.296875 0 \nL 45.3125 0 \nL 45.3125 8.40625 \nQ 42.046875 3.421875 37.71875 1 \nQ 33.40625 -1.421875 27.6875 -1.421875 \nQ 18.265625 -1.421875 13.375 4.4375 \nQ 8.5 10.296875 8.5 21.578125 \nz\nM 31.109375 56 \nz\n\" id=\"DejaVuSans-117\"/>\n       <path d=\"M 18.3125 70.21875 \nL 18.3125 54.6875 \nL 36.8125 54.6875 \nL 36.8125 47.703125 \nL 18.3125 47.703125 \nL 18.3125 18.015625 \nQ 18.3125 11.328125 20.140625 9.421875 \nQ 21.96875 7.515625 27.59375 7.515625 \nL 36.8125 7.515625 \nL 36.8125 0 \nL 27.59375 0 \nQ 17.1875 0 13.234375 3.875 \nQ 9.28125 7.765625 9.28125 18.015625 \nL 9.28125 47.703125 \nL 2.6875 47.703125 \nL 2.6875 54.6875 \nL 9.28125 54.6875 \nL 9.28125 70.21875 \nz\n\" id=\"DejaVuSans-116\"/>\n      </defs>\n      <use xlink:href=\"#DejaVuSans-99\"/>\n      <use x=\"54.980469\" xlink:href=\"#DejaVuSans-111\"/>\n      <use x=\"116.162109\" xlink:href=\"#DejaVuSans-117\"/>\n      <use x=\"179.541016\" xlink:href=\"#DejaVuSans-110\"/>\n      <use x=\"242.919922\" xlink:href=\"#DejaVuSans-116\"/>\n     </g>\n    </g>\n   </g>\n   <g id=\"patch_16\">\n    <path d=\"M 53.328125 224.64 \nL 53.328125 7.2 \n\" style=\"fill:none;stroke:#000000;stroke-linecap:square;stroke-linejoin:miter;stroke-width:0.8;\"/>\n   </g>\n   <g id=\"patch_17\">\n    <path d=\"M 388.128125 224.64 \nL 388.128125 7.2 \n\" style=\"fill:none;stroke:#000000;stroke-linecap:square;stroke-linejoin:miter;stroke-width:0.8;\"/>\n   </g>\n   <g id=\"patch_18\">\n    <path d=\"M 53.328125 224.64 \nL 388.128125 224.64 \n\" style=\"fill:none;stroke:#000000;stroke-linecap:square;stroke-linejoin:miter;stroke-width:0.8;\"/>\n   </g>\n   <g id=\"patch_19\">\n    <path d=\"M 53.328125 7.2 \nL 388.128125 7.2 \n\" style=\"fill:none;stroke:#000000;stroke-linecap:square;stroke-linejoin:miter;stroke-width:0.8;\"/>\n   </g>\n  </g>\n </g>\n <defs>\n  <clipPath id=\"p4076f953cc\">\n   <rect height=\"217.44\" width=\"334.8\" x=\"53.328125\" y=\"7.2\"/>\n  </clipPath>\n </defs>\n</svg>\n",
      "image/png": "[encoded data removed]"
     },
     "metadata": {
      "needs_background": "light"
     }
    }
   ],
   "source": [
    "sns.countplot(df_final_dropna.Region)"
   ]
  },
  {
   "cell_type": "code",
   "execution_count": 125,
   "metadata": {},
   "outputs": [
    {
     "output_type": "stream",
     "name": "stderr",
     "text": [
      "/Users/cetiners/opt/anaconda3/lib/python3.8/site-packages/seaborn/_decorators.py:36: FutureWarning: Pass the following variable as a keyword arg: x. From version 0.12, the only valid positional argument will be `data`, and passing other arguments without an explicit keyword will result in an error or misinterpretation.\n  warnings.warn(\n"
     ]
    },
    {
     "output_type": "execute_result",
     "data": {
      "text/plain": [
       "<AxesSubplot:xlabel='Region', ylabel='count'>"
      ]
     },
     "metadata": {},
     "execution_count": 125
    },
    {
     "output_type": "display_data",
     "data": {
      "text/plain": "<Figure size 432x288 with 1 Axes>",
      "image/svg+xml": "<?xml version=\"1.0\" encoding=\"utf-8\" standalone=\"no\"?>\n<!DOCTYPE svg PUBLIC \"-//W3C//DTD SVG 1.1//EN\"\n  \"http://www.w3.org/Graphics/SVG/1.1/DTD/svg11.dtd\">\n<!-- Created with matplotlib (https://matplotlib.org/) -->\n<svg height=\"262.19625pt\" version=\"1.1\" viewBox=\"0 0 395.328125 262.19625\" width=\"395.328125pt\" xmlns=\"http://www.w3.org/2000/svg\" xmlns:xlink=\"http://www.w3.org/1999/xlink\">\n <metadata>\n  <rdf:RDF xmlns:cc=\"http://creativecommons.org/ns#\" xmlns:dc=\"http://purl.org/dc/elements/1.1/\" xmlns:rdf=\"http://www.w3.org/1999/02/22-rdf-syntax-ns#\">\n   <cc:Work>\n    <dc:type rdf:resource=\"http://purl.org/dc/dcmitype/StillImage\"/>\n    <dc:date>2021-04-02T00:00:54.973051</dc:date>\n    <dc:format>image/svg+xml</dc:format>\n    <dc:creator>\n     <cc:Agent>\n      <dc:title>Matplotlib v3.3.2, https://matplotlib.org/</dc:title>\n     </cc:Agent>\n    </dc:creator>\n   </cc:Work>\n  </rdf:RDF>\n </metadata>\n <defs>\n  <style type=\"text/css\">*{stroke-linecap:butt;stroke-linejoin:round;}</style>\n </defs>\n <g id=\"figure_1\">\n  <g id=\"patch_1\">\n   <path d=\"M 0 262.19625 \nL 395.328125 262.19625 \nL 395.328125 0 \nL 0 0 \nz\n\" style=\"fill:none;\"/>\n  </g>\n  <g id=\"axes_1\">\n   <g id=\"patch_2\">\n    <path d=\"M 53.328125 224.64 \nL 388.128125 224.64 \nL 388.128125 7.2 \nL 53.328125 7.2 \nz\n\" style=\"fill:#ffffff;\"/>\n   </g>\n   <g id=\"patch_3\">\n    <path clip-path=\"url(#pde780a225e)\" d=\"M 54.849943 224.64 \nL 67.024489 224.64 \nL 67.024489 17.554286 \nL 54.849943 17.554286 \nz\n\" style=\"fill:#ea96a3;\"/>\n   </g>\n   <g id=\"patch_4\">\n    <path clip-path=\"url(#pde780a225e)\" d=\"M 70.068125 224.64 \nL 82.24267 224.64 \nL 82.24267 17.554286 \nL 70.068125 17.554286 \nz\n\" style=\"fill:#e89687;\"/>\n   </g>\n   <g id=\"patch_5\">\n    <path clip-path=\"url(#pde780a225e)\" d=\"M 85.286307 224.64 \nL 97.460852 224.64 \nL 97.460852 17.554286 \nL 85.286307 17.554286 \nz\n\" style=\"fill:#dc924e;\"/>\n   </g>\n   <g id=\"patch_6\">\n    <path clip-path=\"url(#pde780a225e)\" d=\"M 100.504489 224.64 \nL 112.679034 224.64 \nL 112.679034 56.068879 \nL 100.504489 56.068879 \nz\n\" style=\"fill:#c5994b;\"/>\n   </g>\n   <g id=\"patch_7\">\n    <path clip-path=\"url(#pde780a225e)\" d=\"M 115.72267 224.64 \nL 127.897216 224.64 \nL 127.897216 76.877924 \nL 115.72267 76.877924 \nz\n\" style=\"fill:#b39d48;\"/>\n   </g>\n   <g id=\"patch_8\">\n    <path clip-path=\"url(#pde780a225e)\" d=\"M 130.940852 224.64 \nL 143.115398 224.64 \nL 143.115398 17.554286 \nL 130.940852 17.554286 \nz\n\" style=\"fill:#a09f45;\"/>\n   </g>\n   <g id=\"patch_9\">\n    <path clip-path=\"url(#pde780a225e)\" d=\"M 146.159034 224.64 \nL 158.33358 224.64 \nL 158.33358 17.554286 \nL 146.159034 17.554286 \nz\n\" style=\"fill:#8ea546;\"/>\n   </g>\n   <g id=\"patch_10\">\n    <path clip-path=\"url(#pde780a225e)\" d=\"M 161.377216 224.64 \nL 173.551761 224.64 \nL 173.551761 17.554286 \nL 161.377216 17.554286 \nz\n\" style=\"fill:#71ac47;\"/>\n   </g>\n   <g id=\"patch_11\">\n    <path clip-path=\"url(#pde780a225e)\" d=\"M 176.595398 224.64 \nL 188.769943 224.64 \nL 188.769943 17.554286 \nL 176.595398 17.554286 \nz\n\" style=\"fill:#48b067;\"/>\n   </g>\n   <g id=\"patch_12\">\n    <path clip-path=\"url(#pde780a225e)\" d=\"M 191.81358 224.64 \nL 203.988125 224.64 \nL 203.988125 17.554286 \nL 191.81358 17.554286 \nz\n\" style=\"fill:#49ae87;\"/>\n   </g>\n   <g id=\"patch_13\">\n    <path clip-path=\"url(#pde780a225e)\" d=\"M 207.031761 224.64 \nL 219.206307 224.64 \nL 219.206307 17.554286 \nL 207.031761 17.554286 \nz\n\" style=\"fill:#4aac98;\"/>\n   </g>\n   <g id=\"patch_14\">\n    <path clip-path=\"url(#pde780a225e)\" d=\"M 222.249943 224.64 \nL 234.424489 224.64 \nL 234.424489 17.554286 \nL 222.249943 17.554286 \nz\n\" style=\"fill:#4baba4;\"/>\n   </g>\n   <g id=\"patch_15\">\n    <path clip-path=\"url(#pde780a225e)\" d=\"M 237.468125 224.64 \nL 249.64267 224.64 \nL 249.64267 17.554286 \nL 237.468125 17.554286 \nz\n\" style=\"fill:#4dabb0;\"/>\n   </g>\n   <g id=\"patch_16\">\n    <path clip-path=\"url(#pde780a225e)\" d=\"M 252.686307 224.64 \nL 264.860852 224.64 \nL 264.860852 17.554286 \nL 252.686307 17.554286 \nz\n\" style=\"fill:#50acbf;\"/>\n   </g>\n   <g id=\"patch_17\">\n    <path clip-path=\"url(#pde780a225e)\" d=\"M 267.904489 224.64 \nL 280.079034 224.64 \nL 280.079034 17.554286 \nL 267.904489 17.554286 \nz\n\" style=\"fill:#54acd3;\"/>\n   </g>\n   <g id=\"patch_18\">\n    <path clip-path=\"url(#pde780a225e)\" d=\"M 283.12267 224.64 \nL 295.297216 224.64 \nL 295.297216 17.554286 \nL 283.12267 17.554286 \nz\n\" style=\"fill:#82aee5;\"/>\n   </g>\n   <g id=\"patch_19\">\n    <path clip-path=\"url(#pde780a225e)\" d=\"M 298.340852 224.64 \nL 310.515398 224.64 \nL 310.515398 17.554286 \nL 298.340852 17.554286 \nz\n\" style=\"fill:#a9aceb;\"/>\n   </g>\n   <g id=\"patch_20\">\n    <path clip-path=\"url(#pde780a225e)\" d=\"M 313.559034 224.64 \nL 325.73358 224.64 \nL 325.73358 19.92098 \nL 313.559034 19.92098 \nz\n\" style=\"fill:#c1a2ea;\"/>\n   </g>\n   <g id=\"patch_21\">\n    <path clip-path=\"url(#pde780a225e)\" d=\"M 328.777216 224.64 \nL 340.951761 224.64 \nL 340.951761 135.55407 \nL 328.777216 135.55407 \nz\n\" style=\"fill:#d795e8;\"/>\n   </g>\n   <g id=\"patch_22\">\n    <path clip-path=\"url(#pde780a225e)\" d=\"M 343.995398 224.64 \nL 356.169943 224.64 \nL 356.169943 17.554286 \nL 343.995398 17.554286 \nz\n\" style=\"fill:#e78bdd;\"/>\n   </g>\n   <g id=\"patch_23\">\n    <path clip-path=\"url(#pde780a225e)\" d=\"M 359.21358 224.64 \nL 371.388125 224.64 \nL 371.388125 30.548775 \nL 359.21358 30.548775 \nz\n\" style=\"fill:#e88fc9;\"/>\n   </g>\n   <g id=\"patch_24\">\n    <path clip-path=\"url(#pde780a225e)\" d=\"M 374.431761 224.64 \nL 386.606307 224.64 \nL 386.606307 17.554286 \nL 374.431761 17.554286 \nz\n\" style=\"fill:#e993b7;\"/>\n   </g>\n   <g id=\"matplotlib.axis_1\">\n    <g id=\"xtick_1\">\n     <g id=\"line2d_1\">\n      <defs>\n       <path d=\"M 0 0 \nL 0 3.5 \n\" id=\"mb46253f578\" style=\"stroke:#000000;stroke-width:0.8;\"/>\n      </defs>\n      <g>\n       <use style=\"stroke:#000000;stroke-width:0.8;\" x=\"60.937216\" xlink:href=\"#mb46253f578\" y=\"224.64\"/>\n      </g>\n     </g>\n     <g id=\"text_1\">\n      <!-- FR -->\n      <g transform=\"translate(54.587216 239.238437)scale(0.1 -0.1)\">\n       <defs>\n        <path d=\"M 9.8125 72.90625 \nL 51.703125 72.90625 \nL 51.703125 64.59375 \nL 19.671875 64.59375 \nL 19.671875 43.109375 \nL 48.578125 43.109375 \nL 48.578125 34.8125 \nL 19.671875 34.8125 \nL 19.671875 0 \nL 9.8125 0 \nz\n\" id=\"DejaVuSans-70\"/>\n        <path d=\"M 44.390625 34.1875 \nQ 47.5625 33.109375 50.5625 29.59375 \nQ 53.5625 26.078125 56.59375 19.921875 \nL 66.609375 0 \nL 56 0 \nL 46.6875 18.703125 \nQ 43.0625 26.03125 39.671875 28.421875 \nQ 36.28125 30.8125 30.421875 30.8125 \nL 19.671875 30.8125 \nL 19.671875 0 \nL 9.8125 0 \nL 9.8125 72.90625 \nL 32.078125 72.90625 \nQ 44.578125 72.90625 50.734375 67.671875 \nQ 56.890625 62.453125 56.890625 51.90625 \nQ 56.890625 45.015625 53.6875 40.46875 \nQ 50.484375 35.9375 44.390625 34.1875 \nz\nM 19.671875 64.796875 \nL 19.671875 38.921875 \nL 32.078125 38.921875 \nQ 39.203125 38.921875 42.84375 42.21875 \nQ 46.484375 45.515625 46.484375 51.90625 \nQ 46.484375 58.296875 42.84375 61.546875 \nQ 39.203125 64.796875 32.078125 64.796875 \nz\n\" id=\"DejaVuSans-82\"/>\n       </defs>\n       <use xlink:href=\"#DejaVuSans-70\"/>\n       <use x=\"57.519531\" xlink:href=\"#DejaVuSans-82\"/>\n      </g>\n     </g>\n    </g>\n    <g id=\"xtick_2\">\n     <g id=\"line2d_2\">\n      <g>\n       <use style=\"stroke:#000000;stroke-width:0.8;\" x=\"76.155398\" xlink:href=\"#mb46253f578\" y=\"224.64\"/>\n      </g>\n     </g>\n     <g id=\"text_2\">\n      <!-- FI -->\n      <g transform=\"translate(71.804616 239.238437)scale(0.1 -0.1)\">\n       <defs>\n        <path d=\"M 9.8125 72.90625 \nL 19.671875 72.90625 \nL 19.671875 0 \nL 9.8125 0 \nz\n\" id=\"DejaVuSans-73\"/>\n       </defs>\n       <use xlink:href=\"#DejaVuSans-70\"/>\n       <use x=\"57.519531\" xlink:href=\"#DejaVuSans-73\"/>\n      </g>\n     </g>\n    </g>\n    <g id=\"xtick_3\">\n     <g id=\"line2d_3\">\n      <g>\n       <use style=\"stroke:#000000;stroke-width:0.8;\" x=\"91.37358\" xlink:href=\"#mb46253f578\" y=\"224.64\"/>\n      </g>\n     </g>\n     <g id=\"text_3\">\n      <!-- IT -->\n      <g transform=\"translate(86.844673 239.238437)scale(0.1 -0.1)\">\n       <defs>\n        <path d=\"M -0.296875 72.90625 \nL 61.375 72.90625 \nL 61.375 64.59375 \nL 35.5 64.59375 \nL 35.5 0 \nL 25.59375 0 \nL 25.59375 64.59375 \nL -0.296875 64.59375 \nz\n\" id=\"DejaVuSans-84\"/>\n       </defs>\n       <use xlink:href=\"#DejaVuSans-73\"/>\n       <use x=\"29.492188\" xlink:href=\"#DejaVuSans-84\"/>\n      </g>\n     </g>\n    </g>\n    <g id=\"xtick_4\">\n     <g id=\"line2d_4\">\n      <g>\n       <use style=\"stroke:#000000;stroke-width:0.8;\" x=\"106.591761\" xlink:href=\"#mb46253f578\" y=\"224.64\"/>\n      </g>\n     </g>\n     <g id=\"text_4\">\n      <!-- LT -->\n      <g transform=\"translate(101.439418 239.238437)scale(0.1 -0.1)\">\n       <defs>\n        <path d=\"M 9.8125 72.90625 \nL 19.671875 72.90625 \nL 19.671875 8.296875 \nL 55.171875 8.296875 \nL 55.171875 0 \nL 9.8125 0 \nz\n\" id=\"DejaVuSans-76\"/>\n       </defs>\n       <use xlink:href=\"#DejaVuSans-76\"/>\n       <use x=\"41.962891\" xlink:href=\"#DejaVuSans-84\"/>\n      </g>\n     </g>\n    </g>\n    <g id=\"xtick_5\">\n     <g id=\"line2d_5\">\n      <g>\n       <use style=\"stroke:#000000;stroke-width:0.8;\" x=\"121.809943\" xlink:href=\"#mb46253f578\" y=\"224.64\"/>\n      </g>\n     </g>\n     <g id=\"text_5\">\n      <!-- EE -->\n      <g transform=\"translate(115.491193 239.238437)scale(0.1 -0.1)\">\n       <defs>\n        <path d=\"M 9.8125 72.90625 \nL 55.90625 72.90625 \nL 55.90625 64.59375 \nL 19.671875 64.59375 \nL 19.671875 43.015625 \nL 54.390625 43.015625 \nL 54.390625 34.71875 \nL 19.671875 34.71875 \nL 19.671875 8.296875 \nL 56.78125 8.296875 \nL 56.78125 0 \nL 9.8125 0 \nz\n\" id=\"DejaVuSans-69\"/>\n       </defs>\n       <use xlink:href=\"#DejaVuSans-69\"/>\n       <use x=\"63.183594\" xlink:href=\"#DejaVuSans-69\"/>\n      </g>\n     </g>\n    </g>\n    <g id=\"xtick_6\">\n     <g id=\"line2d_6\">\n      <g>\n       <use style=\"stroke:#000000;stroke-width:0.8;\" x=\"137.028125\" xlink:href=\"#mb46253f578\" y=\"224.64\"/>\n      </g>\n     </g>\n     <g id=\"text_6\">\n      <!-- DE -->\n      <g transform=\"translate(130.01875 239.238437)scale(0.1 -0.1)\">\n       <defs>\n        <path d=\"M 19.671875 64.796875 \nL 19.671875 8.109375 \nL 31.59375 8.109375 \nQ 46.6875 8.109375 53.6875 14.9375 \nQ 60.6875 21.78125 60.6875 36.53125 \nQ 60.6875 51.171875 53.6875 57.984375 \nQ 46.6875 64.796875 31.59375 64.796875 \nz\nM 9.8125 72.90625 \nL 30.078125 72.90625 \nQ 51.265625 72.90625 61.171875 64.09375 \nQ 71.09375 55.28125 71.09375 36.53125 \nQ 71.09375 17.671875 61.125 8.828125 \nQ 51.171875 0 30.078125 0 \nL 9.8125 0 \nz\n\" id=\"DejaVuSans-68\"/>\n       </defs>\n       <use xlink:href=\"#DejaVuSans-68\"/>\n       <use x=\"77.001953\" xlink:href=\"#DejaVuSans-69\"/>\n      </g>\n     </g>\n    </g>\n    <g id=\"xtick_7\">\n     <g id=\"line2d_7\">\n      <g>\n       <use style=\"stroke:#000000;stroke-width:0.8;\" x=\"152.246307\" xlink:href=\"#mb46253f578\" y=\"224.64\"/>\n      </g>\n     </g>\n     <g id=\"text_7\">\n      <!-- HU -->\n      <g transform=\"translate(144.826776 239.238437)scale(0.1 -0.1)\">\n       <defs>\n        <path d=\"M 9.8125 72.90625 \nL 19.671875 72.90625 \nL 19.671875 43.015625 \nL 55.515625 43.015625 \nL 55.515625 72.90625 \nL 65.375 72.90625 \nL 65.375 0 \nL 55.515625 0 \nL 55.515625 34.71875 \nL 19.671875 34.71875 \nL 19.671875 0 \nL 9.8125 0 \nz\n\" id=\"DejaVuSans-72\"/>\n        <path d=\"M 8.6875 72.90625 \nL 18.609375 72.90625 \nL 18.609375 28.609375 \nQ 18.609375 16.890625 22.84375 11.734375 \nQ 27.09375 6.59375 36.625 6.59375 \nQ 46.09375 6.59375 50.34375 11.734375 \nQ 54.59375 16.890625 54.59375 28.609375 \nL 54.59375 72.90625 \nL 64.5 72.90625 \nL 64.5 27.390625 \nQ 64.5 13.140625 57.4375 5.859375 \nQ 50.390625 -1.421875 36.625 -1.421875 \nQ 22.796875 -1.421875 15.734375 5.859375 \nQ 8.6875 13.140625 8.6875 27.390625 \nz\n\" id=\"DejaVuSans-85\"/>\n       </defs>\n       <use xlink:href=\"#DejaVuSans-72\"/>\n       <use x=\"75.195312\" xlink:href=\"#DejaVuSans-85\"/>\n      </g>\n     </g>\n    </g>\n    <g id=\"xtick_8\">\n     <g id=\"line2d_8\">\n      <g>\n       <use style=\"stroke:#000000;stroke-width:0.8;\" x=\"167.464489\" xlink:href=\"#mb46253f578\" y=\"224.64\"/>\n      </g>\n     </g>\n     <g id=\"text_8\">\n      <!-- BE -->\n      <g transform=\"translate(160.874645 239.238437)scale(0.1 -0.1)\">\n       <defs>\n        <path d=\"M 19.671875 34.8125 \nL 19.671875 8.109375 \nL 35.5 8.109375 \nQ 43.453125 8.109375 47.28125 11.40625 \nQ 51.125 14.703125 51.125 21.484375 \nQ 51.125 28.328125 47.28125 31.5625 \nQ 43.453125 34.8125 35.5 34.8125 \nz\nM 19.671875 64.796875 \nL 19.671875 42.828125 \nL 34.28125 42.828125 \nQ 41.5 42.828125 45.03125 45.53125 \nQ 48.578125 48.25 48.578125 53.8125 \nQ 48.578125 59.328125 45.03125 62.0625 \nQ 41.5 64.796875 34.28125 64.796875 \nz\nM 9.8125 72.90625 \nL 35.015625 72.90625 \nQ 46.296875 72.90625 52.390625 68.21875 \nQ 58.5 63.53125 58.5 54.890625 \nQ 58.5 48.1875 55.375 44.234375 \nQ 52.25 40.28125 46.1875 39.3125 \nQ 53.46875 37.75 57.5 32.78125 \nQ 61.53125 27.828125 61.53125 20.40625 \nQ 61.53125 10.640625 54.890625 5.3125 \nQ 48.25 0 35.984375 0 \nL 9.8125 0 \nz\n\" id=\"DejaVuSans-66\"/>\n       </defs>\n       <use xlink:href=\"#DejaVuSans-66\"/>\n       <use x=\"68.603516\" xlink:href=\"#DejaVuSans-69\"/>\n      </g>\n     </g>\n    </g>\n    <g id=\"xtick_9\">\n     <g id=\"line2d_9\">\n      <g>\n       <use style=\"stroke:#000000;stroke-width:0.8;\" x=\"182.68267\" xlink:href=\"#mb46253f578\" y=\"224.64\"/>\n      </g>\n     </g>\n     <g id=\"text_9\">\n      <!-- DK -->\n      <g transform=\"translate(175.553764 239.238437)scale(0.1 -0.1)\">\n       <defs>\n        <path d=\"M 9.8125 72.90625 \nL 19.671875 72.90625 \nL 19.671875 42.09375 \nL 52.390625 72.90625 \nL 65.09375 72.90625 \nL 28.90625 38.921875 \nL 67.671875 0 \nL 54.6875 0 \nL 19.671875 35.109375 \nL 19.671875 0 \nL 9.8125 0 \nz\n\" id=\"DejaVuSans-75\"/>\n       </defs>\n       <use xlink:href=\"#DejaVuSans-68\"/>\n       <use x=\"77.001953\" xlink:href=\"#DejaVuSans-75\"/>\n      </g>\n     </g>\n    </g>\n    <g id=\"xtick_10\">\n     <g id=\"line2d_10\">\n      <g>\n       <use style=\"stroke:#000000;stroke-width:0.8;\" x=\"197.900852\" xlink:href=\"#mb46253f578\" y=\"224.64\"/>\n      </g>\n     </g>\n     <g id=\"text_10\">\n      <!-- PL -->\n      <g transform=\"translate(192.100071 239.238437)scale(0.1 -0.1)\">\n       <defs>\n        <path d=\"M 19.671875 64.796875 \nL 19.671875 37.40625 \nL 32.078125 37.40625 \nQ 38.96875 37.40625 42.71875 40.96875 \nQ 46.484375 44.53125 46.484375 51.125 \nQ 46.484375 57.671875 42.71875 61.234375 \nQ 38.96875 64.796875 32.078125 64.796875 \nz\nM 9.8125 72.90625 \nL 32.078125 72.90625 \nQ 44.34375 72.90625 50.609375 67.359375 \nQ 56.890625 61.8125 56.890625 51.125 \nQ 56.890625 40.328125 50.609375 34.8125 \nQ 44.34375 29.296875 32.078125 29.296875 \nL 19.671875 29.296875 \nL 19.671875 0 \nL 9.8125 0 \nz\n\" id=\"DejaVuSans-80\"/>\n       </defs>\n       <use xlink:href=\"#DejaVuSans-80\"/>\n       <use x=\"60.302734\" xlink:href=\"#DejaVuSans-76\"/>\n      </g>\n     </g>\n    </g>\n    <g id=\"xtick_11\">\n     <g id=\"line2d_11\">\n      <g>\n       <use style=\"stroke:#000000;stroke-width:0.8;\" x=\"213.119034\" xlink:href=\"#mb46253f578\" y=\"224.64\"/>\n      </g>\n     </g>\n     <g id=\"text_11\">\n      <!-- AT -->\n      <g transform=\"translate(207.032315 239.238437)scale(0.1 -0.1)\">\n       <defs>\n        <path d=\"M 34.1875 63.1875 \nL 20.796875 26.90625 \nL 47.609375 26.90625 \nz\nM 28.609375 72.90625 \nL 39.796875 72.90625 \nL 67.578125 0 \nL 57.328125 0 \nL 50.6875 18.703125 \nL 17.828125 18.703125 \nL 11.1875 0 \nL 0.78125 0 \nz\n\" id=\"DejaVuSans-65\"/>\n       </defs>\n       <use xlink:href=\"#DejaVuSans-65\"/>\n       <use x=\"60.658203\" xlink:href=\"#DejaVuSans-84\"/>\n      </g>\n     </g>\n    </g>\n    <g id=\"xtick_12\">\n     <g id=\"line2d_12\">\n      <g>\n       <use style=\"stroke:#000000;stroke-width:0.8;\" x=\"228.337216\" xlink:href=\"#mb46253f578\" y=\"224.64\"/>\n      </g>\n     </g>\n     <g id=\"text_12\">\n      <!-- PT -->\n      <g transform=\"translate(222.268466 239.238437)scale(0.1 -0.1)\">\n       <use xlink:href=\"#DejaVuSans-80\"/>\n       <use x=\"60.302734\" xlink:href=\"#DejaVuSans-84\"/>\n      </g>\n     </g>\n    </g>\n    <g id=\"xtick_13\">\n     <g id=\"line2d_13\">\n      <g>\n       <use style=\"stroke:#000000;stroke-width:0.8;\" x=\"243.555398\" xlink:href=\"#mb46253f578\" y=\"224.64\"/>\n      </g>\n     </g>\n     <g id=\"text_13\">\n      <!-- SE -->\n      <g transform=\"translate(237.221804 239.238437)scale(0.1 -0.1)\">\n       <defs>\n        <path d=\"M 53.515625 70.515625 \nL 53.515625 60.890625 \nQ 47.90625 63.578125 42.921875 64.890625 \nQ 37.9375 66.21875 33.296875 66.21875 \nQ 25.25 66.21875 20.875 63.09375 \nQ 16.5 59.96875 16.5 54.203125 \nQ 16.5 49.359375 19.40625 46.890625 \nQ 22.3125 44.4375 30.421875 42.921875 \nL 36.375 41.703125 \nQ 47.40625 39.59375 52.65625 34.296875 \nQ 57.90625 29 57.90625 20.125 \nQ 57.90625 9.515625 50.796875 4.046875 \nQ 43.703125 -1.421875 29.984375 -1.421875 \nQ 24.8125 -1.421875 18.96875 -0.25 \nQ 13.140625 0.921875 6.890625 3.21875 \nL 6.890625 13.375 \nQ 12.890625 10.015625 18.65625 8.296875 \nQ 24.421875 6.59375 29.984375 6.59375 \nQ 38.421875 6.59375 43.015625 9.90625 \nQ 47.609375 13.234375 47.609375 19.390625 \nQ 47.609375 24.75 44.3125 27.78125 \nQ 41.015625 30.8125 33.5 32.328125 \nL 27.484375 33.5 \nQ 16.453125 35.6875 11.515625 40.375 \nQ 6.59375 45.0625 6.59375 53.421875 \nQ 6.59375 63.09375 13.40625 68.65625 \nQ 20.21875 74.21875 32.171875 74.21875 \nQ 37.3125 74.21875 42.625 73.28125 \nQ 47.953125 72.359375 53.515625 70.515625 \nz\n\" id=\"DejaVuSans-83\"/>\n       </defs>\n       <use xlink:href=\"#DejaVuSans-83\"/>\n       <use x=\"63.476562\" xlink:href=\"#DejaVuSans-69\"/>\n      </g>\n     </g>\n    </g>\n    <g id=\"xtick_14\">\n     <g id=\"line2d_14\">\n      <g>\n       <use style=\"stroke:#000000;stroke-width:0.8;\" x=\"258.77358\" xlink:href=\"#mb46253f578\" y=\"224.64\"/>\n      </g>\n     </g>\n     <g id=\"text_14\">\n      <!-- ES -->\n      <g transform=\"translate(252.439986 239.238437)scale(0.1 -0.1)\">\n       <use xlink:href=\"#DejaVuSans-69\"/>\n       <use x=\"63.183594\" xlink:href=\"#DejaVuSans-83\"/>\n      </g>\n     </g>\n    </g>\n    <g id=\"xtick_15\">\n     <g id=\"line2d_15\">\n      <g>\n       <use style=\"stroke:#000000;stroke-width:0.8;\" x=\"273.991761\" xlink:href=\"#mb46253f578\" y=\"224.64\"/>\n      </g>\n     </g>\n     <g id=\"text_15\">\n      <!-- CZ -->\n      <g transform=\"translate(267.075355 239.238437)scale(0.1 -0.1)\">\n       <defs>\n        <path d=\"M 64.40625 67.28125 \nL 64.40625 56.890625 \nQ 59.421875 61.53125 53.78125 63.8125 \nQ 48.140625 66.109375 41.796875 66.109375 \nQ 29.296875 66.109375 22.65625 58.46875 \nQ 16.015625 50.828125 16.015625 36.375 \nQ 16.015625 21.96875 22.65625 14.328125 \nQ 29.296875 6.6875 41.796875 6.6875 \nQ 48.140625 6.6875 53.78125 8.984375 \nQ 59.421875 11.28125 64.40625 15.921875 \nL 64.40625 5.609375 \nQ 59.234375 2.09375 53.4375 0.328125 \nQ 47.65625 -1.421875 41.21875 -1.421875 \nQ 24.65625 -1.421875 15.125 8.703125 \nQ 5.609375 18.84375 5.609375 36.375 \nQ 5.609375 53.953125 15.125 64.078125 \nQ 24.65625 74.21875 41.21875 74.21875 \nQ 47.75 74.21875 53.53125 72.484375 \nQ 59.328125 70.75 64.40625 67.28125 \nz\n\" id=\"DejaVuSans-67\"/>\n        <path d=\"M 5.609375 72.90625 \nL 62.890625 72.90625 \nL 62.890625 65.375 \nL 16.796875 8.296875 \nL 64.015625 8.296875 \nL 64.015625 0 \nL 4.5 0 \nL 4.5 7.515625 \nL 50.59375 64.59375 \nL 5.609375 64.59375 \nz\n\" id=\"DejaVuSans-90\"/>\n       </defs>\n       <use xlink:href=\"#DejaVuSans-67\"/>\n       <use x=\"69.824219\" xlink:href=\"#DejaVuSans-90\"/>\n      </g>\n     </g>\n    </g>\n    <g id=\"xtick_16\">\n     <g id=\"line2d_16\">\n      <g>\n       <use style=\"stroke:#000000;stroke-width:0.8;\" x=\"289.209943\" xlink:href=\"#mb46253f578\" y=\"224.64\"/>\n      </g>\n     </g>\n     <g id=\"text_16\">\n      <!-- IE -->\n      <g transform=\"translate(284.575568 239.238437)scale(0.1 -0.1)\">\n       <use xlink:href=\"#DejaVuSans-73\"/>\n       <use x=\"29.492188\" xlink:href=\"#DejaVuSans-69\"/>\n      </g>\n     </g>\n    </g>\n    <g id=\"xtick_17\">\n     <g id=\"line2d_17\">\n      <g>\n       <use style=\"stroke:#000000;stroke-width:0.8;\" x=\"304.428125\" xlink:href=\"#mb46253f578\" y=\"224.64\"/>\n      </g>\n     </g>\n     <g id=\"text_17\">\n      <!-- NL -->\n      <g transform=\"translate(297.901563 239.238437)scale(0.1 -0.1)\">\n       <defs>\n        <path d=\"M 9.8125 72.90625 \nL 23.09375 72.90625 \nL 55.421875 11.921875 \nL 55.421875 72.90625 \nL 64.984375 72.90625 \nL 64.984375 0 \nL 51.703125 0 \nL 19.390625 60.984375 \nL 19.390625 0 \nL 9.8125 0 \nz\n\" id=\"DejaVuSans-78\"/>\n       </defs>\n       <use xlink:href=\"#DejaVuSans-78\"/>\n       <use x=\"74.804688\" xlink:href=\"#DejaVuSans-76\"/>\n      </g>\n     </g>\n    </g>\n    <g id=\"xtick_18\">\n     <g id=\"line2d_18\">\n      <g>\n       <use style=\"stroke:#000000;stroke-width:0.8;\" x=\"319.646307\" xlink:href=\"#mb46253f578\" y=\"224.64\"/>\n      </g>\n     </g>\n     <g id=\"text_18\">\n      <!-- SK -->\n      <g transform=\"translate(313.193182 239.238437)scale(0.1 -0.1)\">\n       <use xlink:href=\"#DejaVuSans-83\"/>\n       <use x=\"63.476562\" xlink:href=\"#DejaVuSans-75\"/>\n      </g>\n     </g>\n    </g>\n    <g id=\"xtick_19\">\n     <g id=\"line2d_19\">\n      <g>\n       <use style=\"stroke:#000000;stroke-width:0.8;\" x=\"334.864489\" xlink:href=\"#mb46253f578\" y=\"224.64\"/>\n      </g>\n     </g>\n     <g id=\"text_19\">\n      <!-- LU -->\n      <g transform=\"translate(328.669176 239.238437)scale(0.1 -0.1)\">\n       <use xlink:href=\"#DejaVuSans-76\"/>\n       <use x=\"50.712891\" xlink:href=\"#DejaVuSans-85\"/>\n      </g>\n     </g>\n    </g>\n    <g id=\"xtick_20\">\n     <g id=\"line2d_20\">\n      <g>\n       <use style=\"stroke:#000000;stroke-width:0.8;\" x=\"350.08267\" xlink:href=\"#mb46253f578\" y=\"224.64\"/>\n      </g>\n     </g>\n     <g id=\"text_20\">\n      <!-- GB -->\n      <g transform=\"translate(342.777983 239.238437)scale(0.1 -0.1)\">\n       <defs>\n        <path d=\"M 59.515625 10.40625 \nL 59.515625 29.984375 \nL 43.40625 29.984375 \nL 43.40625 38.09375 \nL 69.28125 38.09375 \nL 69.28125 6.78125 \nQ 63.578125 2.734375 56.6875 0.65625 \nQ 49.8125 -1.421875 42 -1.421875 \nQ 24.90625 -1.421875 15.25 8.5625 \nQ 5.609375 18.5625 5.609375 36.375 \nQ 5.609375 54.25 15.25 64.234375 \nQ 24.90625 74.21875 42 74.21875 \nQ 49.125 74.21875 55.546875 72.453125 \nQ 61.96875 70.703125 67.390625 67.28125 \nL 67.390625 56.78125 \nQ 61.921875 61.421875 55.765625 63.765625 \nQ 49.609375 66.109375 42.828125 66.109375 \nQ 29.4375 66.109375 22.71875 58.640625 \nQ 16.015625 51.171875 16.015625 36.375 \nQ 16.015625 21.625 22.71875 14.15625 \nQ 29.4375 6.6875 42.828125 6.6875 \nQ 48.046875 6.6875 52.140625 7.59375 \nQ 56.25 8.5 59.515625 10.40625 \nz\n\" id=\"DejaVuSans-71\"/>\n       </defs>\n       <use xlink:href=\"#DejaVuSans-71\"/>\n       <use x=\"77.490234\" xlink:href=\"#DejaVuSans-66\"/>\n      </g>\n     </g>\n    </g>\n    <g id=\"xtick_21\">\n     <g id=\"line2d_21\">\n      <g>\n       <use style=\"stroke:#000000;stroke-width:0.8;\" x=\"365.300852\" xlink:href=\"#mb46253f578\" y=\"224.64\"/>\n      </g>\n     </g>\n     <g id=\"text_21\">\n      <!-- LV -->\n      <g transform=\"translate(359.644602 239.238437)scale(0.1 -0.1)\">\n       <defs>\n        <path d=\"M 28.609375 0 \nL 0.78125 72.90625 \nL 11.078125 72.90625 \nL 34.1875 11.53125 \nL 57.328125 72.90625 \nL 67.578125 72.90625 \nL 39.796875 0 \nz\n\" id=\"DejaVuSans-86\"/>\n       </defs>\n       <use xlink:href=\"#DejaVuSans-76\"/>\n       <use x=\"44.712891\" xlink:href=\"#DejaVuSans-86\"/>\n      </g>\n     </g>\n    </g>\n    <g id=\"xtick_22\">\n     <g id=\"line2d_22\">\n      <g>\n       <use style=\"stroke:#000000;stroke-width:0.8;\" x=\"380.519034\" xlink:href=\"#mb46253f578\" y=\"224.64\"/>\n      </g>\n     </g>\n     <g id=\"text_22\">\n      <!-- GR -->\n      <g transform=\"translate(373.170597 239.238437)scale(0.1 -0.1)\">\n       <use xlink:href=\"#DejaVuSans-71\"/>\n       <use x=\"77.490234\" xlink:href=\"#DejaVuSans-82\"/>\n      </g>\n     </g>\n    </g>\n    <g id=\"text_23\">\n     <!-- Region -->\n     <g transform=\"translate(203.610938 252.916562)scale(0.1 -0.1)\">\n      <defs>\n       <path d=\"M 56.203125 29.59375 \nL 56.203125 25.203125 \nL 14.890625 25.203125 \nQ 15.484375 15.921875 20.484375 11.0625 \nQ 25.484375 6.203125 34.421875 6.203125 \nQ 39.59375 6.203125 44.453125 7.46875 \nQ 49.3125 8.734375 54.109375 11.28125 \nL 54.109375 2.78125 \nQ 49.265625 0.734375 44.1875 -0.34375 \nQ 39.109375 -1.421875 33.890625 -1.421875 \nQ 20.796875 -1.421875 13.15625 6.1875 \nQ 5.515625 13.8125 5.515625 26.8125 \nQ 5.515625 40.234375 12.765625 48.109375 \nQ 20.015625 56 32.328125 56 \nQ 43.359375 56 49.78125 48.890625 \nQ 56.203125 41.796875 56.203125 29.59375 \nz\nM 47.21875 32.234375 \nQ 47.125 39.59375 43.09375 43.984375 \nQ 39.0625 48.390625 32.421875 48.390625 \nQ 24.90625 48.390625 20.390625 44.140625 \nQ 15.875 39.890625 15.1875 32.171875 \nz\n\" id=\"DejaVuSans-101\"/>\n       <path d=\"M 45.40625 27.984375 \nQ 45.40625 37.75 41.375 43.109375 \nQ 37.359375 48.484375 30.078125 48.484375 \nQ 22.859375 48.484375 18.828125 43.109375 \nQ 14.796875 37.75 14.796875 27.984375 \nQ 14.796875 18.265625 18.828125 12.890625 \nQ 22.859375 7.515625 30.078125 7.515625 \nQ 37.359375 7.515625 41.375 12.890625 \nQ 45.40625 18.265625 45.40625 27.984375 \nz\nM 54.390625 6.78125 \nQ 54.390625 -7.171875 48.1875 -13.984375 \nQ 42 -20.796875 29.203125 -20.796875 \nQ 24.46875 -20.796875 20.265625 -20.09375 \nQ 16.0625 -19.390625 12.109375 -17.921875 \nL 12.109375 -9.1875 \nQ 16.0625 -11.328125 19.921875 -12.34375 \nQ 23.78125 -13.375 27.78125 -13.375 \nQ 36.625 -13.375 41.015625 -8.765625 \nQ 45.40625 -4.15625 45.40625 5.171875 \nL 45.40625 9.625 \nQ 42.625 4.78125 38.28125 2.390625 \nQ 33.9375 0 27.875 0 \nQ 17.828125 0 11.671875 7.65625 \nQ 5.515625 15.328125 5.515625 27.984375 \nQ 5.515625 40.671875 11.671875 48.328125 \nQ 17.828125 56 27.875 56 \nQ 33.9375 56 38.28125 53.609375 \nQ 42.625 51.21875 45.40625 46.390625 \nL 45.40625 54.6875 \nL 54.390625 54.6875 \nz\n\" id=\"DejaVuSans-103\"/>\n       <path d=\"M 9.421875 54.6875 \nL 18.40625 54.6875 \nL 18.40625 0 \nL 9.421875 0 \nz\nM 9.421875 75.984375 \nL 18.40625 75.984375 \nL 18.40625 64.59375 \nL 9.421875 64.59375 \nz\n\" id=\"DejaVuSans-105\"/>\n       <path d=\"M 30.609375 48.390625 \nQ 23.390625 48.390625 19.1875 42.75 \nQ 14.984375 37.109375 14.984375 27.296875 \nQ 14.984375 17.484375 19.15625 11.84375 \nQ 23.34375 6.203125 30.609375 6.203125 \nQ 37.796875 6.203125 41.984375 11.859375 \nQ 46.1875 17.53125 46.1875 27.296875 \nQ 46.1875 37.015625 41.984375 42.703125 \nQ 37.796875 48.390625 30.609375 48.390625 \nz\nM 30.609375 56 \nQ 42.328125 56 49.015625 48.375 \nQ 55.71875 40.765625 55.71875 27.296875 \nQ 55.71875 13.875 49.015625 6.21875 \nQ 42.328125 -1.421875 30.609375 -1.421875 \nQ 18.84375 -1.421875 12.171875 6.21875 \nQ 5.515625 13.875 5.515625 27.296875 \nQ 5.515625 40.765625 12.171875 48.375 \nQ 18.84375 56 30.609375 56 \nz\n\" id=\"DejaVuSans-111\"/>\n       <path d=\"M 54.890625 33.015625 \nL 54.890625 0 \nL 45.90625 0 \nL 45.90625 32.71875 \nQ 45.90625 40.484375 42.875 44.328125 \nQ 39.84375 48.1875 33.796875 48.1875 \nQ 26.515625 48.1875 22.3125 43.546875 \nQ 18.109375 38.921875 18.109375 30.90625 \nL 18.109375 0 \nL 9.078125 0 \nL 9.078125 54.6875 \nL 18.109375 54.6875 \nL 18.109375 46.1875 \nQ 21.34375 51.125 25.703125 53.5625 \nQ 30.078125 56 35.796875 56 \nQ 45.21875 56 50.046875 50.171875 \nQ 54.890625 44.34375 54.890625 33.015625 \nz\n\" id=\"DejaVuSans-110\"/>\n      </defs>\n      <use xlink:href=\"#DejaVuSans-82\"/>\n      <use x=\"64.982422\" xlink:href=\"#DejaVuSans-101\"/>\n      <use x=\"126.505859\" xlink:href=\"#DejaVuSans-103\"/>\n      <use x=\"189.982422\" xlink:href=\"#DejaVuSans-105\"/>\n      <use x=\"217.765625\" xlink:href=\"#DejaVuSans-111\"/>\n      <use x=\"278.947266\" xlink:href=\"#DejaVuSans-110\"/>\n     </g>\n    </g>\n   </g>\n   <g id=\"matplotlib.axis_2\">\n    <g id=\"ytick_1\">\n     <g id=\"line2d_23\">\n      <defs>\n       <path d=\"M 0 0 \nL -3.5 0 \n\" id=\"m600c1a9851\" style=\"stroke:#000000;stroke-width:0.8;\"/>\n      </defs>\n      <g>\n       <use style=\"stroke:#000000;stroke-width:0.8;\" x=\"53.328125\" xlink:href=\"#m600c1a9851\" y=\"224.64\"/>\n      </g>\n     </g>\n     <g id=\"text_24\">\n      <!-- 0 -->\n      <g transform=\"translate(39.965625 228.439219)scale(0.1 -0.1)\">\n       <defs>\n        <path d=\"M 31.78125 66.40625 \nQ 24.171875 66.40625 20.328125 58.90625 \nQ 16.5 51.421875 16.5 36.375 \nQ 16.5 21.390625 20.328125 13.890625 \nQ 24.171875 6.390625 31.78125 6.390625 \nQ 39.453125 6.390625 43.28125 13.890625 \nQ 47.125 21.390625 47.125 36.375 \nQ 47.125 51.421875 43.28125 58.90625 \nQ 39.453125 66.40625 31.78125 66.40625 \nz\nM 31.78125 74.21875 \nQ 44.046875 74.21875 50.515625 64.515625 \nQ 56.984375 54.828125 56.984375 36.375 \nQ 56.984375 17.96875 50.515625 8.265625 \nQ 44.046875 -1.421875 31.78125 -1.421875 \nQ 19.53125 -1.421875 13.0625 8.265625 \nQ 6.59375 17.96875 6.59375 36.375 \nQ 6.59375 54.828125 13.0625 64.515625 \nQ 19.53125 74.21875 31.78125 74.21875 \nz\n\" id=\"DejaVuSans-48\"/>\n       </defs>\n       <use xlink:href=\"#DejaVuSans-48\"/>\n      </g>\n     </g>\n    </g>\n    <g id=\"ytick_2\">\n     <g id=\"line2d_24\">\n      <g>\n       <use style=\"stroke:#000000;stroke-width:0.8;\" x=\"53.328125\" xlink:href=\"#m600c1a9851\" y=\"179.985399\"/>\n      </g>\n     </g>\n     <g id=\"text_25\">\n      <!-- 2000 -->\n      <g transform=\"translate(20.878125 183.784617)scale(0.1 -0.1)\">\n       <defs>\n        <path d=\"M 19.1875 8.296875 \nL 53.609375 8.296875 \nL 53.609375 0 \nL 7.328125 0 \nL 7.328125 8.296875 \nQ 12.9375 14.109375 22.625 23.890625 \nQ 32.328125 33.6875 34.8125 36.53125 \nQ 39.546875 41.84375 41.421875 45.53125 \nQ 43.3125 49.21875 43.3125 52.78125 \nQ 43.3125 58.59375 39.234375 62.25 \nQ 35.15625 65.921875 28.609375 65.921875 \nQ 23.96875 65.921875 18.8125 64.3125 \nQ 13.671875 62.703125 7.8125 59.421875 \nL 7.8125 69.390625 \nQ 13.765625 71.78125 18.9375 73 \nQ 24.125 74.21875 28.421875 74.21875 \nQ 39.75 74.21875 46.484375 68.546875 \nQ 53.21875 62.890625 53.21875 53.421875 \nQ 53.21875 48.921875 51.53125 44.890625 \nQ 49.859375 40.875 45.40625 35.40625 \nQ 44.1875 33.984375 37.640625 27.21875 \nQ 31.109375 20.453125 19.1875 8.296875 \nz\n\" id=\"DejaVuSans-50\"/>\n       </defs>\n       <use xlink:href=\"#DejaVuSans-50\"/>\n       <use x=\"63.623047\" xlink:href=\"#DejaVuSans-48\"/>\n       <use x=\"127.246094\" xlink:href=\"#DejaVuSans-48\"/>\n       <use x=\"190.869141\" xlink:href=\"#DejaVuSans-48\"/>\n      </g>\n     </g>\n    </g>\n    <g id=\"ytick_3\">\n     <g id=\"line2d_25\">\n      <g>\n       <use style=\"stroke:#000000;stroke-width:0.8;\" x=\"53.328125\" xlink:href=\"#m600c1a9851\" y=\"135.330797\"/>\n      </g>\n     </g>\n     <g id=\"text_26\">\n      <!-- 4000 -->\n      <g transform=\"translate(20.878125 139.130016)scale(0.1 -0.1)\">\n       <defs>\n        <path d=\"M 37.796875 64.3125 \nL 12.890625 25.390625 \nL 37.796875 25.390625 \nz\nM 35.203125 72.90625 \nL 47.609375 72.90625 \nL 47.609375 25.390625 \nL 58.015625 25.390625 \nL 58.015625 17.1875 \nL 47.609375 17.1875 \nL 47.609375 0 \nL 37.796875 0 \nL 37.796875 17.1875 \nL 4.890625 17.1875 \nL 4.890625 26.703125 \nz\n\" id=\"DejaVuSans-52\"/>\n       </defs>\n       <use xlink:href=\"#DejaVuSans-52\"/>\n       <use x=\"63.623047\" xlink:href=\"#DejaVuSans-48\"/>\n       <use x=\"127.246094\" xlink:href=\"#DejaVuSans-48\"/>\n       <use x=\"190.869141\" xlink:href=\"#DejaVuSans-48\"/>\n      </g>\n     </g>\n    </g>\n    <g id=\"ytick_4\">\n     <g id=\"line2d_26\">\n      <g>\n       <use style=\"stroke:#000000;stroke-width:0.8;\" x=\"53.328125\" xlink:href=\"#m600c1a9851\" y=\"90.676196\"/>\n      </g>\n     </g>\n     <g id=\"text_27\">\n      <!-- 6000 -->\n      <g transform=\"translate(20.878125 94.475414)scale(0.1 -0.1)\">\n       <defs>\n        <path d=\"M 33.015625 40.375 \nQ 26.375 40.375 22.484375 35.828125 \nQ 18.609375 31.296875 18.609375 23.390625 \nQ 18.609375 15.53125 22.484375 10.953125 \nQ 26.375 6.390625 33.015625 6.390625 \nQ 39.65625 6.390625 43.53125 10.953125 \nQ 47.40625 15.53125 47.40625 23.390625 \nQ 47.40625 31.296875 43.53125 35.828125 \nQ 39.65625 40.375 33.015625 40.375 \nz\nM 52.59375 71.296875 \nL 52.59375 62.3125 \nQ 48.875 64.0625 45.09375 64.984375 \nQ 41.3125 65.921875 37.59375 65.921875 \nQ 27.828125 65.921875 22.671875 59.328125 \nQ 17.53125 52.734375 16.796875 39.40625 \nQ 19.671875 43.65625 24.015625 45.921875 \nQ 28.375 48.1875 33.59375 48.1875 \nQ 44.578125 48.1875 50.953125 41.515625 \nQ 57.328125 34.859375 57.328125 23.390625 \nQ 57.328125 12.15625 50.6875 5.359375 \nQ 44.046875 -1.421875 33.015625 -1.421875 \nQ 20.359375 -1.421875 13.671875 8.265625 \nQ 6.984375 17.96875 6.984375 36.375 \nQ 6.984375 53.65625 15.1875 63.9375 \nQ 23.390625 74.21875 37.203125 74.21875 \nQ 40.921875 74.21875 44.703125 73.484375 \nQ 48.484375 72.75 52.59375 71.296875 \nz\n\" id=\"DejaVuSans-54\"/>\n       </defs>\n       <use xlink:href=\"#DejaVuSans-54\"/>\n       <use x=\"63.623047\" xlink:href=\"#DejaVuSans-48\"/>\n       <use x=\"127.246094\" xlink:href=\"#DejaVuSans-48\"/>\n       <use x=\"190.869141\" xlink:href=\"#DejaVuSans-48\"/>\n      </g>\n     </g>\n    </g>\n    <g id=\"ytick_5\">\n     <g id=\"line2d_27\">\n      <g>\n       <use style=\"stroke:#000000;stroke-width:0.8;\" x=\"53.328125\" xlink:href=\"#m600c1a9851\" y=\"46.021594\"/>\n      </g>\n     </g>\n     <g id=\"text_28\">\n      <!-- 8000 -->\n      <g transform=\"translate(20.878125 49.820813)scale(0.1 -0.1)\">\n       <defs>\n        <path d=\"M 31.78125 34.625 \nQ 24.75 34.625 20.71875 30.859375 \nQ 16.703125 27.09375 16.703125 20.515625 \nQ 16.703125 13.921875 20.71875 10.15625 \nQ 24.75 6.390625 31.78125 6.390625 \nQ 38.8125 6.390625 42.859375 10.171875 \nQ 46.921875 13.96875 46.921875 20.515625 \nQ 46.921875 27.09375 42.890625 30.859375 \nQ 38.875 34.625 31.78125 34.625 \nz\nM 21.921875 38.8125 \nQ 15.578125 40.375 12.03125 44.71875 \nQ 8.5 49.078125 8.5 55.328125 \nQ 8.5 64.0625 14.71875 69.140625 \nQ 20.953125 74.21875 31.78125 74.21875 \nQ 42.671875 74.21875 48.875 69.140625 \nQ 55.078125 64.0625 55.078125 55.328125 \nQ 55.078125 49.078125 51.53125 44.71875 \nQ 48 40.375 41.703125 38.8125 \nQ 48.828125 37.15625 52.796875 32.3125 \nQ 56.78125 27.484375 56.78125 20.515625 \nQ 56.78125 9.90625 50.3125 4.234375 \nQ 43.84375 -1.421875 31.78125 -1.421875 \nQ 19.734375 -1.421875 13.25 4.234375 \nQ 6.78125 9.90625 6.78125 20.515625 \nQ 6.78125 27.484375 10.78125 32.3125 \nQ 14.796875 37.15625 21.921875 38.8125 \nz\nM 18.3125 54.390625 \nQ 18.3125 48.734375 21.84375 45.5625 \nQ 25.390625 42.390625 31.78125 42.390625 \nQ 38.140625 42.390625 41.71875 45.5625 \nQ 45.3125 48.734375 45.3125 54.390625 \nQ 45.3125 60.0625 41.71875 63.234375 \nQ 38.140625 66.40625 31.78125 66.40625 \nQ 25.390625 66.40625 21.84375 63.234375 \nQ 18.3125 60.0625 18.3125 54.390625 \nz\n\" id=\"DejaVuSans-56\"/>\n       </defs>\n       <use xlink:href=\"#DejaVuSans-56\"/>\n       <use x=\"63.623047\" xlink:href=\"#DejaVuSans-48\"/>\n       <use x=\"127.246094\" xlink:href=\"#DejaVuSans-48\"/>\n       <use x=\"190.869141\" xlink:href=\"#DejaVuSans-48\"/>\n      </g>\n     </g>\n    </g>\n    <g id=\"text_29\">\n     <!-- count -->\n     <g transform=\"translate(14.798438 130.02625)rotate(-90)scale(0.1 -0.1)\">\n      <defs>\n       <path d=\"M 48.78125 52.59375 \nL 48.78125 44.1875 \nQ 44.96875 46.296875 41.140625 47.34375 \nQ 37.3125 48.390625 33.40625 48.390625 \nQ 24.65625 48.390625 19.8125 42.84375 \nQ 14.984375 37.3125 14.984375 27.296875 \nQ 14.984375 17.28125 19.8125 11.734375 \nQ 24.65625 6.203125 33.40625 6.203125 \nQ 37.3125 6.203125 41.140625 7.25 \nQ 44.96875 8.296875 48.78125 10.40625 \nL 48.78125 2.09375 \nQ 45.015625 0.34375 40.984375 -0.53125 \nQ 36.96875 -1.421875 32.421875 -1.421875 \nQ 20.0625 -1.421875 12.78125 6.34375 \nQ 5.515625 14.109375 5.515625 27.296875 \nQ 5.515625 40.671875 12.859375 48.328125 \nQ 20.21875 56 33.015625 56 \nQ 37.15625 56 41.109375 55.140625 \nQ 45.0625 54.296875 48.78125 52.59375 \nz\n\" id=\"DejaVuSans-99\"/>\n       <path d=\"M 8.5 21.578125 \nL 8.5 54.6875 \nL 17.484375 54.6875 \nL 17.484375 21.921875 \nQ 17.484375 14.15625 20.5 10.265625 \nQ 23.53125 6.390625 29.59375 6.390625 \nQ 36.859375 6.390625 41.078125 11.03125 \nQ 45.3125 15.671875 45.3125 23.6875 \nL 45.3125 54.6875 \nL 54.296875 54.6875 \nL 54.296875 0 \nL 45.3125 0 \nL 45.3125 8.40625 \nQ 42.046875 3.421875 37.71875 1 \nQ 33.40625 -1.421875 27.6875 -1.421875 \nQ 18.265625 -1.421875 13.375 4.4375 \nQ 8.5 10.296875 8.5 21.578125 \nz\nM 31.109375 56 \nz\n\" id=\"DejaVuSans-117\"/>\n       <path d=\"M 18.3125 70.21875 \nL 18.3125 54.6875 \nL 36.8125 54.6875 \nL 36.8125 47.703125 \nL 18.3125 47.703125 \nL 18.3125 18.015625 \nQ 18.3125 11.328125 20.140625 9.421875 \nQ 21.96875 7.515625 27.59375 7.515625 \nL 36.8125 7.515625 \nL 36.8125 0 \nL 27.59375 0 \nQ 17.1875 0 13.234375 3.875 \nQ 9.28125 7.765625 9.28125 18.015625 \nL 9.28125 47.703125 \nL 2.6875 47.703125 \nL 2.6875 54.6875 \nL 9.28125 54.6875 \nL 9.28125 70.21875 \nz\n\" id=\"DejaVuSans-116\"/>\n      </defs>\n      <use xlink:href=\"#DejaVuSans-99\"/>\n      <use x=\"54.980469\" xlink:href=\"#DejaVuSans-111\"/>\n      <use x=\"116.162109\" xlink:href=\"#DejaVuSans-117\"/>\n      <use x=\"179.541016\" xlink:href=\"#DejaVuSans-110\"/>\n      <use x=\"242.919922\" xlink:href=\"#DejaVuSans-116\"/>\n     </g>\n    </g>\n   </g>\n   <g id=\"patch_25\">\n    <path d=\"M 53.328125 224.64 \nL 53.328125 7.2 \n\" style=\"fill:none;stroke:#000000;stroke-linecap:square;stroke-linejoin:miter;stroke-width:0.8;\"/>\n   </g>\n   <g id=\"patch_26\">\n    <path d=\"M 388.128125 224.64 \nL 388.128125 7.2 \n\" style=\"fill:none;stroke:#000000;stroke-linecap:square;stroke-linejoin:miter;stroke-width:0.8;\"/>\n   </g>\n   <g id=\"patch_27\">\n    <path d=\"M 53.328125 224.64 \nL 388.128125 224.64 \n\" style=\"fill:none;stroke:#000000;stroke-linecap:square;stroke-linejoin:miter;stroke-width:0.8;\"/>\n   </g>\n   <g id=\"patch_28\">\n    <path d=\"M 53.328125 7.2 \nL 388.128125 7.2 \n\" style=\"fill:none;stroke:#000000;stroke-linecap:square;stroke-linejoin:miter;stroke-width:0.8;\"/>\n   </g>\n  </g>\n </g>\n <defs>\n  <clipPath id=\"pde780a225e\">\n   <rect height=\"217.44\" width=\"334.8\" x=\"53.328125\" y=\"7.2\"/>\n  </clipPath>\n </defs>\n</svg>\n",
      "image/png": "[encoded data removed]"
     },
     "metadata": {
      "needs_background": "light"
     }
    }
   ],
   "source": [
    "sns.countplot(df_final_agg.Region)"
   ]
  },
  {
   "cell_type": "code",
   "execution_count": 126,
   "metadata": {},
   "outputs": [],
   "source": [
    "df_final_dropna.to_csv(\"vdd_final_data_dropna.csv\")"
   ]
  },
  {
   "cell_type": "code",
   "execution_count": null,
   "metadata": {},
   "outputs": [],
   "source": []
  }
 ]
}